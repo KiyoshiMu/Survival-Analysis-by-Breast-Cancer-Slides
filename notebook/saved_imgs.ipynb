{
 "cells": [
  {
   "cell_type": "code",
   "execution_count": 2,
   "metadata": {},
   "outputs": [],
   "source": [
    "import pandas as pd\n",
    "import numpy as np\n",
    "import os\n",
    "import sys\n",
    "import pandas as pd\n",
    "sys.path.append('..')\n",
    "from tools import save_pickle"
   ]
  },
  {
   "cell_type": "markdown",
   "metadata": {},
   "source": [
    "### Search in real disk"
   ]
  },
  {
   "cell_type": "code",
   "execution_count": 3,
   "metadata": {},
   "outputs": [],
   "source": [
    "def case2path(x_p):\n",
    "    cur_dirs = os.listdir(x_p)\n",
    "    result = {}\n",
    "    for dir_n in cur_dirs:\n",
    "        case = dir_n[:12]\n",
    "        if case in result:\n",
    "            continue\n",
    "        result[case] = os.path.join(x_p, dir_n)\n",
    "    return pd.DataFrame.from_dict(result, orient='index', columns=['path'])\n",
    "\n",
    "def merge_table_creator(selected_p, target_p='../data/Target.xlsx'):\n",
    "    target = pd.read_excel(target_p)\n",
    "    case_path_df = case2path(selected_p)\n",
    "    merge_table = case_path_df.merge(target, left_index=True, right_on='sample')\n",
    "    print(len(merge_table)/len(target))\n",
    "    merge_table.reset_index(drop=True, inplace=True)\n",
    "    return merge_table"
   ]
  },
  {
   "cell_type": "code",
   "execution_count": 4,
   "metadata": {},
   "outputs": [
    {
     "ename": "FileNotFoundError",
     "evalue": "[WinError 3] The system cannot find the path specified: '../../selected/'",
     "output_type": "error",
     "traceback": [
      "\u001b[1;31m---------------------------------------------------------------------------\u001b[0m",
      "\u001b[1;31mFileNotFoundError\u001b[0m                         Traceback (most recent call last)",
      "\u001b[1;32m<ipython-input-4-9535193e12db>\u001b[0m in \u001b[0;36m<module>\u001b[1;34m\u001b[0m\n\u001b[1;32m----> 1\u001b[1;33m \u001b[0mmerge_table\u001b[0m \u001b[1;33m=\u001b[0m \u001b[0mmerge_table_creator\u001b[0m\u001b[1;33m(\u001b[0m\u001b[1;34m'../../selected/'\u001b[0m\u001b[1;33m)\u001b[0m\u001b[1;33m\u001b[0m\u001b[1;33m\u001b[0m\u001b[0m\n\u001b[0m",
      "\u001b[1;32m<ipython-input-3-b6b004277ce8>\u001b[0m in \u001b[0;36mmerge_table_creator\u001b[1;34m(selected_p, target_p)\u001b[0m\n\u001b[0;32m     11\u001b[0m \u001b[1;32mdef\u001b[0m \u001b[0mmerge_table_creator\u001b[0m\u001b[1;33m(\u001b[0m\u001b[0mselected_p\u001b[0m\u001b[1;33m,\u001b[0m \u001b[0mtarget_p\u001b[0m\u001b[1;33m=\u001b[0m\u001b[1;34m'../data/Target.xlsx'\u001b[0m\u001b[1;33m)\u001b[0m\u001b[1;33m:\u001b[0m\u001b[1;33m\u001b[0m\u001b[1;33m\u001b[0m\u001b[0m\n\u001b[0;32m     12\u001b[0m     \u001b[0mtarget\u001b[0m \u001b[1;33m=\u001b[0m \u001b[0mpd\u001b[0m\u001b[1;33m.\u001b[0m\u001b[0mread_excel\u001b[0m\u001b[1;33m(\u001b[0m\u001b[0mtarget_p\u001b[0m\u001b[1;33m)\u001b[0m\u001b[1;33m\u001b[0m\u001b[1;33m\u001b[0m\u001b[0m\n\u001b[1;32m---> 13\u001b[1;33m     \u001b[0mcase_path_df\u001b[0m \u001b[1;33m=\u001b[0m \u001b[0mcase2path\u001b[0m\u001b[1;33m(\u001b[0m\u001b[0mselected_p\u001b[0m\u001b[1;33m)\u001b[0m\u001b[1;33m\u001b[0m\u001b[1;33m\u001b[0m\u001b[0m\n\u001b[0m\u001b[0;32m     14\u001b[0m     \u001b[0mmerge_table\u001b[0m \u001b[1;33m=\u001b[0m \u001b[0mcase_path_df\u001b[0m\u001b[1;33m.\u001b[0m\u001b[0mmerge\u001b[0m\u001b[1;33m(\u001b[0m\u001b[0mtarget\u001b[0m\u001b[1;33m,\u001b[0m \u001b[0mleft_index\u001b[0m\u001b[1;33m=\u001b[0m\u001b[1;32mTrue\u001b[0m\u001b[1;33m,\u001b[0m \u001b[0mright_on\u001b[0m\u001b[1;33m=\u001b[0m\u001b[1;34m'sample'\u001b[0m\u001b[1;33m)\u001b[0m\u001b[1;33m\u001b[0m\u001b[1;33m\u001b[0m\u001b[0m\n\u001b[0;32m     15\u001b[0m     \u001b[0mprint\u001b[0m\u001b[1;33m(\u001b[0m\u001b[0mlen\u001b[0m\u001b[1;33m(\u001b[0m\u001b[0mmerge_table\u001b[0m\u001b[1;33m)\u001b[0m\u001b[1;33m/\u001b[0m\u001b[0mlen\u001b[0m\u001b[1;33m(\u001b[0m\u001b[0mtarget\u001b[0m\u001b[1;33m)\u001b[0m\u001b[1;33m)\u001b[0m\u001b[1;33m\u001b[0m\u001b[1;33m\u001b[0m\u001b[0m\n",
      "\u001b[1;32m<ipython-input-3-b6b004277ce8>\u001b[0m in \u001b[0;36mcase2path\u001b[1;34m(x_p)\u001b[0m\n\u001b[0;32m      1\u001b[0m \u001b[1;32mdef\u001b[0m \u001b[0mcase2path\u001b[0m\u001b[1;33m(\u001b[0m\u001b[0mx_p\u001b[0m\u001b[1;33m)\u001b[0m\u001b[1;33m:\u001b[0m\u001b[1;33m\u001b[0m\u001b[1;33m\u001b[0m\u001b[0m\n\u001b[1;32m----> 2\u001b[1;33m     \u001b[0mcur_dirs\u001b[0m \u001b[1;33m=\u001b[0m \u001b[0mos\u001b[0m\u001b[1;33m.\u001b[0m\u001b[0mlistdir\u001b[0m\u001b[1;33m(\u001b[0m\u001b[0mx_p\u001b[0m\u001b[1;33m)\u001b[0m\u001b[1;33m\u001b[0m\u001b[1;33m\u001b[0m\u001b[0m\n\u001b[0m\u001b[0;32m      3\u001b[0m     \u001b[0mresult\u001b[0m \u001b[1;33m=\u001b[0m \u001b[1;33m{\u001b[0m\u001b[1;33m}\u001b[0m\u001b[1;33m\u001b[0m\u001b[1;33m\u001b[0m\u001b[0m\n\u001b[0;32m      4\u001b[0m     \u001b[1;32mfor\u001b[0m \u001b[0mdir_n\u001b[0m \u001b[1;32min\u001b[0m \u001b[0mcur_dirs\u001b[0m\u001b[1;33m:\u001b[0m\u001b[1;33m\u001b[0m\u001b[1;33m\u001b[0m\u001b[0m\n\u001b[0;32m      5\u001b[0m         \u001b[0mcase\u001b[0m \u001b[1;33m=\u001b[0m \u001b[0mdir_n\u001b[0m\u001b[1;33m[\u001b[0m\u001b[1;33m:\u001b[0m\u001b[1;36m12\u001b[0m\u001b[1;33m]\u001b[0m\u001b[1;33m\u001b[0m\u001b[1;33m\u001b[0m\u001b[0m\n",
      "\u001b[1;31mFileNotFoundError\u001b[0m: [WinError 3] The system cannot find the path specified: '../../selected/'"
     ]
    }
   ],
   "source": [
    "merge_table = merge_table_creator('../../selected/')"
   ]
  },
  {
   "cell_type": "code",
   "execution_count": null,
   "metadata": {},
   "outputs": [],
   "source": [
    "merge_table.head()"
   ]
  },
  {
   "cell_type": "code",
   "execution_count": null,
   "metadata": {},
   "outputs": [],
   "source": [
    "print(f'{len(merge_table)} cases are used')"
   ]
  },
  {
   "cell_type": "markdown",
   "metadata": {},
   "source": [
    "Use space to save time. I saved the image paths for each case in a dict."
   ]
  },
  {
   "cell_type": "code",
   "execution_count": null,
   "metadata": {},
   "outputs": [],
   "source": [
    "def saving(merge_table):\n",
    "    img_disk = {}\n",
    "    img_count = {}\n",
    "    for item in merge_table.iterrows():\n",
    "        path = item[1][0]\n",
    "        case = item[1][1]\n",
    "        pool = os.listdir(path)\n",
    "        img_disk[case] = tuple(os.path.abspath(os.path.join(path, f)) for f in pool)\n",
    "        img_count[case] = len(pool)\n",
    "    save_pickle(img_disk, '../../archive/', name='img_disk')\n",
    "    return img_count"
   ]
  },
  {
   "cell_type": "code",
   "execution_count": null,
   "metadata": {},
   "outputs": [],
   "source": [
    "img_count = saving(merge_table)"
   ]
  },
  {
   "cell_type": "markdown",
   "metadata": {},
   "source": [
    "Check the minimum of img number"
   ]
  },
  {
   "cell_type": "code",
   "execution_count": null,
   "metadata": {},
   "outputs": [],
   "source": [
    "from math import inf\n",
    "def check_min(img_count):\n",
    "    ceil = inf\n",
    "    record = None\n",
    "    for k, v in img_count.items():\n",
    "        if v < ceil:\n",
    "            ceil = v\n",
    "            record = k\n",
    "    print(f'{record} has the minimum number of imgs {ceil}')"
   ]
  },
  {
   "cell_type": "code",
   "execution_count": null,
   "metadata": {},
   "outputs": [],
   "source": [
    "check_min(img_count)"
   ]
  },
  {
   "cell_type": "markdown",
   "metadata": {},
   "source": [
    "### Compare with raw slides"
   ]
  },
  {
   "cell_type": "code",
   "execution_count": null,
   "metadata": {},
   "outputs": [],
   "source": [
    "pixel_to_micron = 2.43 # 10X power"
   ]
  },
  {
   "cell_type": "markdown",
   "metadata": {},
   "source": [
    "Next, combine slides metainfo and the outcome of Nesnet selection."
   ]
  },
  {
   "cell_type": "code",
   "execution_count": null,
   "metadata": {},
   "outputs": [],
   "source": [
    "img_size = pd.read_csv('../data/power.txt', sep=r'\\t', engine='python')\n",
    "img_size['Name'] = img_size['Name'].str[:12]\n",
    "img_size['Size'] = img_size['Size'].str.split(',')\n",
    "img_sel = pd.DataFrame.from_dict(img_count, orient='index')\n",
    "img_sel.columns = ['num']\n",
    "img_comp = img_sel.merge(img_size, left_index=True, \n",
    "                         right_on='Name',how='inner').drop_duplicates('Name')"
   ]
  },
  {
   "cell_type": "code",
   "execution_count": null,
   "metadata": {},
   "outputs": [],
   "source": [
    "img_comp.head()"
   ]
  },
  {
   "cell_type": "markdown",
   "metadata": {},
   "source": [
    "Then, get useful information from raw data."
   ]
  },
  {
   "cell_type": "code",
   "execution_count": null,
   "metadata": {},
   "outputs": [],
   "source": [
    "tile_area = 96 * 96\n",
    "p_to_area = pixel_to_micron ** 2\n",
    "\n",
    "img_comp['area_10X'] = img_comp['Size'].apply(\n",
    "    lambda x:int(x[0].replace(\"'\", \"\"))*int(x[1].replace(\"'\", \"\"))\n",
    ")/((img_comp['Power']/10)**2)\n",
    "\n",
    "img_comp['ratio'] = tile_area * img_comp['num'] / img_comp['area_10X']\n",
    "img_comp['ori_real_area'] = img_comp['area_10X'] * p_to_area\n",
    "img_comp['sel_real_area'] = img_comp['ratio'] * img_comp['ori_real_area']"
   ]
  },
  {
   "cell_type": "markdown",
   "metadata": {},
   "source": [
    "The case with the most selected image is TCGA-D8-A1XR. It's also the one with the largest seletion ratio."
   ]
  },
  {
   "cell_type": "code",
   "execution_count": null,
   "metadata": {},
   "outputs": [],
   "source": [
    "img_comp.loc[img_comp['num'] == img_comp['num'].max()]"
   ]
  },
  {
   "cell_type": "code",
   "execution_count": null,
   "metadata": {},
   "outputs": [],
   "source": [
    "img_comp.loc[img_comp['ratio'] == img_comp['ratio'].max()]"
   ]
  },
  {
   "cell_type": "code",
   "execution_count": null,
   "metadata": {},
   "outputs": [],
   "source": [
    "img_comp.loc[img_comp['ratio'] == img_comp['ratio'].min()]"
   ]
  },
  {
   "cell_type": "code",
   "execution_count": null,
   "metadata": {},
   "outputs": [],
   "source": [
    "img_comp.loc[img_comp['num'] == img_comp['num'].min()]"
   ]
  },
  {
   "cell_type": "markdown",
   "metadata": {},
   "source": [
    "I have clipped the minimal number to 50 to better train the model. So lots of cases are with 50 imgs selected."
   ]
  },
  {
   "cell_type": "markdown",
   "metadata": {},
   "source": [
    "### Summary"
   ]
  },
  {
   "cell_type": "code",
   "execution_count": null,
   "metadata": {},
   "outputs": [],
   "source": [
    "img_comp.describe()"
   ]
  }
 ],
 "metadata": {
  "kernelspec": {
   "display_name": "Python 3",
   "language": "python",
   "name": "python3"
  },
  "language_info": {
   "codemirror_mode": {
    "name": "ipython",
    "version": 3
   },
   "file_extension": ".py",
   "mimetype": "text/x-python",
   "name": "python",
   "nbconvert_exporter": "python",
   "pygments_lexer": "ipython3",
   "version": "3.6.8"
  }
 },
 "nbformat": 4,
 "nbformat_minor": 2
}
