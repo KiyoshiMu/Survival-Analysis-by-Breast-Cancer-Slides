{
 "cells": [
  {
   "cell_type": "code",
   "execution_count": 63,
   "metadata": {},
   "outputs": [
    {
     "name": "stderr",
     "output_type": "stream",
     "text": [
      "Using TensorFlow backend.\n"
     ]
    }
   ],
   "source": [
    "import os\n",
    "import pandas as pd\n",
    "import random\n",
    "import cv2\n",
    "from keras.applications.nasnet import NASNetMobile, preprocess_input\n",
    "random.seed(42)"
   ]
  },
  {
   "cell_type": "code",
   "execution_count": 65,
   "metadata": {},
   "outputs": [],
   "source": []
  },
  {
   "cell_type": "code",
   "execution_count": 4,
   "metadata": {},
   "outputs": [],
   "source": [
    "cur_dirs = os.listdir('../../selected/')"
   ]
  },
  {
   "cell_type": "code",
   "execution_count": 5,
   "metadata": {},
   "outputs": [
    {
     "data": {
      "text/plain": [
       "['TCGA-A1-A0SB-01Z-00-DX1',\n",
       " 'TCGA-A1-A0SD-01Z-00-DX1',\n",
       " 'TCGA-A1-A0SE-01Z-00-DX1',\n",
       " 'TCGA-A1-A0SF-01Z-00-DX1',\n",
       " 'TCGA-A1-A0SH-01Z-00-DX1']"
      ]
     },
     "execution_count": 5,
     "metadata": {},
     "output_type": "execute_result"
    }
   ],
   "source": [
    "cur_dirs[:5]"
   ]
  },
  {
   "cell_type": "code",
   "execution_count": 6,
   "metadata": {},
   "outputs": [
    {
     "data": {
      "text/html": [
       "<div>\n",
       "<style scoped>\n",
       "    .dataframe tbody tr th:only-of-type {\n",
       "        vertical-align: middle;\n",
       "    }\n",
       "\n",
       "    .dataframe tbody tr th {\n",
       "        vertical-align: top;\n",
       "    }\n",
       "\n",
       "    .dataframe thead th {\n",
       "        text-align: right;\n",
       "    }\n",
       "</style>\n",
       "<table border=\"1\" class=\"dataframe\">\n",
       "  <thead>\n",
       "    <tr style=\"text-align: right;\">\n",
       "      <th></th>\n",
       "      <th>sample</th>\n",
       "      <th>duration</th>\n",
       "      <th>observed</th>\n",
       "    </tr>\n",
       "  </thead>\n",
       "  <tbody>\n",
       "    <tr>\n",
       "      <th>0</th>\n",
       "      <td>TCGA-A8-A07S</td>\n",
       "      <td>243</td>\n",
       "      <td>False</td>\n",
       "    </tr>\n",
       "    <tr>\n",
       "      <th>1</th>\n",
       "      <td>TCGA-A2-A04Y</td>\n",
       "      <td>1099</td>\n",
       "      <td>False</td>\n",
       "    </tr>\n",
       "    <tr>\n",
       "      <th>2</th>\n",
       "      <td>TCGA-BH-A0BO</td>\n",
       "      <td>2197</td>\n",
       "      <td>False</td>\n",
       "    </tr>\n",
       "    <tr>\n",
       "      <th>3</th>\n",
       "      <td>TCGA-B6-A0I6</td>\n",
       "      <td>991</td>\n",
       "      <td>True</td>\n",
       "    </tr>\n",
       "    <tr>\n",
       "      <th>4</th>\n",
       "      <td>TCGA-BH-A0HQ</td>\n",
       "      <td>1121</td>\n",
       "      <td>False</td>\n",
       "    </tr>\n",
       "  </tbody>\n",
       "</table>\n",
       "</div>"
      ],
      "text/plain": [
       "         sample  duration  observed\n",
       "0  TCGA-A8-A07S       243     False\n",
       "1  TCGA-A2-A04Y      1099     False\n",
       "2  TCGA-BH-A0BO      2197     False\n",
       "3  TCGA-B6-A0I6       991      True\n",
       "4  TCGA-BH-A0HQ      1121     False"
      ]
     },
     "execution_count": 6,
     "metadata": {},
     "output_type": "execute_result"
    }
   ],
   "source": [
    "target.head()"
   ]
  },
  {
   "cell_type": "code",
   "execution_count": 27,
   "metadata": {},
   "outputs": [],
   "source": [
    "def case2path(x_p):\n",
    "    cur_dirs = os.listdir(x_p)\n",
    "    result = {}\n",
    "    for dir_n in cur_dirs:\n",
    "        case = dir_n[:12]\n",
    "        if case in result:\n",
    "            continue\n",
    "        result[case] = os.path.join(x_p, dir_n)\n",
    "    return pd.DataFrame.from_dict(result, orient='index', columns=['path'])"
   ]
  },
  {
   "cell_type": "code",
   "execution_count": null,
   "metadata": {},
   "outputs": [],
   "source": [
    "def cur_table_creator(selected_p, target_p='../data/Target.xlsx'):\n",
    "    target = pd.read_excel(target_p)\n",
    "    cp_df = case2path(selected_p)\n",
    "    cp_df."
   ]
  },
  {
   "cell_type": "code",
   "execution_count": 28,
   "metadata": {},
   "outputs": [],
   "source": []
  },
  {
   "cell_type": "code",
   "execution_count": 29,
   "metadata": {},
   "outputs": [
    {
     "data": {
      "text/html": [
       "<div>\n",
       "<style scoped>\n",
       "    .dataframe tbody tr th:only-of-type {\n",
       "        vertical-align: middle;\n",
       "    }\n",
       "\n",
       "    .dataframe tbody tr th {\n",
       "        vertical-align: top;\n",
       "    }\n",
       "\n",
       "    .dataframe thead th {\n",
       "        text-align: right;\n",
       "    }\n",
       "</style>\n",
       "<table border=\"1\" class=\"dataframe\">\n",
       "  <thead>\n",
       "    <tr style=\"text-align: right;\">\n",
       "      <th></th>\n",
       "      <th>path</th>\n",
       "    </tr>\n",
       "  </thead>\n",
       "  <tbody>\n",
       "    <tr>\n",
       "      <th>TCGA-A1-A0SB</th>\n",
       "      <td>../../selected/TCGA-A1-A0SB-01Z-00-DX1</td>\n",
       "    </tr>\n",
       "    <tr>\n",
       "      <th>TCGA-A1-A0SD</th>\n",
       "      <td>../../selected/TCGA-A1-A0SD-01Z-00-DX1</td>\n",
       "    </tr>\n",
       "    <tr>\n",
       "      <th>TCGA-A1-A0SE</th>\n",
       "      <td>../../selected/TCGA-A1-A0SE-01Z-00-DX1</td>\n",
       "    </tr>\n",
       "    <tr>\n",
       "      <th>TCGA-A1-A0SF</th>\n",
       "      <td>../../selected/TCGA-A1-A0SF-01Z-00-DX1</td>\n",
       "    </tr>\n",
       "    <tr>\n",
       "      <th>TCGA-A1-A0SH</th>\n",
       "      <td>../../selected/TCGA-A1-A0SH-01Z-00-DX1</td>\n",
       "    </tr>\n",
       "  </tbody>\n",
       "</table>\n",
       "</div>"
      ],
      "text/plain": [
       "                                                path\n",
       "TCGA-A1-A0SB  ../../selected/TCGA-A1-A0SB-01Z-00-DX1\n",
       "TCGA-A1-A0SD  ../../selected/TCGA-A1-A0SD-01Z-00-DX1\n",
       "TCGA-A1-A0SE  ../../selected/TCGA-A1-A0SE-01Z-00-DX1\n",
       "TCGA-A1-A0SF  ../../selected/TCGA-A1-A0SF-01Z-00-DX1\n",
       "TCGA-A1-A0SH  ../../selected/TCGA-A1-A0SH-01Z-00-DX1"
      ]
     },
     "execution_count": 29,
     "metadata": {},
     "output_type": "execute_result"
    }
   ],
   "source": [
    "cp_df.head()"
   ]
  },
  {
   "cell_type": "code",
   "execution_count": 66,
   "metadata": {},
   "outputs": [],
   "source": [
    "match = cp_df.merge(target, left_index=True, right_on='sample')"
   ]
  },
  {
   "cell_type": "code",
   "execution_count": 67,
   "metadata": {},
   "outputs": [
    {
     "data": {
      "text/plain": [
       "0.9753246753246754"
      ]
     },
     "execution_count": 67,
     "metadata": {},
     "output_type": "execute_result"
    }
   ],
   "source": [
    "len(match)/len(target)"
   ]
  },
  {
   "cell_type": "code",
   "execution_count": 68,
   "metadata": {},
   "outputs": [
    {
     "data": {
      "text/html": [
       "<div>\n",
       "<style scoped>\n",
       "    .dataframe tbody tr th:only-of-type {\n",
       "        vertical-align: middle;\n",
       "    }\n",
       "\n",
       "    .dataframe tbody tr th {\n",
       "        vertical-align: top;\n",
       "    }\n",
       "\n",
       "    .dataframe thead th {\n",
       "        text-align: right;\n",
       "    }\n",
       "</style>\n",
       "<table border=\"1\" class=\"dataframe\">\n",
       "  <thead>\n",
       "    <tr style=\"text-align: right;\">\n",
       "      <th></th>\n",
       "      <th>path</th>\n",
       "      <th>sample</th>\n",
       "      <th>duration</th>\n",
       "      <th>observed</th>\n",
       "    </tr>\n",
       "  </thead>\n",
       "  <tbody>\n",
       "    <tr>\n",
       "      <th>404</th>\n",
       "      <td>../../selected/TCGA-A1-A0SB-01Z-00-DX1</td>\n",
       "      <td>TCGA-A1-A0SB</td>\n",
       "      <td>259</td>\n",
       "      <td>False</td>\n",
       "    </tr>\n",
       "    <tr>\n",
       "      <th>762</th>\n",
       "      <td>../../selected/TCGA-A1-A0SD-01Z-00-DX1</td>\n",
       "      <td>TCGA-A1-A0SD</td>\n",
       "      <td>437</td>\n",
       "      <td>False</td>\n",
       "    </tr>\n",
       "    <tr>\n",
       "      <th>302</th>\n",
       "      <td>../../selected/TCGA-A1-A0SE-01Z-00-DX1</td>\n",
       "      <td>TCGA-A1-A0SE</td>\n",
       "      <td>1321</td>\n",
       "      <td>False</td>\n",
       "    </tr>\n",
       "    <tr>\n",
       "      <th>607</th>\n",
       "      <td>../../selected/TCGA-A1-A0SF-01Z-00-DX1</td>\n",
       "      <td>TCGA-A1-A0SF</td>\n",
       "      <td>1463</td>\n",
       "      <td>False</td>\n",
       "    </tr>\n",
       "    <tr>\n",
       "      <th>162</th>\n",
       "      <td>../../selected/TCGA-A1-A0SH-01Z-00-DX1</td>\n",
       "      <td>TCGA-A1-A0SH</td>\n",
       "      <td>1437</td>\n",
       "      <td>False</td>\n",
       "    </tr>\n",
       "  </tbody>\n",
       "</table>\n",
       "</div>"
      ],
      "text/plain": [
       "                                       path        sample  duration  observed\n",
       "404  ../../selected/TCGA-A1-A0SB-01Z-00-DX1  TCGA-A1-A0SB       259     False\n",
       "762  ../../selected/TCGA-A1-A0SD-01Z-00-DX1  TCGA-A1-A0SD       437     False\n",
       "302  ../../selected/TCGA-A1-A0SE-01Z-00-DX1  TCGA-A1-A0SE      1321     False\n",
       "607  ../../selected/TCGA-A1-A0SF-01Z-00-DX1  TCGA-A1-A0SF      1463     False\n",
       "162  ../../selected/TCGA-A1-A0SH-01Z-00-DX1  TCGA-A1-A0SH      1437     False"
      ]
     },
     "execution_count": 68,
     "metadata": {},
     "output_type": "execute_result"
    }
   ],
   "source": [
    "match.head()"
   ]
  },
  {
   "cell_type": "code",
   "execution_count": 69,
   "metadata": {},
   "outputs": [],
   "source": [
    "cur_table = match.reset_index(drop=True)"
   ]
  },
  {
   "cell_type": "code",
   "execution_count": 70,
   "metadata": {},
   "outputs": [
    {
     "data": {
      "text/html": [
       "<div>\n",
       "<style scoped>\n",
       "    .dataframe tbody tr th:only-of-type {\n",
       "        vertical-align: middle;\n",
       "    }\n",
       "\n",
       "    .dataframe tbody tr th {\n",
       "        vertical-align: top;\n",
       "    }\n",
       "\n",
       "    .dataframe thead th {\n",
       "        text-align: right;\n",
       "    }\n",
       "</style>\n",
       "<table border=\"1\" class=\"dataframe\">\n",
       "  <thead>\n",
       "    <tr style=\"text-align: right;\">\n",
       "      <th></th>\n",
       "      <th>path</th>\n",
       "      <th>sample</th>\n",
       "      <th>duration</th>\n",
       "      <th>observed</th>\n",
       "    </tr>\n",
       "  </thead>\n",
       "  <tbody>\n",
       "    <tr>\n",
       "      <th>0</th>\n",
       "      <td>../../selected/TCGA-A1-A0SB-01Z-00-DX1</td>\n",
       "      <td>TCGA-A1-A0SB</td>\n",
       "      <td>259</td>\n",
       "      <td>False</td>\n",
       "    </tr>\n",
       "    <tr>\n",
       "      <th>1</th>\n",
       "      <td>../../selected/TCGA-A1-A0SD-01Z-00-DX1</td>\n",
       "      <td>TCGA-A1-A0SD</td>\n",
       "      <td>437</td>\n",
       "      <td>False</td>\n",
       "    </tr>\n",
       "    <tr>\n",
       "      <th>2</th>\n",
       "      <td>../../selected/TCGA-A1-A0SE-01Z-00-DX1</td>\n",
       "      <td>TCGA-A1-A0SE</td>\n",
       "      <td>1321</td>\n",
       "      <td>False</td>\n",
       "    </tr>\n",
       "    <tr>\n",
       "      <th>3</th>\n",
       "      <td>../../selected/TCGA-A1-A0SF-01Z-00-DX1</td>\n",
       "      <td>TCGA-A1-A0SF</td>\n",
       "      <td>1463</td>\n",
       "      <td>False</td>\n",
       "    </tr>\n",
       "    <tr>\n",
       "      <th>4</th>\n",
       "      <td>../../selected/TCGA-A1-A0SH-01Z-00-DX1</td>\n",
       "      <td>TCGA-A1-A0SH</td>\n",
       "      <td>1437</td>\n",
       "      <td>False</td>\n",
       "    </tr>\n",
       "  </tbody>\n",
       "</table>\n",
       "</div>"
      ],
      "text/plain": [
       "                                     path        sample  duration  observed\n",
       "0  ../../selected/TCGA-A1-A0SB-01Z-00-DX1  TCGA-A1-A0SB       259     False\n",
       "1  ../../selected/TCGA-A1-A0SD-01Z-00-DX1  TCGA-A1-A0SD       437     False\n",
       "2  ../../selected/TCGA-A1-A0SE-01Z-00-DX1  TCGA-A1-A0SE      1321     False\n",
       "3  ../../selected/TCGA-A1-A0SF-01Z-00-DX1  TCGA-A1-A0SF      1463     False\n",
       "4  ../../selected/TCGA-A1-A0SH-01Z-00-DX1  TCGA-A1-A0SH      1437     False"
      ]
     },
     "execution_count": 70,
     "metadata": {},
     "output_type": "execute_result"
    }
   ],
   "source": [
    "cur_table.head()"
   ]
  },
  {
   "cell_type": "code",
   "execution_count": 71,
   "metadata": {},
   "outputs": [],
   "source": [
    "def table_creator(cur_table, train_ratio=0.8):\n",
    "    idx = cur_table.index.tolist()\n",
    "\n",
    "    random.shuffle(idx)\n",
    "\n",
    "    train_size = round(len(idx) * train_ratio)\n",
    "    train_idx = idx[:train_size]\n",
    "    test_idx = idx[train_size:]\n",
    "\n",
    "    train_table = cur_table.iloc[train_idx]\n",
    "    test_tabel = cur_table.iloc[test_idx]\n",
    "\n",
    "    train_table.sort_values('duration', inplace=True)\n",
    "    test_tabel.sort_values('duration', inplace=True)"
   ]
  },
  {
   "cell_type": "code",
   "execution_count": 78,
   "metadata": {},
   "outputs": [],
   "source": [
    "def read_dir(dir_p):\n",
    "    pool = os.listdir(dir_p)\n",
    "    sel = random.choice(pool, 1)\n",
    "    x = os.path.join(dir_p, sel)\n",
    "    return preprocess_input(cv2.imread(x))"
   ]
  },
  {
   "cell_type": "code",
   "execution_count": 84,
   "metadata": {
    "scrolled": true
   },
   "outputs": [],
   "source": [
    "def gen_data(df_sort):\n",
    "    while 1:\n",
    "        n = 0\n",
    "        x, T, E = [], [], []\n",
    "        for item in df_sort.iterrows():\n",
    "            path = item[1][0]\n",
    "            dur = item[1][2]\n",
    "            obs = item[1][3]\n",
    "            x.append(read_dir(path))\n",
    "            T.append(dur)\n",
    "            E.append(obs)\n",
    "            n += 1\n",
    "            if n > 100:\n",
    "                yield x, T, E\n",
    "                x, T, E = [], [], []\n",
    "                n = 0"
   ]
  },
  {
   "cell_type": "code",
   "execution_count": 85,
   "metadata": {},
   "outputs": [],
   "source": [
    "test_gen = gen_data(test_tabel)"
   ]
  },
  {
   "cell_type": "code",
   "execution_count": 86,
   "metadata": {},
   "outputs": [
    {
     "ename": "TypeError",
     "evalue": "'function' object is not an iterator",
     "output_type": "error",
     "traceback": [
      "\u001b[1;31m---------------------------------------------------------------------------\u001b[0m",
      "\u001b[1;31mTypeError\u001b[0m                                 Traceback (most recent call last)",
      "\u001b[1;32m<ipython-input-86-19b2562fbf16>\u001b[0m in \u001b[0;36m<module>\u001b[1;34m\u001b[0m\n\u001b[1;32m----> 1\u001b[1;33m \u001b[0mitem\u001b[0m \u001b[1;33m=\u001b[0m \u001b[0mnext\u001b[0m\u001b[1;33m(\u001b[0m\u001b[0mgen_data\u001b[0m\u001b[1;33m)\u001b[0m\u001b[1;33m\u001b[0m\u001b[1;33m\u001b[0m\u001b[0m\n\u001b[0m",
      "\u001b[1;31mTypeError\u001b[0m: 'function' object is not an iterator"
     ]
    }
   ],
   "source": [
    "item = next(gen_data)"
   ]
  },
  {
   "cell_type": "code",
   "execution_count": null,
   "metadata": {},
   "outputs": [],
   "source": [
    "def data_flow():\n",
    "    aug = ImageDataGenerator(\n",
    "        rescale=1./255,\n",
    "        rotation_range=40,\n",
    "        width_shift_range=0.2,\n",
    "        height_shift_range=0.2,\n",
    "        shear_range=0.2,\n",
    "        zoom_range=0.2,\n",
    "        horizontal_flip=True,)\n",
    "    return aug"
   ]
  },
  {
   "cell_type": "code",
   "execution_count": null,
   "metadata": {},
   "outputs": [],
   "source": [
    "def train():\n",
    "    ada = Adagrad(lr=1e-3, decay=0.1)\n",
    "    # rmsprop=RMSprop(lr=1e-5, rho=0.9, epsilon=1e-8)\n",
    "    cheak_list = [EarlyStopping(monitor='loss', patience=10),\n",
    "                ModelCheckpoint(filepath=os.path.join(dst, 'modelcc.h5')\n",
    "                , monitor='loss', save_best_only=True),\n",
    "                TensorBoard(log_dir=os.path.join(dst, 'cell_log'), \n",
    "                histogram_freq=0)]\n",
    "    model.fit_generator(\n",
    "        ,\n",
    "        steps_per_epoch=1,\n",
    "        epochs=100,\n",
    "        callbacks=cheak_list,\n",
    "        shuffle=False)"
   ]
  },
  {
   "cell_type": "code",
   "execution_count": 1,
   "metadata": {},
   "outputs": [],
   "source": [
    "from keras.models import Model\n",
    "from keras.preprocessing.image import img_to_array, ImageDataGenerator\n",
    "from keras.layers import Input, GlobalMaxPooling2D, GlobalAveragePooling2D, Flatten, Concatenate, Dropout, Dense\n",
    "from keras import backend as K\n",
    "from keras.regularizers import l2\n",
    "from keras.optimizers import Adagrad, RMSprop\n",
    "from keras.callbacks import EarlyStopping, ModelCheckpoint, TensorBoard\n",
    "from keras.applications.nasnet import NASNetMobile, preprocess_input"
   ]
  },
  {
   "cell_type": "code",
   "execution_count": 2,
   "metadata": {},
   "outputs": [],
   "source": [
    "inputs = Input((96, 96, 3))\n",
    "base_model = NASNetMobile(include_top=False, input_shape=(96, 96, 3))#, weights=None\n",
    "x = base_model(inputs)\n",
    "out1 = GlobalMaxPooling2D()(x)\n",
    "out2 = GlobalAveragePooling2D()(x)\n",
    "out3 = Flatten()(x)\n",
    "out = Concatenate(axis=-1)([out1, out2, out3])\n",
    "out = Dropout(0.5)(out)\n",
    "out = Dense(1, activation=\"linear\", kernel_initializer='glorot_uniform', \n",
    "kernel_regularizer=l2(0.01), activity_regularizer=l2(0.01))(out)\n",
    "model = Model(inputs, out)"
   ]
  },
  {
   "cell_type": "code",
   "execution_count": 3,
   "metadata": {},
   "outputs": [],
   "source": [
    "model.load_weights('../model.h5', by_name='NASNet')\n",
    "\n",
    "model.layers[1].trainable = False\n",
    "\n",
    "model.summary()"
   ]
  },
  {
   "cell_type": "code",
   "execution_count": 6,
   "metadata": {},
   "outputs": [],
   "source": [
    "def negative_log_likelihood(E):\n",
    "\tdef loss(y_true,y_pred):\n",
    "\t\thazard_ratio = K.exp(y_pred)\n",
    "\t\tlog_risk = K.log(K.cumsum(hazard_ratio))\n",
    "\t\tuncensored_likelihood = K.transpose(y_pred) - log_risk\n",
    "\t\tcensored_likelihood = uncensored_likelihood * E\n",
    "\t\tnum_observed_event = K.sum([float(e) for e in E]) + 1\n",
    "\t\treturn K.sum(censored_likelihood) / num_observed_event * (-1)\n",
    "\treturn loss"
   ]
  },
  {
   "cell_type": "code",
   "execution_count": null,
   "metadata": {},
   "outputs": [],
   "source": [
    "preprocess_input(cv2.imread(x))"
   ]
  }
 ],
 "metadata": {
  "kernelspec": {
   "display_name": "Python 3",
   "language": "python",
   "name": "python3"
  },
  "language_info": {
   "codemirror_mode": {
    "name": "ipython",
    "version": 3
   },
   "file_extension": ".py",
   "mimetype": "text/x-python",
   "name": "python",
   "nbconvert_exporter": "python",
   "pygments_lexer": "ipython3",
   "version": "3.6.8"
  }
 },
 "nbformat": 4,
 "nbformat_minor": 2
}
