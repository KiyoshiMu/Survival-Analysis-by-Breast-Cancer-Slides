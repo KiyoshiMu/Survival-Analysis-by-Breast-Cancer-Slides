{
 "cells": [
  {
   "cell_type": "markdown",
   "metadata": {},
   "source": [
    "This notebook is to establish the baseline for the project. Here I used the data from paper (Heng, Yujing J., et al). For survival analysis, both KaplanMeier and Cox Proportional Hazards (CoxPH) were implemented. In doing so, I could assess the prognostic accuracy of baseline linear Cox models generated using manual histologic features.\n",
    "\n",
    "Heng, Yujing J., et al. \"The molecular basis of breast cancer pathological phenotypes.\" The Journal of pathology 241.3 (2017): 375-391."
   ]
  },
  {
   "cell_type": "code",
   "execution_count": 1,
   "metadata": {},
   "outputs": [],
   "source": [
    "%matplotlib inline"
   ]
  },
  {
   "cell_type": "code",
   "execution_count": 2,
   "metadata": {},
   "outputs": [
    {
     "ename": "ModuleNotFoundError",
     "evalue": "No module named 'lifelines'",
     "output_type": "error",
     "traceback": [
      "\u001b[1;31m---------------------------------------------------------------------------\u001b[0m",
      "\u001b[1;31mModuleNotFoundError\u001b[0m                       Traceback (most recent call last)",
      "\u001b[1;32m<ipython-input-2-9a0a25d0fd41>\u001b[0m in \u001b[0;36m<module>\u001b[1;34m\u001b[0m\n\u001b[0;32m      1\u001b[0m \u001b[1;32mimport\u001b[0m \u001b[0mpandas\u001b[0m \u001b[1;32mas\u001b[0m \u001b[0mpd\u001b[0m\u001b[1;33m\u001b[0m\u001b[1;33m\u001b[0m\u001b[0m\n\u001b[0;32m      2\u001b[0m \u001b[1;32mimport\u001b[0m \u001b[0mnumpy\u001b[0m \u001b[1;32mas\u001b[0m \u001b[0mnp\u001b[0m\u001b[1;33m\u001b[0m\u001b[1;33m\u001b[0m\u001b[0m\n\u001b[1;32m----> 3\u001b[1;33m \u001b[1;32mimport\u001b[0m \u001b[0mlifelines\u001b[0m \u001b[1;32mas\u001b[0m \u001b[0mll\u001b[0m\u001b[1;33m\u001b[0m\u001b[1;33m\u001b[0m\u001b[0m\n\u001b[0m\u001b[0;32m      4\u001b[0m \u001b[1;32mimport\u001b[0m \u001b[0mmatplotlib\u001b[0m\u001b[1;33m.\u001b[0m\u001b[0mpyplot\u001b[0m \u001b[1;32mas\u001b[0m \u001b[0mplt\u001b[0m\u001b[1;33m\u001b[0m\u001b[1;33m\u001b[0m\u001b[0m\n\u001b[0;32m      5\u001b[0m \u001b[1;32mimport\u001b[0m \u001b[0mseaborn\u001b[0m \u001b[1;32mas\u001b[0m \u001b[0msns\u001b[0m\u001b[1;33m\u001b[0m\u001b[1;33m\u001b[0m\u001b[0m\n",
      "\u001b[1;31mModuleNotFoundError\u001b[0m: No module named 'lifelines'"
     ]
    }
   ],
   "source": [
    "import pandas as pd\n",
    "import numpy as np\n",
    "import lifelines as ll\n",
    "import matplotlib.pyplot as plt\n",
    "import seaborn as sns\n",
    "from lifelines.utils import concordance_index"
   ]
  },
  {
   "cell_type": "code",
   "execution_count": 4,
   "metadata": {},
   "outputs": [],
   "source": [
    "# morph = pd.read_csv('../data/Morphologic consensus.csv')\n",
    "\n",
    "# outcome = pd.read_excel('base_info.xlsx')\n",
    "\n",
    "# outcome.set_index('case_id', inplace=True)\n",
    "\n",
    "# bind = outcome.merge(morph, left_index=True, right_on='sample')\n",
    "\n",
    "# len(bind)\n",
    "\n",
    "# len(morph)\n",
    "\n",
    "# set(morph['sample'].tolist()) - set(bind['sample'].tolist())\n",
    "\n",
    "# bind['duration'] = bind['days_to_last_follow_up']\n",
    "\n",
    "# bind.loc[pd.notna(bind['days_to_death']).tolist(), 'duration'] = bind.loc[pd.notna(bind['days_to_death']).tolist(), 'days_to_death']\n",
    "\n",
    "# bind.loc[np.isnan(bind['duration'])] # have checked in TCGA, data lack comfirmed\n",
    "\n",
    "# bind.drop(846, inplace=True)\n",
    "\n",
    "# bind['observed'] = pd.notna(bind['days_to_death']).tolist()\n",
    "\n",
    "# target_raw = bind[(bind['duration'] != 0) & (bind['gender'] == 'female')]\n",
    "\n",
    "# target_raw.to_excel('bind.xlsx')\n",
    "\n",
    "# temp = target_raw.drop(['updated_datetime', 'year_of_birth', 'days_to_death', 'days_to_last_follow_up', 'gene_exp'], axis=1)\n",
    "\n",
    "# temp_drop = temp.dropna()\n",
    "\n",
    "# len(temp_drop)"
   ]
  },
  {
   "cell_type": "code",
   "execution_count": 5,
   "metadata": {},
   "outputs": [],
   "source": [
    "temp_drop = pd.read_excel('../data/Hist.xlsx')"
   ]
  },
  {
   "cell_type": "code",
   "execution_count": 6,
   "metadata": {},
   "outputs": [
    {
     "data": {
      "text/plain": [
       "760"
      ]
     },
     "execution_count": 6,
     "metadata": {},
     "output_type": "execute_result"
    }
   ],
   "source": [
    "len(temp_drop)"
   ]
  },
  {
   "cell_type": "code",
   "execution_count": 8,
   "metadata": {},
   "outputs": [],
   "source": [
    "samples = pd.read_excel('../data/samples.xlsx')"
   ]
  },
  {
   "cell_type": "code",
   "execution_count": 9,
   "metadata": {},
   "outputs": [
    {
     "data": {
      "text/html": [
       "<div>\n",
       "<style scoped>\n",
       "    .dataframe tbody tr th:only-of-type {\n",
       "        vertical-align: middle;\n",
       "    }\n",
       "\n",
       "    .dataframe tbody tr th {\n",
       "        vertical-align: top;\n",
       "    }\n",
       "\n",
       "    .dataframe thead th {\n",
       "        text-align: right;\n",
       "    }\n",
       "</style>\n",
       "<table border=\"1\" class=\"dataframe\">\n",
       "  <thead>\n",
       "    <tr style=\"text-align: right;\">\n",
       "      <th></th>\n",
       "      <th>sample</th>\n",
       "    </tr>\n",
       "  </thead>\n",
       "  <tbody>\n",
       "    <tr>\n",
       "      <th>0</th>\n",
       "      <td>TCGA-C8-A275</td>\n",
       "    </tr>\n",
       "    <tr>\n",
       "      <th>1</th>\n",
       "      <td>TCGA-AN-A0AM</td>\n",
       "    </tr>\n",
       "    <tr>\n",
       "      <th>2</th>\n",
       "      <td>TCGA-C8-A1HJ</td>\n",
       "    </tr>\n",
       "    <tr>\n",
       "      <th>3</th>\n",
       "      <td>TCGA-AN-A0XU</td>\n",
       "    </tr>\n",
       "    <tr>\n",
       "      <th>4</th>\n",
       "      <td>TCGA-AN-A0FV</td>\n",
       "    </tr>\n",
       "  </tbody>\n",
       "</table>\n",
       "</div>"
      ],
      "text/plain": [
       "         sample\n",
       "0  TCGA-C8-A275\n",
       "1  TCGA-AN-A0AM\n",
       "2  TCGA-C8-A1HJ\n",
       "3  TCGA-AN-A0XU\n",
       "4  TCGA-AN-A0FV"
      ]
     },
     "execution_count": 9,
     "metadata": {},
     "output_type": "execute_result"
    }
   ],
   "source": [
    "samples.head()"
   ]
  },
  {
   "cell_type": "code",
   "execution_count": 10,
   "metadata": {},
   "outputs": [],
   "source": [
    "temp_drop = temp_drop.set_index('sample').loc[samples['sample']]"
   ]
  },
  {
   "cell_type": "code",
   "execution_count": 11,
   "metadata": {},
   "outputs": [],
   "source": [
    "target = temp_drop.loc[:,['duration', 'observed']]\n",
    "# target.to_excel('Target.xlsx')"
   ]
  },
  {
   "cell_type": "code",
   "execution_count": 12,
   "metadata": {
    "collapsed": true
   },
   "outputs": [
    {
     "data": {
      "text/plain": [
       "gender              0\n",
       "age_at_diagnosis    0\n",
       "epi_area            0\n",
       "inflam              0\n",
       "lcis                0\n",
       "apo_feat            0\n",
       "dcis                0\n",
       "epi_tube            0\n",
       "lymp                0\n",
       "necrosis            0\n",
       "nuc_pleo            0\n",
       "fib_focus           0\n",
       "mitosis             0\n",
       "hist_type           0\n",
       "duration            0\n",
       "observed            0\n",
       "dtype: int64"
      ]
     },
     "execution_count": 12,
     "metadata": {},
     "output_type": "execute_result"
    }
   ],
   "source": [
    "temp_drop.isna().sum()"
   ]
  },
  {
   "cell_type": "markdown",
   "metadata": {},
   "source": [
    "temp_drop.to_excel('temp_drop.xlsx')"
   ]
  },
  {
   "cell_type": "code",
   "execution_count": 13,
   "metadata": {},
   "outputs": [
    {
     "data": {
      "text/plain": [
       "<lifelines.KaplanMeierFitter: fitted with 759 observations, 641 censored>"
      ]
     },
     "execution_count": 13,
     "metadata": {},
     "output_type": "execute_result"
    }
   ],
   "source": [
    "T = temp_drop[\"duration\"]\n",
    "E = temp_drop[\"observed\"]\n",
    "kmf = ll.KaplanMeierFitter()\n",
    "kmf.fit(T, event_observed=E)"
   ]
  },
  {
   "cell_type": "code",
   "execution_count": 14,
   "metadata": {},
   "outputs": [
    {
     "data": {
      "image/png": "[encoded data removed]",
      "text/plain": [
       "<Figure size 432x288 with 1 Axes>"
      ]
     },
     "metadata": {
      "needs_background": "light"
     },
     "output_type": "display_data"
    }
   ],
   "source": [
    "kmf.plot()\n",
    "plt.ylim(0, 1);\n",
    "plt.xlim(0, 8500);\n",
    "plt.title('Survival function of breast cancer');\n",
    "plt.tight_layout()\n",
    "plt.savefig('km.png', dpi=300)"
   ]
  },
  {
   "cell_type": "code",
   "execution_count": null,
   "metadata": {},
   "outputs": [],
   "source": [
    "temp_drop.columns"
   ]
  },
  {
   "cell_type": "code",
   "execution_count": 35,
   "metadata": {},
   "outputs": [],
   "source": [
    "dummy = pd.get_dummies(temp_drop.loc[:, 'epi_area': 'observed'], drop_first=True)\n",
    "\n",
    "ages = temp_drop['age_at_diagnosis'].values\n",
    "ages_min = min(ages)\n",
    "dummy['age_at_diagnosis'] = (ages - ages_min) / (max(ages) - ages_min)"
   ]
  },
  {
   "cell_type": "code",
   "execution_count": 18,
   "metadata": {},
   "outputs": [],
   "source": [
    "dummy.to_excel('../data/dummy.xlsx')"
   ]
  },
  {
   "cell_type": "code",
   "execution_count": 36,
   "metadata": {},
   "outputs": [],
   "source": [
    "from sklearn.model_selection import train_test_split"
   ]
  },
  {
   "cell_type": "code",
   "execution_count": 40,
   "metadata": {},
   "outputs": [
    {
     "data": {
      "text/plain": [
       "607"
      ]
     },
     "execution_count": 40,
     "metadata": {},
     "output_type": "execute_result"
    }
   ],
   "source": [
    "len(train)"
   ]
  },
  {
   "cell_type": "code",
   "execution_count": 70,
   "metadata": {
    "collapsed": true
   },
   "outputs": [
    {
     "name": "stdout",
     "output_type": "stream",
     "text": [
      "<lifelines.CoxPHFitter: fitted with 759 observations, 641 censored>\n",
      "      duration col = 'duration'\n",
      "         event col = 'observed'\n",
      "number of subjects = 759\n",
      "  number of events = 118\n",
      "    log-likelihood = -589.47\n",
      "  time fit was run = 2019-04-02 12:31:08 UTC\n",
      "\n",
      "---\n",
      "                                               coef  exp(coef)  se(coef)     z      p  -log2(p)  lower 0.95  upper 0.95\n",
      "epi_area_<25% (Low)                            0.63       1.89      0.31  2.02   0.04      4.53        0.02        1.25\n",
      "epi_area_>75% (High)                          -0.15       0.86      0.24 -0.63   0.53      0.92       -0.63        0.32\n",
      "inflam_Present                                -0.88       0.41      0.25 -3.52 <0.005     11.19       -1.38       -0.39\n",
      "lcis_Present                                  -0.06       0.94      0.45 -0.13   0.90      0.15       -0.94        0.82\n",
      "apo_feat_6-50% (Moderate)                     -0.40       0.67      0.77 -0.52   0.61      0.72       -1.90        1.11\n",
      "apo_feat_>50% (Marked)                         1.02       2.76      0.64  1.58   0.11      3.12       -0.25        2.28\n",
      "apo_feat_Absent                                0.25       1.29      0.62  0.41   0.68      0.55       -0.96        1.46\n",
      "dcis_Present                                  -0.47       0.63      0.22 -2.14   0.03      4.95       -0.90       -0.04\n",
      "epi_tube_<10% (poorly Differentiated          -0.04       0.96      0.26 -0.17   0.87      0.21       -0.55        0.46\n",
      "epi_tube_>75% (Well Differentiated            -0.71       0.49      0.40 -1.77   0.08      3.71       -1.50        0.08\n",
      "lymp_Present                                   0.44       1.56      0.22  2.02   0.04      4.54        0.01        0.87\n",
      "necrosis_Present                               0.47       1.61      0.22  2.12   0.03      4.89        0.04        0.91\n",
      "nuc_pleo_Moderate to Marked Variation in Size  0.10       1.11      0.27  0.39   0.70      0.52       -0.42        0.63\n",
      "nuc_pleo_Small Regular Nuclei                  0.08       1.09      0.41  0.21   0.84      0.26       -0.72        0.88\n",
      "fib_focus_Multiple Fibrotic Foci               0.17       1.19      0.21  0.81   0.42      1.26       -0.25        0.59\n",
      "mitosis_6-10 per 10 HPF (Medium)               0.54       1.72      0.30  1.81   0.07      3.84       -0.04        1.13\n",
      "mitosis_>10 per 10 HPF (High)                  0.29       1.33      0.33  0.88   0.38      1.39       -0.35        0.92\n",
      "hist_type_Invasive Lobular Carcinoma          -0.47       0.63      0.45 -1.03   0.30      1.72       -1.36        0.42\n",
      "hist_type_Mixed                               -0.08       0.92      0.38 -0.21   0.83      0.26       -0.83        0.67\n",
      "hist_type_Other                                0.13       1.14      0.29  0.47   0.64      0.65       -0.43        0.70\n",
      "age_at_diagnosis                               2.34      10.40      0.46  5.04 <0.005     21.07        1.43        3.25\n",
      "---\n",
      "Concordance = 0.76\n",
      "Log-likelihood ratio test = 78.75 on 21 df, -log2(p)=26.19\n"
     ]
    }
   ],
   "source": [
    "cph = ll.CoxPHFitter()\n",
    "cph.fit(dummy, duration_col='duration', event_col='observed', show_progress=False)\n",
    "cph.print_summary()"
   ]
  },
  {
   "cell_type": "code",
   "execution_count": 79,
   "metadata": {},
   "outputs": [],
   "source": [
    "from collections import defaultdict\n",
    "def result():\n",
    "    noage = defaultdict(list)\n",
    "    age = defaultdict(list)\n",
    "    for _ in range(40):\n",
    "        train, test = train_test_split(dummy, test_size=0.2)\n",
    "        cph_noage = ll.CoxPHFitter()\n",
    "        cph_noage.fit(train.drop('age_at_diagnosis', axis=1), duration_col='duration', event_col='observed', show_progress=False)\n",
    "        noage['train'].append(cph_noage.score_)\n",
    "        noage['test'].append(concordance_index(test['duration'], -cph_noage.predict_partial_hazard(test.drop('age_at_diagnosis', axis=1)), test['observed']))\n",
    "\n",
    "        cph_age = ll.CoxPHFitter()\n",
    "        cph_age.fit(train, duration_col='duration', event_col='observed', show_progress=False)\n",
    "        age['train'].append(cph_age.score_)\n",
    "        age['test'].append(concordance_index(test['duration'], -cph_age.predict_partial_hazard(test), test['observed']))\n",
    "    ret_pd = pd.DataFrame({'train':noage['train']+age['train'], 'test':noage['test']+age['test'], 'withage':[False]*40+[True]*40})\n",
    "    return ret_pd"
   ]
  },
  {
   "cell_type": "code",
   "execution_count": 80,
   "metadata": {},
   "outputs": [
    {
     "name": "stderr",
     "output_type": "stream",
     "text": [
      "C:\\Anaconda3\\envs\\eos\\lib\\site-packages\\lifelines\\fitters\\coxph_fitter.py:549: ConvergenceWarning: Newton-Rhapson convergence completed but norm(delta) is still high, 0.525. This may imply non-unique solutions to the maximum likelihood. Perhaps there is collinearity or complete separation in the dataset?\n",
      "  ConvergenceWarning,\n",
      "C:\\Anaconda3\\envs\\eos\\lib\\site-packages\\lifelines\\fitters\\coxph_fitter.py:549: ConvergenceWarning: Newton-Rhapson convergence completed but norm(delta) is still high, 0.546. This may imply non-unique solutions to the maximum likelihood. Perhaps there is collinearity or complete separation in the dataset?\n",
      "  ConvergenceWarning,\n"
     ]
    }
   ],
   "source": [
    "ret_pd = result()"
   ]
  },
  {
   "cell_type": "code",
   "execution_count": 95,
   "metadata": {},
   "outputs": [],
   "source": [
    "ret_pd.to_excel('../data/ret_man.xlsx')"
   ]
  },
  {
   "cell_type": "code",
   "execution_count": 82,
   "metadata": {},
   "outputs": [
    {
     "name": "stderr",
     "output_type": "stream",
     "text": [
      "C:\\Anaconda3\\envs\\eos\\lib\\site-packages\\ipykernel_launcher.py:4: SettingWithCopyWarning: \n",
      "A value is trying to be set on a copy of a slice from a DataFrame\n",
      "\n",
      "See the caveats in the documentation: http://pandas.pydata.org/pandas-docs/stable/indexing.html#indexing-view-versus-copy\n",
      "  after removing the cwd from sys.path.\n"
     ]
    }
   ],
   "source": [
    "ret_pd_re = ret_pd.append(ret_pd)\n",
    "ret_pd_re['c index'] = ret_pd.train.append(ret_pd.test)\n",
    "ret_pd_re['类型'] = '训练'\n",
    "ret_pd_re['类型'][len(ret_pd):] = '测试'\n",
    "ret_pd_re['含年龄特征'] = ret_pd_re['withage'].map({False:'否', True:'是'})"
   ]
  },
  {
   "cell_type": "code",
   "execution_count": 87,
   "metadata": {},
   "outputs": [
    {
     "data": {
      "image/png": "[encoded data removed]",
      "text/plain": [
       "<Figure size 432x288 with 1 Axes>"
      ]
     },
     "metadata": {},
     "output_type": "display_data"
    }
   ],
   "source": [
    "plt.figure()\n",
    "sns.boxplot(x='类型', y='c index', hue='含年龄特征', data=ret_pd_re, palette='Set3')\n",
    "plt.savefig('mannul.png', dpi=300)"
   ]
  },
  {
   "cell_type": "code",
   "execution_count": 88,
   "metadata": {},
   "outputs": [],
   "source": [
    "from scipy.stats import ttest_ind"
   ]
  },
  {
   "cell_type": "code",
   "execution_count": 94,
   "metadata": {},
   "outputs": [
    {
     "name": "stdout",
     "output_type": "stream",
     "text": [
      "no age\n"
     ]
    },
    {
     "data": {
      "text/html": [
       "<div>\n",
       "<style scoped>\n",
       "    .dataframe tbody tr th:only-of-type {\n",
       "        vertical-align: middle;\n",
       "    }\n",
       "\n",
       "    .dataframe tbody tr th {\n",
       "        vertical-align: top;\n",
       "    }\n",
       "\n",
       "    .dataframe thead th {\n",
       "        text-align: right;\n",
       "    }\n",
       "</style>\n",
       "<table border=\"1\" class=\"dataframe\">\n",
       "  <thead>\n",
       "    <tr style=\"text-align: right;\">\n",
       "      <th></th>\n",
       "      <th>train</th>\n",
       "      <th>test</th>\n",
       "    </tr>\n",
       "  </thead>\n",
       "  <tbody>\n",
       "    <tr>\n",
       "      <th>count</th>\n",
       "      <td>40.000000</td>\n",
       "      <td>40.000000</td>\n",
       "    </tr>\n",
       "    <tr>\n",
       "      <th>mean</th>\n",
       "      <td>0.732695</td>\n",
       "      <td>0.656730</td>\n",
       "    </tr>\n",
       "    <tr>\n",
       "      <th>std</th>\n",
       "      <td>0.014922</td>\n",
       "      <td>0.063474</td>\n",
       "    </tr>\n",
       "    <tr>\n",
       "      <th>min</th>\n",
       "      <td>0.700473</td>\n",
       "      <td>0.506057</td>\n",
       "    </tr>\n",
       "    <tr>\n",
       "      <th>25%</th>\n",
       "      <td>0.722067</td>\n",
       "      <td>0.608790</td>\n",
       "    </tr>\n",
       "    <tr>\n",
       "      <th>50%</th>\n",
       "      <td>0.732077</td>\n",
       "      <td>0.656043</td>\n",
       "    </tr>\n",
       "    <tr>\n",
       "      <th>75%</th>\n",
       "      <td>0.742115</td>\n",
       "      <td>0.711139</td>\n",
       "    </tr>\n",
       "    <tr>\n",
       "      <th>max</th>\n",
       "      <td>0.770200</td>\n",
       "      <td>0.819158</td>\n",
       "    </tr>\n",
       "  </tbody>\n",
       "</table>\n",
       "</div>"
      ],
      "text/plain": [
       "           train       test\n",
       "count  40.000000  40.000000\n",
       "mean    0.732695   0.656730\n",
       "std     0.014922   0.063474\n",
       "min     0.700473   0.506057\n",
       "25%     0.722067   0.608790\n",
       "50%     0.732077   0.656043\n",
       "75%     0.742115   0.711139\n",
       "max     0.770200   0.819158"
      ]
     },
     "execution_count": 94,
     "metadata": {},
     "output_type": "execute_result"
    }
   ],
   "source": [
    "print('no age')\n",
    "ret_pd.loc[ret_pd['withage']==False].describe()"
   ]
  },
  {
   "cell_type": "code",
   "execution_count": 93,
   "metadata": {},
   "outputs": [
    {
     "name": "stdout",
     "output_type": "stream",
     "text": [
      "age\n"
     ]
    },
    {
     "data": {
      "text/html": [
       "<div>\n",
       "<style scoped>\n",
       "    .dataframe tbody tr th:only-of-type {\n",
       "        vertical-align: middle;\n",
       "    }\n",
       "\n",
       "    .dataframe tbody tr th {\n",
       "        vertical-align: top;\n",
       "    }\n",
       "\n",
       "    .dataframe thead th {\n",
       "        text-align: right;\n",
       "    }\n",
       "</style>\n",
       "<table border=\"1\" class=\"dataframe\">\n",
       "  <thead>\n",
       "    <tr style=\"text-align: right;\">\n",
       "      <th></th>\n",
       "      <th>train</th>\n",
       "      <th>test</th>\n",
       "    </tr>\n",
       "  </thead>\n",
       "  <tbody>\n",
       "    <tr>\n",
       "      <th>count</th>\n",
       "      <td>40.000000</td>\n",
       "      <td>40.000000</td>\n",
       "    </tr>\n",
       "    <tr>\n",
       "      <th>mean</th>\n",
       "      <td>0.765830</td>\n",
       "      <td>0.706979</td>\n",
       "    </tr>\n",
       "    <tr>\n",
       "      <th>std</th>\n",
       "      <td>0.012272</td>\n",
       "      <td>0.057699</td>\n",
       "    </tr>\n",
       "    <tr>\n",
       "      <th>min</th>\n",
       "      <td>0.739854</td>\n",
       "      <td>0.566929</td>\n",
       "    </tr>\n",
       "    <tr>\n",
       "      <th>25%</th>\n",
       "      <td>0.756764</td>\n",
       "      <td>0.673174</td>\n",
       "    </tr>\n",
       "    <tr>\n",
       "      <th>50%</th>\n",
       "      <td>0.765779</td>\n",
       "      <td>0.704613</td>\n",
       "    </tr>\n",
       "    <tr>\n",
       "      <th>75%</th>\n",
       "      <td>0.773488</td>\n",
       "      <td>0.755971</td>\n",
       "    </tr>\n",
       "    <tr>\n",
       "      <th>max</th>\n",
       "      <td>0.790084</td>\n",
       "      <td>0.810997</td>\n",
       "    </tr>\n",
       "  </tbody>\n",
       "</table>\n",
       "</div>"
      ],
      "text/plain": [
       "           train       test\n",
       "count  40.000000  40.000000\n",
       "mean    0.765830   0.706979\n",
       "std     0.012272   0.057699\n",
       "min     0.739854   0.566929\n",
       "25%     0.756764   0.673174\n",
       "50%     0.765779   0.704613\n",
       "75%     0.773488   0.755971\n",
       "max     0.790084   0.810997"
      ]
     },
     "execution_count": 93,
     "metadata": {},
     "output_type": "execute_result"
    }
   ],
   "source": [
    "print('age')\n",
    "ret_pd.loc[ret_pd['withage']==True].describe()"
   ]
  },
  {
   "cell_type": "code",
   "execution_count": 96,
   "metadata": {},
   "outputs": [
    {
     "data": {
      "text/plain": [
       "Ttest_indResult(statistic=-10.846836230478281, pvalue=3.0553017048160365e-17)"
      ]
     },
     "execution_count": 96,
     "metadata": {},
     "output_type": "execute_result"
    }
   ],
   "source": [
    "ttest_ind(ret_pd.loc[ret_pd['withage']==False, 'train'], ret_pd.loc[ret_pd['withage']==True, 'train'])"
   ]
  },
  {
   "cell_type": "code",
   "execution_count": 97,
   "metadata": {},
   "outputs": [
    {
     "data": {
      "text/plain": [
       "Ttest_indResult(statistic=-3.704860935539933, pvalue=0.00039327600928409294)"
      ]
     },
     "execution_count": 97,
     "metadata": {},
     "output_type": "execute_result"
    }
   ],
   "source": [
    "ttest_ind(ret_pd.loc[ret_pd['withage']==False, 'test'], ret_pd.loc[ret_pd['withage']==True, 'test'])"
   ]
  },
  {
   "cell_type": "code",
   "execution_count": 98,
   "metadata": {},
   "outputs": [
    {
     "data": {
      "text/plain": [
       "Ttest_indResult(statistic=7.368339610305623, pvalue=1.5568212523236574e-10)"
      ]
     },
     "execution_count": 98,
     "metadata": {},
     "output_type": "execute_result"
    }
   ],
   "source": [
    "ttest_ind(ret_pd.loc[ret_pd['withage']==False, 'train'], ret_pd.loc[ret_pd['withage']==False, 'test'])"
   ]
  },
  {
   "cell_type": "code",
   "execution_count": 99,
   "metadata": {},
   "outputs": [
    {
     "data": {
      "text/plain": [
       "Ttest_indResult(statistic=6.309693789526252, pvalue=1.5677811762062102e-08)"
      ]
     },
     "execution_count": 99,
     "metadata": {},
     "output_type": "execute_result"
    }
   ],
   "source": [
    "ttest_ind(ret_pd.loc[ret_pd['withage']==True, 'train'], ret_pd.loc[ret_pd['withage']==True, 'test'])"
   ]
  },
  {
   "cell_type": "code",
   "execution_count": 60,
   "metadata": {},
   "outputs": [
    {
     "data": {
      "image/png": "[encoded data removed]",
      "text/plain": [
       "<Figure size 432x288 with 1 Axes>"
      ]
     },
     "metadata": {},
     "output_type": "display_data"
    }
   ],
   "source": [
    "f, ax = plt.subplots()\n",
    "cph.plot(ax=ax)\n",
    "plt.tight_layout()\n",
    "plt.savefig('cph.png', dpi=300)"
   ]
  },
  {
   "cell_type": "code",
   "execution_count": 57,
   "metadata": {},
   "outputs": [],
   "source": [
    "import matplotlib as mpl\n",
    "\n",
    "sns.set()\n",
    "mpl.rcParams['font.sans-serif'] = ['SimHei']\n",
    "mpl.rcParams['font.serif'] = ['SimHei']\n",
    "\n",
    "sns.set_style(\"whitegrid\",{\"font.sans-serif\":['simhei', 'Arial']})"
   ]
  },
  {
   "cell_type": "code",
   "execution_count": 59,
   "metadata": {
    "scrolled": true
   },
   "outputs": [
    {
     "data": {
      "image/png": "[encoded data removed]",
      "text/plain": [
       "<Figure size 432x288 with 1 Axes>"
      ]
     },
     "metadata": {},
     "output_type": "display_data"
    }
   ],
   "source": [
    "_, ax = plt.subplots()\n",
    "plt.ylim(0, 1);\n",
    "plt.xlim(0, 8500);\n",
    "cph_age.baseline_survival_.plot(ax=ax)\n",
    "kmf.plot(ax=ax)\n",
    "ax.set_title('拟合情况')\n",
    "plt.xlabel('时间线')\n",
    "plt.ylabel('存活概率')\n",
    "plt.tight_layout()\n",
    "plt.savefig('Goodness of fit.png', dpi=300)"
   ]
  },
  {
   "cell_type": "code",
   "execution_count": 23,
   "metadata": {},
   "outputs": [],
   "source": [
    "from lifelines.utils import k_fold_cross_validation"
   ]
  },
  {
   "cell_type": "code",
   "execution_count": 34,
   "metadata": {},
   "outputs": [
    {
     "name": "stdout",
     "output_type": "stream",
     "text": [
      "[0.7445980985306828, 0.7327473958333334, 0.5883792048929664, 0.5641891891891891, 0.5804380664652568]\n",
      "0.6420703909822857\n",
      "0.07934862129321957\n"
     ]
    }
   ],
   "source": [
    "cph = ll.CoxPHFitter()\n",
    "scores = k_fold_cross_validation(cph, dummy, 'duration', event_col='observed', k=5)\n",
    "print(scores)\n",
    "print(np.mean(scores))\n",
    "print(np.std(scores))"
   ]
  },
  {
   "cell_type": "code",
   "execution_count": 36,
   "metadata": {},
   "outputs": [],
   "source": [
    "file_num = [1062, 846, 760, 642]\n",
    "pie_num = [file_num[i] - file_num[i+1] if i < len(file_num) - 1 else file_num[i] for i in range(len(file_num))]"
   ]
  },
  {
   "cell_type": "code",
   "execution_count": 37,
   "metadata": {},
   "outputs": [],
   "source": [
    "pie_name = ['Out of the paper', 'Gender male or data deficit', 'Event observed', 'Censored']"
   ]
  },
  {
   "cell_type": "code",
   "execution_count": 38,
   "metadata": {},
   "outputs": [],
   "source": [
    "pct = [str(pie_num[i]) + ' ' + pie_name[i] for i in range(len(pie_name))]"
   ]
  },
  {
   "cell_type": "code",
   "execution_count": 39,
   "metadata": {
    "scrolled": true
   },
   "outputs": [
    {
     "data": {
      "image/png": "[encoded data removed]",
      "text/plain": [
       "<Figure size 432x288 with 1 Axes>"
      ]
     },
     "metadata": {},
     "output_type": "display_data"
    }
   ],
   "source": [
    "plt.figure()\n",
    "colors = ['#ff9999','#66b3ff','#99ff99','#ffcc99']\n",
    "plt.pie(pie_num, labels=pct, colors=colors, autopct='%1.1f%%');\n",
    "plt.savefig('file_num.png', dpi=300)"
   ]
  },
  {
   "cell_type": "code",
   "execution_count": 40,
   "metadata": {},
   "outputs": [
    {
     "data": {
      "image/png": "[encoded data removed]",
      "text/plain": [
       "<Figure size 432x288 with 1 Axes>"
      ]
     },
     "metadata": {},
     "output_type": "display_data"
    }
   ],
   "source": [
    "plt.figure()\n",
    "colors = ['#ff9999','#66b3ff','#99ff99','#ffcc99']\n",
    "plt.pie(pie_num[-2:], labels=pct[-2:], colors=colors[-2:], autopct='%1.1f%%');\n",
    "plt.savefig('data_num.png', dpi=300)"
   ]
  },
  {
   "cell_type": "markdown",
   "metadata": {},
   "source": [
    "The age feature is quite interesting. I'd like to dig deeper to see if there are any patterns."
   ]
  },
  {
   "cell_type": "code",
   "execution_count": 41,
   "metadata": {},
   "outputs": [
    {
     "name": "stdout",
     "output_type": "stream",
     "text": [
      "26.59178082191781 \n",
      " 90.06027397260274\n"
     ]
    }
   ],
   "source": [
    "print(temp_drop['age_at_diagnosis'].min() / 365, '\\n',\n",
    "temp_drop['age_at_diagnosis'].max() / 365)"
   ]
  },
  {
   "cell_type": "code",
   "execution_count": 42,
   "metadata": {},
   "outputs": [],
   "source": [
    "death = temp_drop.loc[temp_drop['observed'] == True]"
   ]
  },
  {
   "cell_type": "code",
   "execution_count": 43,
   "metadata": {},
   "outputs": [
    {
     "name": "stdout",
     "output_type": "stream",
     "text": [
      "death \n",
      " 9706.0 \t 26.59178082191781 \n",
      " 32872.0 \t 90.06027397260274\n"
     ]
    }
   ],
   "source": [
    "print('death', '\\n',\n",
    "    death['age_at_diagnosis'].min(), '\\t', death['age_at_diagnosis'].min() / 365, '\\n',\n",
    "death['age_at_diagnosis'].max(), '\\t', death['age_at_diagnosis'].max() / 365)"
   ]
  },
  {
   "cell_type": "code",
   "execution_count": 44,
   "metadata": {},
   "outputs": [
    {
     "name": "stdout",
     "output_type": "stream",
     "text": [
      "censored \n",
      " 9840.0 \t 26.958904109589042 \n",
      " 32872.0 \t 90.06027397260274\n"
     ]
    }
   ],
   "source": [
    "censor = temp_drop.loc[temp_drop['observed'] == False]\n",
    "print('censored', '\\n',\n",
    "    censor['age_at_diagnosis'].min(), '\\t', censor['age_at_diagnosis'].min() / 365, '\\n',\n",
    "censor['age_at_diagnosis'].max(), '\\t', censor['age_at_diagnosis'].max() / 365)"
   ]
  },
  {
   "cell_type": "code",
   "execution_count": 45,
   "metadata": {},
   "outputs": [
    {
     "data": {
      "text/plain": [
       "32872.0    6\n",
       "23021.0    2\n",
       "22199.0    2\n",
       "24315.0    2\n",
       "19415.0    2\n",
       "29529.0    2\n",
       "21910.0    2\n",
       "18741.0    2\n",
       "21628.0    2\n",
       "21428.0    2\n",
       "21479.0    2\n",
       "14122.0    2\n",
       "22798.0    2\n",
       "14920.0    2\n",
       "16736.0    2\n",
       "19117.0    1\n",
       "22703.0    1\n",
       "26278.0    1\n",
       "26988.0    1\n",
       "19266.0    1\n",
       "18594.0    1\n",
       "18759.0    1\n",
       "19836.0    1\n",
       "29858.0    1\n",
       "26548.0    1\n",
       "24719.0    1\n",
       "29115.0    1\n",
       "16533.0    1\n",
       "17346.0    1\n",
       "28063.0    1\n",
       "          ..\n",
       "12525.0    1\n",
       "23928.0    1\n",
       "13680.0    1\n",
       "21520.0    1\n",
       "22688.0    1\n",
       "19478.0    1\n",
       "25370.0    1\n",
       "18482.0    1\n",
       "19989.0    1\n",
       "20053.0    1\n",
       "23507.0    1\n",
       "29751.0    1\n",
       "25674.0    1\n",
       "19563.0    1\n",
       "15903.0    1\n",
       "32404.0    1\n",
       "31173.0    1\n",
       "22878.0    1\n",
       "17996.0    1\n",
       "23742.0    1\n",
       "20072.0    1\n",
       "24017.0    1\n",
       "20570.0    1\n",
       "21464.0    1\n",
       "19596.0    1\n",
       "22497.0    1\n",
       "22094.0    1\n",
       "18936.0    1\n",
       "20804.0    1\n",
       "21856.0    1\n",
       "Name: age_at_diagnosis, Length: 741, dtype: int64"
      ]
     },
     "execution_count": 45,
     "metadata": {},
     "output_type": "execute_result"
    }
   ],
   "source": [
    "temp_drop['age_at_diagnosis'].value_counts()"
   ]
  },
  {
   "cell_type": "code",
   "execution_count": 46,
   "metadata": {},
   "outputs": [
    {
     "name": "stderr",
     "output_type": "stream",
     "text": [
      "D:\\Anaconda3\\lib\\site-packages\\scipy\\stats\\stats.py:1713: FutureWarning: Using a non-tuple sequence for multidimensional indexing is deprecated; use `arr[tuple(seq)]` instead of `arr[seq]`. In the future this will be interpreted as an array index, `arr[np.array(seq)]`, which will result either in an error or a different result.\n",
      "  return np.add.reduce(sorted[indexer] * weights, axis=axis) / sumval\n"
     ]
    },
    {
     "data": {
      "image/png": "[encoded data removed]",
      "text/plain": [
       "<Figure size 432x288 with 1 Axes>"
      ]
     },
     "metadata": {
      "needs_background": "light"
     },
     "output_type": "display_data"
    }
   ],
   "source": [
    "plt.figure()\n",
    "sns.set()\n",
    "sns.distplot(death['age_at_diagnosis'], label='Dealth');\n",
    "sns.distplot(censor['age_at_diagnosis'], label='Censored');\n",
    "sns.distplot(temp_drop['age_at_diagnosis'], label='All');\n",
    "plt.legend()\n",
    "plt.tight_layout()\n",
    "plt.ylabel('Density')\n",
    "plt.title('State Distribution');\n",
    "plt.savefig('dis.png', dpi=300)"
   ]
  }
 ],
 "metadata": {
  "kernelspec": {
   "display_name": "Python 3",
   "language": "python",
   "name": "python3"
  },
  "language_info": {
   "codemirror_mode": {
    "name": "ipython",
    "version": 3
   },
   "file_extension": ".py",
   "mimetype": "text/x-python",
   "name": "python",
   "nbconvert_exporter": "python",
   "pygments_lexer": "ipython3",
   "version": "3.6.8"
  }
 },
 "nbformat": 4,
 "nbformat_minor": 2
}
