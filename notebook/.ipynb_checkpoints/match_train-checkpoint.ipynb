{
 "cells": [
  {
   "cell_type": "code",
   "execution_count": 1,
   "metadata": {},
   "outputs": [],
   "source": [
    "import os"
   ]
  },
  {
   "cell_type": "code",
   "execution_count": 3,
   "metadata": {},
   "outputs": [],
   "source": [
    "base = '../../selected/'\n",
    "record = {}\n",
    "for dn in os.listdir(base):\n",
    "    record[dn] = len(os.listdir(os.path.join(base, dn)))"
   ]
  },
  {
   "cell_type": "code",
   "execution_count": 5,
   "metadata": {},
   "outputs": [],
   "source": [
    "import pandas as pd"
   ]
  },
  {
   "cell_type": "code",
   "execution_count": 8,
   "metadata": {},
   "outputs": [],
   "source": [
    "comp = pd.read_csv('../data/summary.txt', sep='\\t', header=None)"
   ]
  },
  {
   "cell_type": "code",
   "execution_count": 9,
   "metadata": {},
   "outputs": [],
   "source": [
    "comp.columns = ['case', 'num']"
   ]
  },
  {
   "cell_type": "code",
   "execution_count": 11,
   "metadata": {},
   "outputs": [],
   "source": [
    "re_df = pd.DataFrame.from_dict(record, orient='index')"
   ]
  },
  {
   "cell_type": "code",
   "execution_count": 14,
   "metadata": {},
   "outputs": [],
   "source": [
    "comp_df = re_df.merge(comp, left_index=True, right_on='case')"
   ]
  },
  {
   "cell_type": "code",
   "execution_count": 20,
   "metadata": {},
   "outputs": [],
   "source": [
    "comp_df['gap'] = abs(comp_df.iloc[:, 0] - comp_df.iloc[:, 2]) / comp_df.iloc[:, 0]"
   ]
  },
  {
   "cell_type": "code",
   "execution_count": 21,
   "metadata": {},
   "outputs": [
    {
     "data": {
      "text/html": [
       "<div>\n",
       "<style scoped>\n",
       "    .dataframe tbody tr th:only-of-type {\n",
       "        vertical-align: middle;\n",
       "    }\n",
       "\n",
       "    .dataframe tbody tr th {\n",
       "        vertical-align: top;\n",
       "    }\n",
       "\n",
       "    .dataframe thead th {\n",
       "        text-align: right;\n",
       "    }\n",
       "</style>\n",
       "<table border=\"1\" class=\"dataframe\">\n",
       "  <thead>\n",
       "    <tr style=\"text-align: right;\">\n",
       "      <th></th>\n",
       "      <th>0</th>\n",
       "      <th>case</th>\n",
       "      <th>num</th>\n",
       "      <th>gap</th>\n",
       "    </tr>\n",
       "  </thead>\n",
       "  <tbody>\n",
       "    <tr>\n",
       "      <th>161</th>\n",
       "      <td>209</td>\n",
       "      <td>TCGA-AC-A3W5-01Z-00-DX1</td>\n",
       "      <td>182</td>\n",
       "      <td>0.129187</td>\n",
       "    </tr>\n",
       "  </tbody>\n",
       "</table>\n",
       "</div>"
      ],
      "text/plain": [
       "       0                     case  num       gap\n",
       "161  209  TCGA-AC-A3W5-01Z-00-DX1  182  0.129187"
      ]
     },
     "execution_count": 21,
     "metadata": {},
     "output_type": "execute_result"
    }
   ],
   "source": [
    "comp_df.loc[comp_df['gap'] > 0.1]"
   ]
  },
  {
   "cell_type": "code",
   "execution_count": 44,
   "metadata": {},
   "outputs": [],
   "source": [
    "a = random.choices(range(100), k=10)"
   ]
  },
  {
   "cell_type": "code",
   "execution_count": 49,
   "metadata": {},
   "outputs": [],
   "source": [
    "from itertools import chain"
   ]
  },
  {
   "cell_type": "code",
   "execution_count": 55,
   "metadata": {},
   "outputs": [],
   "source": [
    "def f1():\n",
    "    n = 0\n",
    "    while n < 10:\n",
    "        yield n, n+1\n",
    "        n += 1"
   ]
  },
  {
   "cell_type": "code",
   "execution_count": 56,
   "metadata": {},
   "outputs": [],
   "source": [
    "def f2():\n",
    "    n = 10\n",
    "    while n < 20:\n",
    "        yield n, n+1\n",
    "        n += 1"
   ]
  },
  {
   "cell_type": "code",
   "execution_count": 60,
   "metadata": {},
   "outputs": [
    {
     "name": "stdout",
     "output_type": "stream",
     "text": [
      "1\n"
     ]
    }
   ],
   "source": [
    "if f1:\n",
    "    print(1)"
   ]
  },
  {
   "cell_type": "code",
   "execution_count": 59,
   "metadata": {},
   "outputs": [
    {
     "name": "stdout",
     "output_type": "stream",
     "text": [
      "0 10\n",
      "1 11\n",
      "2 12\n",
      "3 13\n",
      "4 14\n",
      "5 15\n",
      "6 16\n",
      "7 17\n",
      "8 18\n",
      "9 19\n"
     ]
    }
   ],
   "source": [
    "for (a,b),(c,d) in zip(f1(), f2()):\n",
    "    print(a, c)"
   ]
  },
  {
   "cell_type": "code",
   "execution_count": 48,
   "metadata": {},
   "outputs": [
    {
     "data": {
      "text/plain": [
       "[6, 8, 34, 47, 54, 64, 67, 67, 72, 86]"
      ]
     },
     "execution_count": 48,
     "metadata": {},
     "output_type": "execute_result"
    }
   ],
   "source": [
    "a"
   ]
  },
  {
   "cell_type": "code",
   "execution_count": 32,
   "metadata": {},
   "outputs": [],
   "source": [
    "a = [11]"
   ]
  },
  {
   "cell_type": "code",
   "execution_count": 37,
   "metadata": {},
   "outputs": [
    {
     "name": "stdout",
     "output_type": "stream",
     "text": [
      "[[1, 1], [2, 1]]\n"
     ]
    }
   ],
   "source": [
    "a = [1]\n",
    "b = [2]\n",
    "c = [a, b]\n",
    "for num in c:\n",
    "    num.append(1)\n",
    "print(c)\n"
   ]
  },
  {
   "cell_type": "code",
   "execution_count": 63,
   "metadata": {},
   "outputs": [
    {
     "name": "stderr",
     "output_type": "stream",
     "text": [
      "Using TensorFlow backend.\n"
     ]
    }
   ],
   "source": [
    "import os\n",
    "import pandas as pd\n",
    "import random\n",
    "import cv2\n",
    "from keras.applications.nasnet import NASNetMobile, preprocess_input\n",
    "random.seed(42)"
   ]
  },
  {
   "cell_type": "code",
   "execution_count": 27,
   "metadata": {},
   "outputs": [],
   "source": [
    "def case2path(x_p):\n",
    "    cur_dirs = os.listdir(x_p)\n",
    "    result = {}\n",
    "    for dir_n in cur_dirs:\n",
    "        case = dir_n[:12]\n",
    "        if case in result:\n",
    "            continue\n",
    "        result[case] = os.path.join(x_p, dir_n)\n",
    "    return pd.DataFrame.from_dict(result, orient='index', columns=['path'])"
   ]
  },
  {
   "cell_type": "code",
   "execution_count": null,
   "metadata": {},
   "outputs": [],
   "source": [
    "def cur_table_creator(selected_p, target_p='../data/Target.xlsx'):\n",
    "    target = pd.read_excel(target_p)\n",
    "    case_path_df = case2path(selected_p)\n",
    "    match = case_path_df.merge(target, left_index=True, right_on='sample')\n",
    "    print(len(match)/len(target))\n",
    "    match.reset_index(drop=True, inplace=True)\n",
    "    return match"
   ]
  },
  {
   "cell_type": "code",
   "execution_count": 71,
   "metadata": {},
   "outputs": [],
   "source": [
    "def table_creator(cur_table, train_ratio=0.8):\n",
    "    idx = cur_table.index.tolist()\n",
    "\n",
    "    random.shuffle(idx)\n",
    "\n",
    "    train_size = round(len(idx) * train_ratio)\n",
    "    train_idx = idx[:train_size]\n",
    "    test_idx = idx[train_size:]\n",
    "\n",
    "    train_table = cur_table.iloc[train_idx]\n",
    "    test_tabel = cur_table.iloc[test_idx]\n",
    "\n",
    "    train_table.sort_values('duration', inplace=True)\n",
    "    test_tabel.sort_values('duration', inplace=True)"
   ]
  },
  {
   "cell_type": "code",
   "execution_count": 78,
   "metadata": {},
   "outputs": [],
   "source": [
    "def read_dir(dir_p):\n",
    "    pool = os.listdir(dir_p)\n",
    "    sel = random.choice(pool, 1)\n",
    "    x = os.path.join(dir_p, sel)\n",
    "    return preprocess_input(cv2.imread(x))"
   ]
  },
  {
   "cell_type": "code",
   "execution_count": 84,
   "metadata": {
    "scrolled": true
   },
   "outputs": [],
   "source": [
    "def gen_data(df_sort):\n",
    "    while 1:\n",
    "        n = 0\n",
    "        x, T, E = [], [], []\n",
    "        for item in df_sort.iterrows():\n",
    "            path = item[1][0]\n",
    "            dur = item[1][2]\n",
    "            obs = item[1][3]\n",
    "            x.append(read_dir(path))\n",
    "            T.append(dur)\n",
    "            E.append(obs)\n",
    "            n += 1\n",
    "            if n > 100:\n",
    "                yield x, T, E\n",
    "                x, T, E = [], [], []\n",
    "                n = 0"
   ]
  },
  {
   "cell_type": "code",
   "execution_count": 85,
   "metadata": {},
   "outputs": [],
   "source": [
    "test_gen = gen_data(test_tabel)"
   ]
  },
  {
   "cell_type": "code",
   "execution_count": 86,
   "metadata": {},
   "outputs": [
    {
     "ename": "TypeError",
     "evalue": "'function' object is not an iterator",
     "output_type": "error",
     "traceback": [
      "\u001b[1;31m---------------------------------------------------------------------------\u001b[0m",
      "\u001b[1;31mTypeError\u001b[0m                                 Traceback (most recent call last)",
      "\u001b[1;32m<ipython-input-86-19b2562fbf16>\u001b[0m in \u001b[0;36m<module>\u001b[1;34m\u001b[0m\n\u001b[1;32m----> 1\u001b[1;33m \u001b[0mitem\u001b[0m \u001b[1;33m=\u001b[0m \u001b[0mnext\u001b[0m\u001b[1;33m(\u001b[0m\u001b[0mgen_data\u001b[0m\u001b[1;33m)\u001b[0m\u001b[1;33m\u001b[0m\u001b[1;33m\u001b[0m\u001b[0m\n\u001b[0m",
      "\u001b[1;31mTypeError\u001b[0m: 'function' object is not an iterator"
     ]
    }
   ],
   "source": [
    "item = next(gen_data)"
   ]
  },
  {
   "cell_type": "code",
   "execution_count": null,
   "metadata": {},
   "outputs": [],
   "source": [
    "def data_flow():\n",
    "    aug = ImageDataGenerator(\n",
    "        rescale=1./255,\n",
    "        rotation_range=40,\n",
    "        width_shift_range=0.2,\n",
    "        height_shift_range=0.2,\n",
    "        shear_range=0.2,\n",
    "        zoom_range=0.2,\n",
    "        horizontal_flip=True,)\n",
    "    return aug"
   ]
  },
  {
   "cell_type": "code",
   "execution_count": null,
   "metadata": {},
   "outputs": [],
   "source": [
    "def train():\n",
    "    ada = Adagrad(lr=1e-3, decay=0.1)\n",
    "    # rmsprop=RMSprop(lr=1e-5, rho=0.9, epsilon=1e-8)\n",
    "    cheak_list = [EarlyStopping(monitor='loss', patience=10),\n",
    "                ModelCheckpoint(filepath=os.path.join(dst, 'modelcc.h5')\n",
    "                , monitor='loss', save_best_only=True),\n",
    "                TensorBoard(log_dir=os.path.join(dst, 'cell_log'), \n",
    "                histogram_freq=0)]\n",
    "    model.fit_generator(\n",
    "        ,\n",
    "        steps_per_epoch=1,\n",
    "        epochs=100,\n",
    "        callbacks=cheak_list,\n",
    "        shuffle=False)"
   ]
  },
  {
   "cell_type": "code",
   "execution_count": 1,
   "metadata": {},
   "outputs": [],
   "source": [
    "from keras.models import Model\n",
    "from keras.preprocessing.image import img_to_array, ImageDataGenerator\n",
    "from keras.layers import Input, GlobalMaxPooling2D, GlobalAveragePooling2D, Flatten, Concatenate, Dropout, Dense\n",
    "from keras import backend as K\n",
    "from keras.regularizers import l2\n",
    "from keras.optimizers import Adagrad, RMSprop\n",
    "from keras.callbacks import EarlyStopping, ModelCheckpoint, TensorBoard\n",
    "from keras.applications.nasnet import NASNetMobile, preprocess_input"
   ]
  },
  {
   "cell_type": "code",
   "execution_count": 2,
   "metadata": {},
   "outputs": [],
   "source": [
    "inputs = Input((96, 96, 3))\n",
    "base_model = NASNetMobile(include_top=False, input_shape=(96, 96, 3))#, weights=None\n",
    "x = base_model(inputs)\n",
    "out1 = GlobalMaxPooling2D()(x)\n",
    "out2 = GlobalAveragePooling2D()(x)\n",
    "out3 = Flatten()(x)\n",
    "out = Concatenate(axis=-1)([out1, out2, out3])\n",
    "out = Dropout(0.5)(out)\n",
    "out = Dense(1, activation=\"linear\", kernel_initializer='glorot_uniform', \n",
    "kernel_regularizer=l2(0.01), activity_regularizer=l2(0.01))(out)\n",
    "model = Model(inputs, out)"
   ]
  },
  {
   "cell_type": "code",
   "execution_count": 3,
   "metadata": {},
   "outputs": [],
   "source": [
    "model.load_weights('../model.h5', by_name='NASNet')\n",
    "\n",
    "model.layers[1].trainable = False\n",
    "\n",
    "model.summary()"
   ]
  },
  {
   "cell_type": "code",
   "execution_count": 6,
   "metadata": {},
   "outputs": [],
   "source": [
    "def negative_log_likelihood(E):\n",
    "\tdef loss(y_true,y_pred):\n",
    "\t\thazard_ratio = K.exp(y_pred)\n",
    "\t\tlog_risk = K.log(K.cumsum(hazard_ratio))\n",
    "\t\tuncensored_likelihood = K.transpose(y_pred) - log_risk\n",
    "\t\tcensored_likelihood = uncensored_likelihood * E\n",
    "\t\tnum_observed_event = K.sum([float(e) for e in E]) + 1\n",
    "\t\treturn K.sum(censored_likelihood) / num_observed_event * (-1)\n",
    "\treturn loss"
   ]
  },
  {
   "cell_type": "code",
   "execution_count": null,
   "metadata": {},
   "outputs": [],
   "source": [
    "preprocess_input(cv2.imread(x))"
   ]
  }
 ],
 "metadata": {
  "kernelspec": {
   "display_name": "Python 3",
   "language": "python",
   "name": "python3"
  },
  "language_info": {
   "codemirror_mode": {
    "name": "ipython",
    "version": 3
   },
   "file_extension": ".py",
   "mimetype": "text/x-python",
   "name": "python",
   "nbconvert_exporter": "python",
   "pygments_lexer": "ipython3",
   "version": "3.6.7"
  }
 },
 "nbformat": 4,
 "nbformat_minor": 2
}
