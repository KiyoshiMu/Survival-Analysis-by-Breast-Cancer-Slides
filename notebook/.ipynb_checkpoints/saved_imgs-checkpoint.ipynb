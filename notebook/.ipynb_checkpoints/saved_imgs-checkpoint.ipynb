{
 "cells": [
  {
   "cell_type": "code",
   "execution_count": 1,
   "metadata": {},
   "outputs": [],
   "source": [
    "import pandas as pd\n",
    "import numpy as np"
   ]
  },
  {
   "cell_type": "code",
   "execution_count": 2,
   "metadata": {},
   "outputs": [],
   "source": [
    "pixel_to_micron = 2.43 # 10X power"
   ]
  },
  {
   "cell_type": "markdown",
   "metadata": {},
   "source": [
    "First, combine slides metainfo and the outcome of Nesnet selection."
   ]
  },
  {
   "cell_type": "code",
   "execution_count": 4,
   "metadata": {},
   "outputs": [],
   "source": [
    "img_size = pd.read_csv('../data/power.txt', sep=r'\\t', engine='python')\n",
    "img_size['Name'] = img_size['Name'].str.split('.').str[0]\n",
    "img_size['Size'] = img_size['Size'].str.split(',')\n",
    "img_sel = pd.read_csv('../data/summary.txt', sep=r'\\t', header=None, engine='python')\n",
    "img_sel.columns = ['name', 'num']\n",
    "img_comp = img_sel.merge(img_size, left_on='name', right_on='Name').drop('Name', axis=1)"
   ]
  },
  {
   "cell_type": "markdown",
   "metadata": {},
   "source": [
    "Then, get useful information from raw data."
   ]
  },
  {
   "cell_type": "code",
   "execution_count": 5,
   "metadata": {},
   "outputs": [
    {
     "data": {
      "text/plain": [
       "799"
      ]
     },
     "execution_count": 5,
     "metadata": {},
     "output_type": "execute_result"
    }
   ],
   "source": [
    "len(img_comp)"
   ]
  },
  {
   "cell_type": "code",
   "execution_count": 99,
   "metadata": {},
   "outputs": [],
   "source": [
    "img_comp['area'] = img_comp['Size'].apply(lambda x:int(x[0].replace(\"'\", \"\")) * int(x[1].replace(\"'\", \"\")))\n",
    "tile_area = 96 * 96\n",
    "img_comp['ratio'] = (img_comp['Power'] / 10) ** 2 * tile_area * img_comp['num']  / img_comp['area']\n",
    "img_comp['ori_num_10X'] = img_comp['area'] / ((img_comp['Power'] / 10) ** 2 * tile_area)\n",
    "img_comp['real_area'] = img_comp['area']"
   ]
  },
  {
   "cell_type": "markdown",
   "metadata": {},
   "source": [
    "The case with the most selected image is TCGA-D8-A1XR-01Z-00-DX1. The case with the largest seletion ratio is TCGA-D8-A1X5-01Z-00-DX2. Since we defaultly use DX1, instead of DX1,  "
   ]
  },
  {
   "cell_type": "code",
   "execution_count": 103,
   "metadata": {},
   "outputs": [
    {
     "data": {
      "text/html": [
       "<div>\n",
       "<style scoped>\n",
       "    .dataframe tbody tr th:only-of-type {\n",
       "        vertical-align: middle;\n",
       "    }\n",
       "\n",
       "    .dataframe tbody tr th {\n",
       "        vertical-align: top;\n",
       "    }\n",
       "\n",
       "    .dataframe thead th {\n",
       "        text-align: right;\n",
       "    }\n",
       "</style>\n",
       "<table border=\"1\" class=\"dataframe\">\n",
       "  <thead>\n",
       "    <tr style=\"text-align: right;\">\n",
       "      <th></th>\n",
       "      <th>name</th>\n",
       "      <th>num</th>\n",
       "      <th>Power</th>\n",
       "      <th>Size</th>\n",
       "      <th>area</th>\n",
       "      <th>ratio</th>\n",
       "      <th>ori_num_10X</th>\n",
       "    </tr>\n",
       "  </thead>\n",
       "  <tbody>\n",
       "    <tr>\n",
       "      <th>479</th>\n",
       "      <td>TCGA-D8-A1XR-01Z-00-DX1</td>\n",
       "      <td>27971</td>\n",
       "      <td>40</td>\n",
       "      <td>['94468',  '184688']</td>\n",
       "      <td>17447105984</td>\n",
       "      <td>0.2364</td>\n",
       "      <td>118320.759983</td>\n",
       "    </tr>\n",
       "  </tbody>\n",
       "</table>\n",
       "</div>"
      ],
      "text/plain": [
       "                        name    num  Power                  Size         area  \\\n",
       "479  TCGA-D8-A1XR-01Z-00-DX1  27971     40  ['94468',  '184688']  17447105984   \n",
       "\n",
       "      ratio    ori_num_10X  \n",
       "479  0.2364  118320.759983  "
      ]
     },
     "execution_count": 103,
     "metadata": {},
     "output_type": "execute_result"
    }
   ],
   "source": [
    "img_comp.loc[img_comp['num'] == img_comp['num'].max()]"
   ]
  },
  {
   "cell_type": "code",
   "execution_count": 104,
   "metadata": {},
   "outputs": [
    {
     "data": {
      "text/html": [
       "<div>\n",
       "<style scoped>\n",
       "    .dataframe tbody tr th:only-of-type {\n",
       "        vertical-align: middle;\n",
       "    }\n",
       "\n",
       "    .dataframe tbody tr th {\n",
       "        vertical-align: top;\n",
       "    }\n",
       "\n",
       "    .dataframe thead th {\n",
       "        text-align: right;\n",
       "    }\n",
       "</style>\n",
       "<table border=\"1\" class=\"dataframe\">\n",
       "  <thead>\n",
       "    <tr style=\"text-align: right;\">\n",
       "      <th></th>\n",
       "      <th>name</th>\n",
       "      <th>num</th>\n",
       "      <th>Power</th>\n",
       "      <th>Size</th>\n",
       "      <th>area</th>\n",
       "      <th>ratio</th>\n",
       "      <th>ori_num_10X</th>\n",
       "    </tr>\n",
       "  </thead>\n",
       "  <tbody>\n",
       "    <tr>\n",
       "      <th>459</th>\n",
       "      <td>TCGA-D8-A1X5-01Z-00-DX2</td>\n",
       "      <td>26666</td>\n",
       "      <td>40</td>\n",
       "      <td>['81748',  '101591']</td>\n",
       "      <td>8304861068</td>\n",
       "      <td>0.473465</td>\n",
       "      <td>56320.943658</td>\n",
       "    </tr>\n",
       "  </tbody>\n",
       "</table>\n",
       "</div>"
      ],
      "text/plain": [
       "                        name    num  Power                  Size        area  \\\n",
       "459  TCGA-D8-A1X5-01Z-00-DX2  26666     40  ['81748',  '101591']  8304861068   \n",
       "\n",
       "        ratio   ori_num_10X  \n",
       "459  0.473465  56320.943658  "
      ]
     },
     "execution_count": 104,
     "metadata": {},
     "output_type": "execute_result"
    }
   ],
   "source": [
    "img_comp.loc[img_comp['ratio'] == img_comp.loc[img_comp['name'].str.contains('DX1'),'ratio'].max()]"
   ]
  },
  {
   "cell_type": "code",
   "execution_count": 107,
   "metadata": {},
   "outputs": [],
   "source": [
    "special = img_comp.loc[img_comp['num'] <= 50, 'name']"
   ]
  },
  {
   "cell_type": "code",
   "execution_count": 109,
   "metadata": {},
   "outputs": [
    {
     "data": {
      "text/plain": [
       "55"
      ]
     },
     "execution_count": 109,
     "metadata": {},
     "output_type": "execute_result"
    }
   ],
   "source": [
    "len(special)"
   ]
  },
  {
   "cell_type": "code",
   "execution_count": 111,
   "metadata": {},
   "outputs": [],
   "source": [
    "target = pd.read_excel('../data/Target.xlsx')"
   ]
  },
  {
   "cell_type": "code",
   "execution_count": 115,
   "metadata": {},
   "outputs": [],
   "source": [
    "special_df = target.set_index('sample').loc[[case[:12] for case in special]]"
   ]
  },
  {
   "cell_type": "code",
   "execution_count": 120,
   "metadata": {},
   "outputs": [],
   "source": [
    "special_df.sort_values('duration', inplace=True)"
   ]
  },
  {
   "cell_type": "code",
   "execution_count": 123,
   "metadata": {},
   "outputs": [],
   "source": [
    "# special.to_csv('../data/less50.txt', header=False)\n",
    "# img_comp.to_csv('../data/img_comp.xlsx')"
   ]
  },
  {
   "cell_type": "code",
   "execution_count": 94,
   "metadata": {
    "scrolled": true
   },
   "outputs": [
    {
     "data": {
      "text/plain": [
       "732    0.000010\n",
       "723    0.000015\n",
       "706    0.000016\n",
       "721    0.000020\n",
       "745    0.000022\n",
       "598    0.000029\n",
       "705    0.000043\n",
       "711    0.000043\n",
       "730    0.000045\n",
       "597    0.000048\n",
       "Name: ratio, dtype: float64"
      ]
     },
     "execution_count": 94,
     "metadata": {},
     "output_type": "execute_result"
    }
   ],
   "source": [
    "img_comp['ratio'].nsmallest(10)"
   ]
  },
  {
   "cell_type": "code",
   "execution_count": 93,
   "metadata": {},
   "outputs": [
    {
     "data": {
      "text/plain": [
       "459    0.473465\n",
       "458    0.390258\n",
       "389    0.375826\n",
       "460    0.326863\n",
       "449    0.297690\n",
       "691    0.286293\n",
       "87     0.283159\n",
       "46     0.278065\n",
       "170    0.253598\n",
       "164    0.248040\n",
       "Name: ratio, dtype: float64"
      ]
     },
     "execution_count": 93,
     "metadata": {},
     "output_type": "execute_result"
    }
   ],
   "source": [
    "img_comp['ratio'].nlargest(10)"
   ]
  },
  {
   "cell_type": "code",
   "execution_count": 77,
   "metadata": {},
   "outputs": [
    {
     "data": {
      "text/html": [
       "<div>\n",
       "<style scoped>\n",
       "    .dataframe tbody tr th:only-of-type {\n",
       "        vertical-align: middle;\n",
       "    }\n",
       "\n",
       "    .dataframe tbody tr th {\n",
       "        vertical-align: top;\n",
       "    }\n",
       "\n",
       "    .dataframe thead th {\n",
       "        text-align: right;\n",
       "    }\n",
       "</style>\n",
       "<table border=\"1\" class=\"dataframe\">\n",
       "  <thead>\n",
       "    <tr style=\"text-align: right;\">\n",
       "      <th></th>\n",
       "      <th>num</th>\n",
       "      <th>Power</th>\n",
       "      <th>area</th>\n",
       "      <th>ratio</th>\n",
       "    </tr>\n",
       "  </thead>\n",
       "  <tbody>\n",
       "    <tr>\n",
       "      <th>count</th>\n",
       "      <td>799.000000</td>\n",
       "      <td>799.000000</td>\n",
       "      <td>7.990000e+02</td>\n",
       "      <td>799.000000</td>\n",
       "    </tr>\n",
       "    <tr>\n",
       "      <th>mean</th>\n",
       "      <td>3068.411765</td>\n",
       "      <td>38.448060</td>\n",
       "      <td>7.673671e+09</td>\n",
       "      <td>0.059068</td>\n",
       "    </tr>\n",
       "    <tr>\n",
       "      <th>std</th>\n",
       "      <td>3491.340687</td>\n",
       "      <td>5.354079</td>\n",
       "      <td>3.521220e+09</td>\n",
       "      <td>0.061477</td>\n",
       "    </tr>\n",
       "    <tr>\n",
       "      <th>min</th>\n",
       "      <td>1.000000</td>\n",
       "      <td>20.000000</td>\n",
       "      <td>3.693566e+08</td>\n",
       "      <td>0.000010</td>\n",
       "    </tr>\n",
       "    <tr>\n",
       "      <th>25%</th>\n",
       "      <td>550.500000</td>\n",
       "      <td>40.000000</td>\n",
       "      <td>5.381896e+09</td>\n",
       "      <td>0.012189</td>\n",
       "    </tr>\n",
       "    <tr>\n",
       "      <th>50%</th>\n",
       "      <td>1971.000000</td>\n",
       "      <td>40.000000</td>\n",
       "      <td>7.747655e+09</td>\n",
       "      <td>0.041195</td>\n",
       "    </tr>\n",
       "    <tr>\n",
       "      <th>75%</th>\n",
       "      <td>4467.500000</td>\n",
       "      <td>40.000000</td>\n",
       "      <td>9.846987e+09</td>\n",
       "      <td>0.087751</td>\n",
       "    </tr>\n",
       "    <tr>\n",
       "      <th>max</th>\n",
       "      <td>27971.000000</td>\n",
       "      <td>40.000000</td>\n",
       "      <td>3.562163e+10</td>\n",
       "      <td>0.473465</td>\n",
       "    </tr>\n",
       "  </tbody>\n",
       "</table>\n",
       "</div>"
      ],
      "text/plain": [
       "                num       Power          area       ratio\n",
       "count    799.000000  799.000000  7.990000e+02  799.000000\n",
       "mean    3068.411765   38.448060  7.673671e+09    0.059068\n",
       "std     3491.340687    5.354079  3.521220e+09    0.061477\n",
       "min        1.000000   20.000000  3.693566e+08    0.000010\n",
       "25%      550.500000   40.000000  5.381896e+09    0.012189\n",
       "50%     1971.000000   40.000000  7.747655e+09    0.041195\n",
       "75%     4467.500000   40.000000  9.846987e+09    0.087751\n",
       "max    27971.000000   40.000000  3.562163e+10    0.473465"
      ]
     },
     "execution_count": 77,
     "metadata": {},
     "output_type": "execute_result"
    }
   ],
   "source": [
    "img_comp.describe()"
   ]
  },
  {
   "cell_type": "markdown",
   "metadata": {},
   "source": [
    "### in real disk"
   ]
  },
  {
   "cell_type": "code",
   "execution_count": 6,
   "metadata": {},
   "outputs": [],
   "source": [
    "import os"
   ]
  },
  {
   "cell_type": "code",
   "execution_count": 15,
   "metadata": {},
   "outputs": [],
   "source": [
    "base = '../../selected/'\n",
    "img_disk = {}\n",
    "for dn in os.listdir(base):\n",
    "    img_disk[dn] = len(os.listdir(os.path.join(base, dn)))"
   ]
  },
  {
   "cell_type": "code",
   "execution_count": 12,
   "metadata": {},
   "outputs": [
    {
     "data": {
      "text/plain": [
       "807"
      ]
     },
     "execution_count": 12,
     "metadata": {},
     "output_type": "execute_result"
    }
   ],
   "source": [
    "len(img_disk)"
   ]
  },
  {
   "cell_type": "code",
   "execution_count": 9,
   "metadata": {},
   "outputs": [],
   "source": [
    "import pickle"
   ]
  },
  {
   "cell_type": "code",
   "execution_count": 10,
   "metadata": {},
   "outputs": [],
   "source": [
    "with open('../data/case_set.pkl', 'rb') as case:\n",
    "    case_set = pickle.load(case)"
   ]
  },
  {
   "cell_type": "code",
   "execution_count": 11,
   "metadata": {},
   "outputs": [
    {
     "data": {
      "text/plain": [
       "809"
      ]
     },
     "execution_count": 11,
     "metadata": {},
     "output_type": "execute_result"
    }
   ],
   "source": [
    "len(case_set)"
   ]
  },
  {
   "cell_type": "code",
   "execution_count": 15,
   "metadata": {},
   "outputs": [],
   "source": [
    "import sys\n",
    "sys.path.append('..')"
   ]
  },
  {
   "cell_type": "code",
   "execution_count": 16,
   "metadata": {},
   "outputs": [],
   "source": [
    "from tools import save_pickle"
   ]
  },
  {
   "cell_type": "code",
   "execution_count": 20,
   "metadata": {},
   "outputs": [],
   "source": [
    "lack_set = case_set - set(img_disk.keys())"
   ]
  },
  {
   "cell_type": "code",
   "execution_count": 26,
   "metadata": {},
   "outputs": [],
   "source": [
    "lack_set = {i for i in lack_set if 'DX2' not in i}"
   ]
  },
  {
   "cell_type": "code",
   "execution_count": 20,
   "metadata": {},
   "outputs": [],
   "source": [
    "less_50_set = set()\n",
    "for item, v in img_disk.items():\n",
    "    if v < 50 and img_disk.get(item[:-1]+'2') is None:\n",
    "        less_50_set.add(item)"
   ]
  },
  {
   "cell_type": "code",
   "execution_count": 21,
   "metadata": {},
   "outputs": [
    {
     "data": {
      "text/plain": [
       "set()"
      ]
     },
     "execution_count": 21,
     "metadata": {},
     "output_type": "execute_result"
    }
   ],
   "source": [
    "less_50_set"
   ]
  },
  {
   "cell_type": "code",
   "execution_count": 29,
   "metadata": {},
   "outputs": [],
   "source": [
    "# save_pickle(saver, '../data', name='less_record_set')"
   ]
  },
  {
   "cell_type": "code",
   "execution_count": 5,
   "metadata": {},
   "outputs": [],
   "source": [
    "import pandas as pd"
   ]
  },
  {
   "cell_type": "code",
   "execution_count": 11,
   "metadata": {},
   "outputs": [],
   "source": [
    "disk_df = pd.DataFrame.from_dict(img_disk, orient='index')"
   ]
  },
  {
   "cell_type": "code",
   "execution_count": 14,
   "metadata": {},
   "outputs": [],
   "source": [
    "diff_df = disk_df.merge(img_sel, left_index=True, right_on='name')"
   ]
  },
  {
   "cell_type": "code",
   "execution_count": 20,
   "metadata": {},
   "outputs": [],
   "source": [
    "diff_df['gap'] = abs(comp_df.iloc[:, 0] - comp_df.iloc[:, 2]) / comp_df.iloc[:, 0]"
   ]
  },
  {
   "cell_type": "code",
   "execution_count": 21,
   "metadata": {},
   "outputs": [
    {
     "data": {
      "text/html": [
       "<div>\n",
       "<style scoped>\n",
       "    .dataframe tbody tr th:only-of-type {\n",
       "        vertical-align: middle;\n",
       "    }\n",
       "\n",
       "    .dataframe tbody tr th {\n",
       "        vertical-align: top;\n",
       "    }\n",
       "\n",
       "    .dataframe thead th {\n",
       "        text-align: right;\n",
       "    }\n",
       "</style>\n",
       "<table border=\"1\" class=\"dataframe\">\n",
       "  <thead>\n",
       "    <tr style=\"text-align: right;\">\n",
       "      <th></th>\n",
       "      <th>0</th>\n",
       "      <th>case</th>\n",
       "      <th>num</th>\n",
       "      <th>gap</th>\n",
       "    </tr>\n",
       "  </thead>\n",
       "  <tbody>\n",
       "    <tr>\n",
       "      <th>161</th>\n",
       "      <td>209</td>\n",
       "      <td>TCGA-AC-A3W5-01Z-00-DX1</td>\n",
       "      <td>182</td>\n",
       "      <td>0.129187</td>\n",
       "    </tr>\n",
       "  </tbody>\n",
       "</table>\n",
       "</div>"
      ],
      "text/plain": [
       "       0                     case  num       gap\n",
       "161  209  TCGA-AC-A3W5-01Z-00-DX1  182  0.129187"
      ]
     },
     "execution_count": 21,
     "metadata": {},
     "output_type": "execute_result"
    }
   ],
   "source": [
    "diff_df.loc[comp_df['gap'] > 0.1]"
   ]
  },
  {
   "cell_type": "markdown",
   "metadata": {},
   "source": [
    "Why the imgs saved are less than the record in dict?"
   ]
  },
  {
   "cell_type": "code",
   "execution_count": null,
   "metadata": {},
   "outputs": [],
   "source": [
    "diff = set(img_sel['name'].tolist()) - set(diff_df['case'].tolist())"
   ]
  }
 ],
 "metadata": {
  "kernelspec": {
   "display_name": "Python 3",
   "language": "python",
   "name": "python3"
  },
  "language_info": {
   "codemirror_mode": {
    "name": "ipython",
    "version": 3
   },
   "file_extension": ".py",
   "mimetype": "text/x-python",
   "name": "python",
   "nbconvert_exporter": "python",
   "pygments_lexer": "ipython3",
   "version": "3.6.7"
  }
 },
 "nbformat": 4,
 "nbformat_minor": 2
}
