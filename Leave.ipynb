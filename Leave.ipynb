{
 "cells": [
  {
   "cell_type": "code",
   "execution_count": 61,
   "metadata": {},
   "outputs": [],
   "source": [
    "import pandas as pd"
   ]
  },
  {
   "cell_type": "code",
   "execution_count": 10,
   "metadata": {},
   "outputs": [],
   "source": [
    "cur = pd.read_csv('current.txt', header=None)"
   ]
  },
  {
   "cell_type": "code",
   "execution_count": 19,
   "metadata": {},
   "outputs": [],
   "source": [
    "cur['name'] = cur.loc[:, 0].str.slice(0, 12)"
   ]
  },
  {
   "cell_type": "code",
   "execution_count": 20,
   "metadata": {},
   "outputs": [
    {
     "data": {
      "text/html": [
       "<div>\n",
       "<style scoped>\n",
       "    .dataframe tbody tr th:only-of-type {\n",
       "        vertical-align: middle;\n",
       "    }\n",
       "\n",
       "    .dataframe tbody tr th {\n",
       "        vertical-align: top;\n",
       "    }\n",
       "\n",
       "    .dataframe thead th {\n",
       "        text-align: right;\n",
       "    }\n",
       "</style>\n",
       "<table border=\"1\" class=\"dataframe\">\n",
       "  <thead>\n",
       "    <tr style=\"text-align: right;\">\n",
       "      <th></th>\n",
       "      <th>0</th>\n",
       "      <th>name</th>\n",
       "    </tr>\n",
       "  </thead>\n",
       "  <tbody>\n",
       "    <tr>\n",
       "      <th>0</th>\n",
       "      <td>TCGA-D8-A1X7-01Z-00-DX1.3529AEED-2827-4D94-9A8...</td>\n",
       "      <td>TCGA-D8-A1X7</td>\n",
       "    </tr>\n",
       "    <tr>\n",
       "      <th>1</th>\n",
       "      <td>TCGA-D8-A1Y2-01Z-00-DX1.77451A0F-00FD-44A9-A0D...</td>\n",
       "      <td>TCGA-D8-A1Y2</td>\n",
       "    </tr>\n",
       "    <tr>\n",
       "      <th>2</th>\n",
       "      <td>TCGA-A8-A09I-01Z-00-DX1.B738E479-8766-4766-B01...</td>\n",
       "      <td>TCGA-A8-A09I</td>\n",
       "    </tr>\n",
       "    <tr>\n",
       "      <th>3</th>\n",
       "      <td>TCGA-E2-A1LK-01Z-00-DX1.5EBAA1F4-F1B4-4938-A51...</td>\n",
       "      <td>TCGA-E2-A1LK</td>\n",
       "    </tr>\n",
       "    <tr>\n",
       "      <th>4</th>\n",
       "      <td>TCGA-D8-A1XZ-01Z-00-DX1.8E51A61D-B01C-4A52-8F5...</td>\n",
       "      <td>TCGA-D8-A1XZ</td>\n",
       "    </tr>\n",
       "  </tbody>\n",
       "</table>\n",
       "</div>"
      ],
      "text/plain": [
       "                                                   0          name\n",
       "0  TCGA-D8-A1X7-01Z-00-DX1.3529AEED-2827-4D94-9A8...  TCGA-D8-A1X7\n",
       "1  TCGA-D8-A1Y2-01Z-00-DX1.77451A0F-00FD-44A9-A0D...  TCGA-D8-A1Y2\n",
       "2  TCGA-A8-A09I-01Z-00-DX1.B738E479-8766-4766-B01...  TCGA-A8-A09I\n",
       "3  TCGA-E2-A1LK-01Z-00-DX1.5EBAA1F4-F1B4-4938-A51...  TCGA-E2-A1LK\n",
       "4  TCGA-D8-A1XZ-01Z-00-DX1.8E51A61D-B01C-4A52-8F5...  TCGA-D8-A1XZ"
      ]
     },
     "execution_count": 20,
     "metadata": {},
     "output_type": "execute_result"
    }
   ],
   "source": [
    "cur.head()"
   ]
  },
  {
   "cell_type": "code",
   "execution_count": 27,
   "metadata": {},
   "outputs": [],
   "source": [
    "target = pd.read_csv('samples.txt', header=None, index_col=0)"
   ]
  },
  {
   "cell_type": "code",
   "execution_count": 29,
   "metadata": {},
   "outputs": [],
   "source": [
    "target.set_axis(['name'], axis=1, inplace=True)"
   ]
  },
  {
   "cell_type": "code",
   "execution_count": 30,
   "metadata": {
    "scrolled": true
   },
   "outputs": [
    {
     "data": {
      "text/html": [
       "<div>\n",
       "<style scoped>\n",
       "    .dataframe tbody tr th:only-of-type {\n",
       "        vertical-align: middle;\n",
       "    }\n",
       "\n",
       "    .dataframe tbody tr th {\n",
       "        vertical-align: top;\n",
       "    }\n",
       "\n",
       "    .dataframe thead th {\n",
       "        text-align: right;\n",
       "    }\n",
       "</style>\n",
       "<table border=\"1\" class=\"dataframe\">\n",
       "  <thead>\n",
       "    <tr style=\"text-align: right;\">\n",
       "      <th></th>\n",
       "      <th>name</th>\n",
       "    </tr>\n",
       "    <tr>\n",
       "      <th>0</th>\n",
       "      <th></th>\n",
       "    </tr>\n",
       "  </thead>\n",
       "  <tbody>\n",
       "    <tr>\n",
       "      <th>0</th>\n",
       "      <td>TCGA-A8-A07S</td>\n",
       "    </tr>\n",
       "    <tr>\n",
       "      <th>1</th>\n",
       "      <td>TCGA-A2-A04Y</td>\n",
       "    </tr>\n",
       "    <tr>\n",
       "      <th>2</th>\n",
       "      <td>TCGA-BH-A0BO</td>\n",
       "    </tr>\n",
       "    <tr>\n",
       "      <th>3</th>\n",
       "      <td>TCGA-B6-A0I6</td>\n",
       "    </tr>\n",
       "    <tr>\n",
       "      <th>4</th>\n",
       "      <td>TCGA-BH-A0HQ</td>\n",
       "    </tr>\n",
       "  </tbody>\n",
       "</table>\n",
       "</div>"
      ],
      "text/plain": [
       "           name\n",
       "0              \n",
       "0  TCGA-A8-A07S\n",
       "1  TCGA-A2-A04Y\n",
       "2  TCGA-BH-A0BO\n",
       "3  TCGA-B6-A0I6\n",
       "4  TCGA-BH-A0HQ"
      ]
     },
     "execution_count": 30,
     "metadata": {},
     "output_type": "execute_result"
    }
   ],
   "source": [
    "target.head()"
   ]
  },
  {
   "cell_type": "code",
   "execution_count": 31,
   "metadata": {},
   "outputs": [],
   "source": [
    "target_pool = set(target['name'].tolist())"
   ]
  },
  {
   "cell_type": "code",
   "execution_count": 40,
   "metadata": {},
   "outputs": [],
   "source": [
    "cur_list = cur['name'].tolist()"
   ]
  },
  {
   "cell_type": "code",
   "execution_count": 41,
   "metadata": {},
   "outputs": [],
   "source": [
    "cur_pool = set(cur_list)"
   ]
  },
  {
   "cell_type": "code",
   "execution_count": 32,
   "metadata": {},
   "outputs": [
    {
     "name": "stdout",
     "output_type": "stream",
     "text": [
      "770 1062\n"
     ]
    }
   ],
   "source": [
    "print(len(target_pool), len(cur_pool)) "
   ]
  },
  {
   "cell_type": "code",
   "execution_count": 33,
   "metadata": {},
   "outputs": [
    {
     "data": {
      "text/plain": [
       "set()"
      ]
     },
     "execution_count": 33,
     "metadata": {},
     "output_type": "execute_result"
    }
   ],
   "source": [
    "target_pool - cur_pool # all have been prepared"
   ]
  },
  {
   "cell_type": "code",
   "execution_count": 55,
   "metadata": {},
   "outputs": [],
   "source": [
    "for_bash_mv = cur.merge(target, left_on='name', right_on='name', how='inner')"
   ]
  },
  {
   "cell_type": "code",
   "execution_count": 56,
   "metadata": {},
   "outputs": [
    {
     "data": {
      "text/plain": [
       "820"
      ]
     },
     "execution_count": 56,
     "metadata": {},
     "output_type": "execute_result"
    }
   ],
   "source": [
    "len(for_bash_mv)"
   ]
  },
  {
   "cell_type": "code",
   "execution_count": 42,
   "metadata": {},
   "outputs": [],
   "source": [
    "from collections import defaultdict"
   ]
  },
  {
   "cell_type": "code",
   "execution_count": 50,
   "metadata": {},
   "outputs": [],
   "source": [
    "def helper():\n",
    "    hist = defaultdict(int)\n",
    "    rec = []\n",
    "    for item in cur_list:\n",
    "        if item in cur_pool:\n",
    "            hist[item] += 1\n",
    "            if hist[item] >= 2:\n",
    "                rec.append(item)\n",
    "    return rec"
   ]
  },
  {
   "cell_type": "code",
   "execution_count": 51,
   "metadata": {},
   "outputs": [],
   "source": [
    "duplicate = helper()"
   ]
  },
  {
   "cell_type": "code",
   "execution_count": 52,
   "metadata": {},
   "outputs": [
    {
     "data": {
      "text/plain": [
       "71"
      ]
     },
     "execution_count": 52,
     "metadata": {},
     "output_type": "execute_result"
    }
   ],
   "source": [
    "len(duplicate)"
   ]
  },
  {
   "cell_type": "code",
   "execution_count": 53,
   "metadata": {},
   "outputs": [
    {
     "data": {
      "text/plain": [
       "['TCGA-D8-A1X7',\n",
       " 'TCGA-PL-A8LY',\n",
       " 'TCGA-PL-A8LZ',\n",
       " 'TCGA-D8-A27T',\n",
       " 'TCGA-OK-A5Q2']"
      ]
     },
     "execution_count": 53,
     "metadata": {},
     "output_type": "execute_result"
    }
   ],
   "source": [
    "duplicate[:5] "
   ]
  },
  {
   "cell_type": "code",
   "execution_count": null,
   "metadata": {},
   "outputs": [],
   "source": [
    "\"\"\"One case has multiple slides, but the order of sliders seems ramdon. In this case, we don't pay attention to which one is selected\n",
    "or maybe we can use all of them. Since the case is an integraty, the varying slides should represent the same symptom.\n",
    "Here, I chose use all of them. 2018.11.18\"\"\""
   ]
  },
  {
   "cell_type": "code",
   "execution_count": 57,
   "metadata": {},
   "outputs": [
    {
     "data": {
      "text/html": [
       "<div>\n",
       "<style scoped>\n",
       "    .dataframe tbody tr th:only-of-type {\n",
       "        vertical-align: middle;\n",
       "    }\n",
       "\n",
       "    .dataframe tbody tr th {\n",
       "        vertical-align: top;\n",
       "    }\n",
       "\n",
       "    .dataframe thead th {\n",
       "        text-align: right;\n",
       "    }\n",
       "</style>\n",
       "<table border=\"1\" class=\"dataframe\">\n",
       "  <thead>\n",
       "    <tr style=\"text-align: right;\">\n",
       "      <th></th>\n",
       "      <th>0</th>\n",
       "      <th>name</th>\n",
       "    </tr>\n",
       "  </thead>\n",
       "  <tbody>\n",
       "    <tr>\n",
       "      <th>0</th>\n",
       "      <td>TCGA-D8-A1X7-01Z-00-DX1.3529AEED-2827-4D94-9A8...</td>\n",
       "      <td>TCGA-D8-A1X7</td>\n",
       "    </tr>\n",
       "    <tr>\n",
       "      <th>1</th>\n",
       "      <td>TCGA-D8-A1X7-01Z-00-DX2.F0631B8C-EB75-4995-8ED...</td>\n",
       "      <td>TCGA-D8-A1X7</td>\n",
       "    </tr>\n",
       "    <tr>\n",
       "      <th>2</th>\n",
       "      <td>TCGA-D8-A1Y2-01Z-00-DX1.77451A0F-00FD-44A9-A0D...</td>\n",
       "      <td>TCGA-D8-A1Y2</td>\n",
       "    </tr>\n",
       "    <tr>\n",
       "      <th>3</th>\n",
       "      <td>TCGA-D8-A1Y2-01Z-00-DX2.A563ABFE-18DE-4D78-BB6...</td>\n",
       "      <td>TCGA-D8-A1Y2</td>\n",
       "    </tr>\n",
       "    <tr>\n",
       "      <th>4</th>\n",
       "      <td>TCGA-A8-A09I-01Z-00-DX1.B738E479-8766-4766-B01...</td>\n",
       "      <td>TCGA-A8-A09I</td>\n",
       "    </tr>\n",
       "  </tbody>\n",
       "</table>\n",
       "</div>"
      ],
      "text/plain": [
       "                                                   0          name\n",
       "0  TCGA-D8-A1X7-01Z-00-DX1.3529AEED-2827-4D94-9A8...  TCGA-D8-A1X7\n",
       "1  TCGA-D8-A1X7-01Z-00-DX2.F0631B8C-EB75-4995-8ED...  TCGA-D8-A1X7\n",
       "2  TCGA-D8-A1Y2-01Z-00-DX1.77451A0F-00FD-44A9-A0D...  TCGA-D8-A1Y2\n",
       "3  TCGA-D8-A1Y2-01Z-00-DX2.A563ABFE-18DE-4D78-BB6...  TCGA-D8-A1Y2\n",
       "4  TCGA-A8-A09I-01Z-00-DX1.B738E479-8766-4766-B01...  TCGA-A8-A09I"
      ]
     },
     "execution_count": 57,
     "metadata": {},
     "output_type": "execute_result"
    }
   ],
   "source": [
    "for_bash_mv.head()"
   ]
  },
  {
   "cell_type": "code",
   "execution_count": 64,
   "metadata": {},
   "outputs": [],
   "source": [
    "address = pd.read_csv('address.txt', header=None) # need address"
   ]
  },
  {
   "cell_type": "code",
   "execution_count": 69,
   "metadata": {},
   "outputs": [],
   "source": [
    "address['file'] = address.iloc[:, 0].str.split('/').apply(lambda x:x[-1])"
   ]
  },
  {
   "cell_type": "code",
   "execution_count": 71,
   "metadata": {},
   "outputs": [],
   "source": [
    "for_bash_mv.set_axis(['add', 'name'], axis=1, inplace=True)"
   ]
  },
  {
   "cell_type": "code",
   "execution_count": 72,
   "metadata": {},
   "outputs": [],
   "source": [
    "temp = address.merge(for_bash_mv, left_on='file', right_on='add')"
   ]
  },
  {
   "cell_type": "code",
   "execution_count": 73,
   "metadata": {},
   "outputs": [
    {
     "data": {
      "text/plain": [
       "820"
      ]
     },
     "execution_count": 73,
     "metadata": {},
     "output_type": "execute_result"
    }
   ],
   "source": [
    "len(temp)"
   ]
  },
  {
   "cell_type": "code",
   "execution_count": 74,
   "metadata": {},
   "outputs": [
    {
     "data": {
      "text/html": [
       "<div>\n",
       "<style scoped>\n",
       "    .dataframe tbody tr th:only-of-type {\n",
       "        vertical-align: middle;\n",
       "    }\n",
       "\n",
       "    .dataframe tbody tr th {\n",
       "        vertical-align: top;\n",
       "    }\n",
       "\n",
       "    .dataframe thead th {\n",
       "        text-align: right;\n",
       "    }\n",
       "</style>\n",
       "<table border=\"1\" class=\"dataframe\">\n",
       "  <thead>\n",
       "    <tr style=\"text-align: right;\">\n",
       "      <th></th>\n",
       "      <th>0</th>\n",
       "      <th>file</th>\n",
       "      <th>add</th>\n",
       "      <th>name</th>\n",
       "    </tr>\n",
       "  </thead>\n",
       "  <tbody>\n",
       "    <tr>\n",
       "      <th>0</th>\n",
       "      <td>./part1/TCGA-D8-A1X7-01Z-00-DX1.3529AEED-2827-...</td>\n",
       "      <td>TCGA-D8-A1X7-01Z-00-DX1.3529AEED-2827-4D94-9A8...</td>\n",
       "      <td>TCGA-D8-A1X7-01Z-00-DX1.3529AEED-2827-4D94-9A8...</td>\n",
       "      <td>TCGA-D8-A1X7</td>\n",
       "    </tr>\n",
       "    <tr>\n",
       "      <th>1</th>\n",
       "      <td>./part1/TCGA-D8-A1Y2-01Z-00-DX1.77451A0F-00FD-...</td>\n",
       "      <td>TCGA-D8-A1Y2-01Z-00-DX1.77451A0F-00FD-44A9-A0D...</td>\n",
       "      <td>TCGA-D8-A1Y2-01Z-00-DX1.77451A0F-00FD-44A9-A0D...</td>\n",
       "      <td>TCGA-D8-A1Y2</td>\n",
       "    </tr>\n",
       "    <tr>\n",
       "      <th>2</th>\n",
       "      <td>./part1/TCGA-A8-A09I-01Z-00-DX1.B738E479-8766-...</td>\n",
       "      <td>TCGA-A8-A09I-01Z-00-DX1.B738E479-8766-4766-B01...</td>\n",
       "      <td>TCGA-A8-A09I-01Z-00-DX1.B738E479-8766-4766-B01...</td>\n",
       "      <td>TCGA-A8-A09I</td>\n",
       "    </tr>\n",
       "    <tr>\n",
       "      <th>3</th>\n",
       "      <td>./part1/TCGA-E2-A1LK-01Z-00-DX1.5EBAA1F4-F1B4-...</td>\n",
       "      <td>TCGA-E2-A1LK-01Z-00-DX1.5EBAA1F4-F1B4-4938-A51...</td>\n",
       "      <td>TCGA-E2-A1LK-01Z-00-DX1.5EBAA1F4-F1B4-4938-A51...</td>\n",
       "      <td>TCGA-E2-A1LK</td>\n",
       "    </tr>\n",
       "    <tr>\n",
       "      <th>4</th>\n",
       "      <td>./part1/TCGA-D8-A1XZ-01Z-00-DX1.8E51A61D-B01C-...</td>\n",
       "      <td>TCGA-D8-A1XZ-01Z-00-DX1.8E51A61D-B01C-4A52-8F5...</td>\n",
       "      <td>TCGA-D8-A1XZ-01Z-00-DX1.8E51A61D-B01C-4A52-8F5...</td>\n",
       "      <td>TCGA-D8-A1XZ</td>\n",
       "    </tr>\n",
       "  </tbody>\n",
       "</table>\n",
       "</div>"
      ],
      "text/plain": [
       "                                                   0  \\\n",
       "0  ./part1/TCGA-D8-A1X7-01Z-00-DX1.3529AEED-2827-...   \n",
       "1  ./part1/TCGA-D8-A1Y2-01Z-00-DX1.77451A0F-00FD-...   \n",
       "2  ./part1/TCGA-A8-A09I-01Z-00-DX1.B738E479-8766-...   \n",
       "3  ./part1/TCGA-E2-A1LK-01Z-00-DX1.5EBAA1F4-F1B4-...   \n",
       "4  ./part1/TCGA-D8-A1XZ-01Z-00-DX1.8E51A61D-B01C-...   \n",
       "\n",
       "                                                file  \\\n",
       "0  TCGA-D8-A1X7-01Z-00-DX1.3529AEED-2827-4D94-9A8...   \n",
       "1  TCGA-D8-A1Y2-01Z-00-DX1.77451A0F-00FD-44A9-A0D...   \n",
       "2  TCGA-A8-A09I-01Z-00-DX1.B738E479-8766-4766-B01...   \n",
       "3  TCGA-E2-A1LK-01Z-00-DX1.5EBAA1F4-F1B4-4938-A51...   \n",
       "4  TCGA-D8-A1XZ-01Z-00-DX1.8E51A61D-B01C-4A52-8F5...   \n",
       "\n",
       "                                                 add          name  \n",
       "0  TCGA-D8-A1X7-01Z-00-DX1.3529AEED-2827-4D94-9A8...  TCGA-D8-A1X7  \n",
       "1  TCGA-D8-A1Y2-01Z-00-DX1.77451A0F-00FD-44A9-A0D...  TCGA-D8-A1Y2  \n",
       "2  TCGA-A8-A09I-01Z-00-DX1.B738E479-8766-4766-B01...  TCGA-A8-A09I  \n",
       "3  TCGA-E2-A1LK-01Z-00-DX1.5EBAA1F4-F1B4-4938-A51...  TCGA-E2-A1LK  \n",
       "4  TCGA-D8-A1XZ-01Z-00-DX1.8E51A61D-B01C-4A52-8F5...  TCGA-D8-A1XZ  "
      ]
     },
     "execution_count": 74,
     "metadata": {},
     "output_type": "execute_result"
    }
   ],
   "source": [
    "temp.head()"
   ]
  },
  {
   "cell_type": "code",
   "execution_count": 92,
   "metadata": {},
   "outputs": [],
   "source": [
    "def writer():\n",
    "    with open('bash_mv.txt', 'w+') as mv:\n",
    "        for item in temp.iloc[:, 0]:\n",
    "            name = item.split('/')[-1]\n",
    "            line = 'mv ' + './breast_cancer' + item[1:] + ' ' + './prepared/' +name + ' '\n",
    "            mv.write(line)"
   ]
  },
  {
   "cell_type": "code",
   "execution_count": 93,
   "metadata": {},
   "outputs": [],
   "source": [
    "writer()"
   ]
  },
  {
   "cell_type": "markdown",
   "metadata": {},
   "source": [
    "### history"
   ]
  },
  {
   "cell_type": "code",
   "execution_count": 2,
   "metadata": {},
   "outputs": [],
   "source": [
    "file = pd.read_csv('leave5.txt', delimiter=r'\\s+')"
   ]
  },
  {
   "cell_type": "code",
   "execution_count": 3,
   "metadata": {},
   "outputs": [],
   "source": [
    "pool = set()\n",
    "with open('ok6.txt') as ok:\n",
    "    for line in ok.readlines():\n",
    "        pool.add(line[:-1])"
   ]
  },
  {
   "cell_type": "code",
   "execution_count": 4,
   "metadata": {},
   "outputs": [],
   "source": [
    "check = file['filename'].apply(lambda x:x in pool)"
   ]
  },
  {
   "cell_type": "code",
   "execution_count": 5,
   "metadata": {},
   "outputs": [],
   "source": [
    "leave = file.loc[~check]"
   ]
  },
  {
   "cell_type": "code",
   "execution_count": 6,
   "metadata": {},
   "outputs": [
    {
     "data": {
      "text/plain": [
       "170"
      ]
     },
     "execution_count": 6,
     "metadata": {},
     "output_type": "execute_result"
    }
   ],
   "source": [
    "len(leave)"
   ]
  },
  {
   "cell_type": "code",
   "execution_count": 7,
   "metadata": {},
   "outputs": [],
   "source": [
    "leave.to_csv('leave6.txt', sep='\\t')"
   ]
  },
  {
   "cell_type": "markdown",
   "metadata": {},
   "source": [
    "### Sample"
   ]
  },
  {
   "cell_type": "code",
   "execution_count": 6,
   "metadata": {},
   "outputs": [],
   "source": [
    "samples = pd.read_csv('samples.txt', delimiter='\\t', header=None, index_col=0)"
   ]
  },
  {
   "cell_type": "code",
   "execution_count": 13,
   "metadata": {},
   "outputs": [],
   "source": [
    "samples.set_axis(['name'], axis=1, inplace=True)"
   ]
  },
  {
   "cell_type": "code",
   "execution_count": 15,
   "metadata": {},
   "outputs": [
    {
     "data": {
      "text/html": [
       "<div>\n",
       "<style scoped>\n",
       "    .dataframe tbody tr th:only-of-type {\n",
       "        vertical-align: middle;\n",
       "    }\n",
       "\n",
       "    .dataframe tbody tr th {\n",
       "        vertical-align: top;\n",
       "    }\n",
       "\n",
       "    .dataframe thead th {\n",
       "        text-align: right;\n",
       "    }\n",
       "</style>\n",
       "<table border=\"1\" class=\"dataframe\">\n",
       "  <thead>\n",
       "    <tr style=\"text-align: right;\">\n",
       "      <th></th>\n",
       "      <th>name</th>\n",
       "    </tr>\n",
       "    <tr>\n",
       "      <th>0</th>\n",
       "      <th></th>\n",
       "    </tr>\n",
       "  </thead>\n",
       "  <tbody>\n",
       "    <tr>\n",
       "      <th>0</th>\n",
       "      <td>TCGA-E9-A1N6-01Z</td>\n",
       "    </tr>\n",
       "    <tr>\n",
       "      <th>1</th>\n",
       "      <td>TCGA-A2-A0EW-01Z</td>\n",
       "    </tr>\n",
       "    <tr>\n",
       "      <th>2</th>\n",
       "      <td>TCGA-BH-A0C1-01Z</td>\n",
       "    </tr>\n",
       "    <tr>\n",
       "      <th>3</th>\n",
       "      <td>TCGA-AR-A0U2-01Z</td>\n",
       "    </tr>\n",
       "    <tr>\n",
       "      <th>4</th>\n",
       "      <td>TCGA-BH-A1EV-01Z</td>\n",
       "    </tr>\n",
       "  </tbody>\n",
       "</table>\n",
       "</div>"
      ],
      "text/plain": [
       "               name\n",
       "0                  \n",
       "0  TCGA-E9-A1N6-01Z\n",
       "1  TCGA-A2-A0EW-01Z\n",
       "2  TCGA-BH-A0C1-01Z\n",
       "3  TCGA-AR-A0U2-01Z\n",
       "4  TCGA-BH-A1EV-01Z"
      ]
     },
     "execution_count": 15,
     "metadata": {},
     "output_type": "execute_result"
    }
   ],
   "source": [
    "samples.head()"
   ]
  },
  {
   "cell_type": "code",
   "execution_count": 2,
   "metadata": {},
   "outputs": [],
   "source": [
    "cur15 = pd.read_csv('10_15.txt', header=None)"
   ]
  },
  {
   "cell_type": "code",
   "execution_count": 3,
   "metadata": {},
   "outputs": [
    {
     "data": {
      "text/plain": [
       "338"
      ]
     },
     "execution_count": 3,
     "metadata": {},
     "output_type": "execute_result"
    }
   ],
   "source": [
    "len(cur15)"
   ]
  },
  {
   "cell_type": "code",
   "execution_count": 16,
   "metadata": {},
   "outputs": [],
   "source": [
    "cur15['name'] = cur15.iloc[:,0].str.slice(0, 16)"
   ]
  },
  {
   "cell_type": "code",
   "execution_count": 18,
   "metadata": {},
   "outputs": [],
   "source": [
    "now15 = cur15.merge(samples, how='inner', left_on='name', right_on='name')"
   ]
  },
  {
   "cell_type": "code",
   "execution_count": 19,
   "metadata": {},
   "outputs": [
    {
     "data": {
      "text/plain": [
       "44"
      ]
     },
     "execution_count": 19,
     "metadata": {},
     "output_type": "execute_result"
    }
   ],
   "source": [
    "len(now15)"
   ]
  },
  {
   "cell_type": "code",
   "execution_count": 21,
   "metadata": {},
   "outputs": [],
   "source": [
    "pool15 = set(now15['name'].tolist())"
   ]
  },
  {
   "cell_type": "code",
   "execution_count": 22,
   "metadata": {},
   "outputs": [
    {
     "data": {
      "text/plain": [
       "44"
      ]
     },
     "execution_count": 22,
     "metadata": {},
     "output_type": "execute_result"
    }
   ],
   "source": [
    "len(pool15)"
   ]
  },
  {
   "cell_type": "code",
   "execution_count": 23,
   "metadata": {},
   "outputs": [],
   "source": [
    "leave15 = set(samples['name'].tolist()) - pool15"
   ]
  },
  {
   "cell_type": "code",
   "execution_count": 24,
   "metadata": {},
   "outputs": [
    {
     "data": {
      "text/plain": [
       "102"
      ]
     },
     "execution_count": 24,
     "metadata": {},
     "output_type": "execute_result"
    }
   ],
   "source": [
    "len(leave15)"
   ]
  },
  {
   "cell_type": "code",
   "execution_count": 27,
   "metadata": {},
   "outputs": [],
   "source": [
    "source = pd.read_csv('leave2.txt', delimiter=r'\\s+')"
   ]
  },
  {
   "cell_type": "code",
   "execution_count": 29,
   "metadata": {},
   "outputs": [],
   "source": [
    "check = source['filename'].apply(lambda x:x[:16] in leave15)"
   ]
  },
  {
   "cell_type": "code",
   "execution_count": 30,
   "metadata": {},
   "outputs": [
    {
     "data": {
      "text/plain": [
       "104"
      ]
     },
     "execution_count": 30,
     "metadata": {},
     "output_type": "execute_result"
    }
   ],
   "source": [
    "sum(check)"
   ]
  },
  {
   "cell_type": "code",
   "execution_count": 31,
   "metadata": {},
   "outputs": [],
   "source": [
    "supply15 = source.loc[check]"
   ]
  },
  {
   "cell_type": "code",
   "execution_count": 34,
   "metadata": {},
   "outputs": [],
   "source": [
    "supply15.reset_index(drop=True, inplace=True)"
   ]
  },
  {
   "cell_type": "code",
   "execution_count": 35,
   "metadata": {},
   "outputs": [],
   "source": [
    "supply15.to_csv('my3.txt', sep='\\t')"
   ]
  }
 ],
 "metadata": {
  "kernelspec": {
   "display_name": "Python 3",
   "language": "python",
   "name": "python3"
  },
  "language_info": {
   "codemirror_mode": {
    "name": "ipython",
    "version": 3
   },
   "file_extension": ".py",
   "mimetype": "text/x-python",
   "name": "python",
   "nbconvert_exporter": "python",
   "pygments_lexer": "ipython3",
   "version": "3.6.7"
  }
 },
 "nbformat": 4,
 "nbformat_minor": 2
}
