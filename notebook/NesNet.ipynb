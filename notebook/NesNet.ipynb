{
 "cells": [
  {
   "cell_type": "code",
   "execution_count": 1,
   "metadata": {},
   "outputs": [],
   "source": [
    "import pandas as pd\n",
    "import pickle\n",
    "import seaborn as sns\n",
    "import matplotlib.pyplot as plt\n",
    "from collections import defaultdict\n",
    "import numpy as np"
   ]
  },
  {
   "cell_type": "code",
   "execution_count": 2,
   "metadata": {},
   "outputs": [],
   "source": [
    "def load_pkl(fp):\n",
    "    with open(fp, 'rb') as file:\n",
    "        result = pickle.load(file)\n",
    "    return result"
   ]
  },
  {
   "cell_type": "code",
   "execution_count": 3,
   "metadata": {},
   "outputs": [],
   "source": [
    "def weird_load(fp):\n",
    "    container = {}\n",
    "    with open(fp, 'rb') as file:\n",
    "        while True:\n",
    "            chunk = file.read(3408)\n",
    "            if not chunk:\n",
    "                break\n",
    "            with open('_', 'wb') as temp:\n",
    "                temp.write(chunk)\n",
    "            data = load_pkl('_')\n",
    "            container.update(data)\n",
    "    return container"
   ]
  },
  {
   "cell_type": "code",
   "execution_count": 4,
   "metadata": {},
   "outputs": [],
   "source": [
    "result = weird_load('outcome.pkl')"
   ]
  },
  {
   "cell_type": "code",
   "execution_count": 5,
   "metadata": {},
   "outputs": [],
   "source": [
    "def to_case(result):\n",
    "    outcome = defaultdict(list)\n",
    "    for area in result.keys():\n",
    "        case_n = area.rsplit('/', 2)[-2]\n",
    "        outcome[case_n].append(area)\n",
    "    return outcome"
   ]
  },
  {
   "cell_type": "code",
   "execution_count": 6,
   "metadata": {},
   "outputs": [],
   "source": [
    "case_dict = to_case(result)"
   ]
  },
  {
   "cell_type": "code",
   "execution_count": 7,
   "metadata": {},
   "outputs": [],
   "source": [
    "def profile_count(case_dict):\n",
    "    outcome = {}\n",
    "    for case_n, areas in case_dict.items():\n",
    "        count = len(areas)\n",
    "        outcome[case_n] = count\n",
    "    return outcome"
   ]
  },
  {
   "cell_type": "code",
   "execution_count": 8,
   "metadata": {},
   "outputs": [],
   "source": [
    "case_count = profile_count(case_dict)"
   ]
  },
  {
   "cell_type": "code",
   "execution_count": 9,
   "metadata": {},
   "outputs": [],
   "source": [
    "def profile_threshold(case_dict, result, threshold=0.98):\n",
    "    outcome = defaultdict(list)\n",
    "    threshes = np.arange(0.96, 1.00, 0.01)\n",
    "    thresh_temp = {thresh:defaultdict(int) for thresh in threshes}\n",
    "    for case_n, areas in case_dict.items():\n",
    "        for area in areas:\n",
    "            p = result[area]\n",
    "            loc = round(p-0.004, 2)\n",
    "            if loc in thresh_temp.keys():\n",
    "                thresh_temp[loc][case_n] += 1\n",
    "            if p >= threshold:\n",
    "                outcome[case_n].append(area)\n",
    "                \n",
    "    return outcome, thresh_temp"
   ]
  },
  {
   "cell_type": "code",
   "execution_count": 10,
   "metadata": {},
   "outputs": [],
   "source": [
    "def refine_thresh_temp(thresh_temp, threshes, threshold):\n",
    "    threshes = threshes[::-1]\n",
    "    for idx, thresh in enumerate(threshes[1:], 1):\n",
    "        pre_thresh = threshes[idx-1]\n",
    "        pre = thresh_temp[pre_thresh]\n",
    "        cur = thresh_temp[thresh]\n",
    "        for case_n in cur:\n",
    "            cur[case_n] += cur[case_n] + pre[case_n]\n",
    "        \n",
    "    for thresh, counts in thresh_temp.items():\n",
    "        print(thresh, min(counts.values()), max(counts.values()))\n",
    "        \n",
    "    plt.hist(thresh_temp[threshold].values(), bins=50)"
   ]
  },
  {
   "cell_type": "code",
   "execution_count": 11,
   "metadata": {},
   "outputs": [],
   "source": [
    "selected_area, thresh_temp = profile_threshold(case_dict, result)"
   ]
  },
  {
   "cell_type": "code",
   "execution_count": 12,
   "metadata": {},
   "outputs": [
    {
     "name": "stdout",
     "output_type": "stream",
     "text": [
      "0.96 94 29103\n",
      "0.97 71 26193\n",
      "0.98 45 22335\n",
      "0.99 25 16313\n",
      "1.0 1 3305\n"
     ]
    },
    {
     "data": {
      "image/png": "[encoded data removed]",
      "text/plain": [
       "<Figure size 432x288 with 1 Axes>"
      ]
     },
     "metadata": {
      "needs_background": "light"
     },
     "output_type": "display_data"
    }
   ],
   "source": [
    "threshes = np.arange(0.96, 1.00, 0.01)\n",
    "refine_thresh_temp(thresh_temp, threshes, 0.98)"
   ]
  },
  {
   "cell_type": "code",
   "execution_count": 13,
   "metadata": {},
   "outputs": [],
   "source": [
    "lens = [len(areas) for areas in selected_area.values()]"
   ]
  },
  {
   "cell_type": "code",
   "execution_count": 14,
   "metadata": {},
   "outputs": [
    {
     "data": {
      "text/plain": [
       "12067"
      ]
     },
     "execution_count": 14,
     "metadata": {},
     "output_type": "execute_result"
    }
   ],
   "source": [
    "max(lens)"
   ]
  },
  {
   "cell_type": "code",
   "execution_count": 15,
   "metadata": {},
   "outputs": [
    {
     "data": {
      "text/plain": [
       "23"
      ]
     },
     "execution_count": 15,
     "metadata": {},
     "output_type": "execute_result"
    }
   ],
   "source": [
    "min(lens)"
   ]
  },
  {
   "cell_type": "code",
   "execution_count": 38,
   "metadata": {},
   "outputs": [],
   "source": [
    "def download_fps(selected_area):\n",
    "    with open('selected_area.txt', 'w+') as command:\n",
    "        suffix = ';'\n",
    "        line = f'mkdir ../download{suffix}'\n",
    "        command.write(line)\n",
    "        for case_n, areas in selected_area.items():\n",
    "            case_p = f'../download/{case_n}'\n",
    "            line = f'mkdir {case_p}{suffix}'\n",
    "            command.write(line)\n",
    "            for area in areas:\n",
    "                line = f'mv {area} {case_p}/{suffix}'\n",
    "                command.write(line)"
   ]
  },
  {
   "cell_type": "code",
   "execution_count": 39,
   "metadata": {},
   "outputs": [],
   "source": [
    "download_fps(selected_area)"
   ]
  },
  {
   "cell_type": "code",
   "execution_count": 40,
   "metadata": {},
   "outputs": [
    {
     "name": "stdout",
     "output_type": "stream",
     "text": [
      "mkdir ../download;mkdir ../download/TCGA-D8-A1X7-01Z-00-DX1.3529AEED-2827-4D94-9A8B-32F116EE49D5;mv ../tiff/TCGA-D8-A1X7-01Z-00-DX1.3529AEED-2827-4D94-9A8B-32F116EE49D5/00000000720000000010.tiff ../download/TCGA-D8-A1X7-01Z-00-DX1.3529AEED-2827-4D94-9A8B-32F116EE49D5/;mv ../tiff/TCGA-D8-A1X7-01Z-00-\n"
     ]
    }
   ],
   "source": [
    "with open ('selected_area.txt', 'r') as new:\n",
    "    line = new.read(300)\n",
    "print(line)"
   ]
  },
  {
   "cell_type": "code",
   "execution_count": 71,
   "metadata": {},
   "outputs": [],
   "source": [
    "sns.set()"
   ]
  },
  {
   "cell_type": "code",
   "execution_count": 199,
   "metadata": {},
   "outputs": [],
   "source": [
    "cases = set(case_dict.keys())"
   ]
  },
  {
   "cell_type": "code",
   "execution_count": 201,
   "metadata": {},
   "outputs": [],
   "source": [
    "with open('done.pkl', 'wb') as done:\n",
    "    pickle.dump(cases, done, pickle.HIGHEST_PROTOCOL)"
   ]
  }
 ],
 "metadata": {
  "kernelspec": {
   "display_name": "Python 3",
   "language": "python",
   "name": "python3"
  },
  "language_info": {
   "codemirror_mode": {
    "name": "ipython",
    "version": 3
   },
   "file_extension": ".py",
   "mimetype": "text/x-python",
   "name": "python",
   "nbconvert_exporter": "python",
   "pygments_lexer": "ipython3",
   "version": "3.6.8"
  }
 },
 "nbformat": 4,
 "nbformat_minor": 2
}
