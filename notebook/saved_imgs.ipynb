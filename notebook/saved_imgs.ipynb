{
 "cells": [
  {
   "cell_type": "code",
   "execution_count": 1,
   "metadata": {},
   "outputs": [],
   "source": [
    "import pandas as pd\n",
    "import numpy as np\n",
    "import os\n",
    "import sys\n",
    "import pandas as pd\n",
    "sys.path.append('..')\n",
    "from tools import save_pickle"
   ]
  },
  {
   "cell_type": "markdown",
   "metadata": {},
   "source": [
    "### Search in real disk"
   ]
  },
  {
   "cell_type": "code",
   "execution_count": 2,
   "metadata": {},
   "outputs": [],
   "source": [
    "def case2path(x_p):\n",
    "    cur_dirs = os.listdir(x_p)\n",
    "    result = {}\n",
    "    for dir_n in cur_dirs:\n",
    "        case = dir_n[:12]\n",
    "        if case in result:\n",
    "            continue\n",
    "        result[case] = os.path.join(x_p, dir_n)\n",
    "    return pd.DataFrame.from_dict(result, orient='index', columns=['path'])\n",
    "\n",
    "def merge_table_creator(selected_p, target_p='../data/Target.xlsx'):\n",
    "    target = pd.read_excel(target_p)\n",
    "    case_path_df = case2path(selected_p)\n",
    "    merge_table = case_path_df.merge(target, left_index=True, right_on='sample')\n",
    "    print(len(merge_table)/len(target))\n",
    "    merge_table.reset_index(drop=True, inplace=True)\n",
    "    return merge_table"
   ]
  },
  {
   "cell_type": "code",
   "execution_count": 3,
   "metadata": {},
   "outputs": [
    {
     "name": "stdout",
     "output_type": "stream",
     "text": [
      "0.9857142857142858\n"
     ]
    }
   ],
   "source": [
    "merge_table = merge_table_creator('../../selected/')"
   ]
  },
  {
   "cell_type": "code",
   "execution_count": 4,
   "metadata": {},
   "outputs": [
    {
     "data": {
      "text/html": [
       "<div>\n",
       "<style scoped>\n",
       "    .dataframe tbody tr th:only-of-type {\n",
       "        vertical-align: middle;\n",
       "    }\n",
       "\n",
       "    .dataframe tbody tr th {\n",
       "        vertical-align: top;\n",
       "    }\n",
       "\n",
       "    .dataframe thead th {\n",
       "        text-align: right;\n",
       "    }\n",
       "</style>\n",
       "<table border=\"1\" class=\"dataframe\">\n",
       "  <thead>\n",
       "    <tr style=\"text-align: right;\">\n",
       "      <th></th>\n",
       "      <th>path</th>\n",
       "      <th>sample</th>\n",
       "      <th>duration</th>\n",
       "      <th>observed</th>\n",
       "    </tr>\n",
       "  </thead>\n",
       "  <tbody>\n",
       "    <tr>\n",
       "      <th>0</th>\n",
       "      <td>../../selected/TCGA-A1-A0SB-01Z-00-DX1</td>\n",
       "      <td>TCGA-A1-A0SB</td>\n",
       "      <td>259</td>\n",
       "      <td>False</td>\n",
       "    </tr>\n",
       "    <tr>\n",
       "      <th>1</th>\n",
       "      <td>../../selected/TCGA-A1-A0SD-01Z-00-DX1</td>\n",
       "      <td>TCGA-A1-A0SD</td>\n",
       "      <td>437</td>\n",
       "      <td>False</td>\n",
       "    </tr>\n",
       "    <tr>\n",
       "      <th>2</th>\n",
       "      <td>../../selected/TCGA-A1-A0SE-01Z-00-DX1</td>\n",
       "      <td>TCGA-A1-A0SE</td>\n",
       "      <td>1321</td>\n",
       "      <td>False</td>\n",
       "    </tr>\n",
       "    <tr>\n",
       "      <th>3</th>\n",
       "      <td>../../selected/TCGA-A1-A0SF-01Z-00-DX1</td>\n",
       "      <td>TCGA-A1-A0SF</td>\n",
       "      <td>1463</td>\n",
       "      <td>False</td>\n",
       "    </tr>\n",
       "    <tr>\n",
       "      <th>4</th>\n",
       "      <td>../../selected/TCGA-A1-A0SH-01Z-00-DX1</td>\n",
       "      <td>TCGA-A1-A0SH</td>\n",
       "      <td>1437</td>\n",
       "      <td>False</td>\n",
       "    </tr>\n",
       "  </tbody>\n",
       "</table>\n",
       "</div>"
      ],
      "text/plain": [
       "                                     path        sample  duration  observed\n",
       "0  ../../selected/TCGA-A1-A0SB-01Z-00-DX1  TCGA-A1-A0SB       259     False\n",
       "1  ../../selected/TCGA-A1-A0SD-01Z-00-DX1  TCGA-A1-A0SD       437     False\n",
       "2  ../../selected/TCGA-A1-A0SE-01Z-00-DX1  TCGA-A1-A0SE      1321     False\n",
       "3  ../../selected/TCGA-A1-A0SF-01Z-00-DX1  TCGA-A1-A0SF      1463     False\n",
       "4  ../../selected/TCGA-A1-A0SH-01Z-00-DX1  TCGA-A1-A0SH      1437     False"
      ]
     },
     "execution_count": 4,
     "metadata": {},
     "output_type": "execute_result"
    }
   ],
   "source": [
    "merge_table.head()"
   ]
  },
  {
   "cell_type": "code",
   "execution_count": 18,
   "metadata": {},
   "outputs": [
    {
     "name": "stdout",
     "output_type": "stream",
     "text": [
      "759 cases are used\n"
     ]
    }
   ],
   "source": [
    "print(f'{len(merge_table)} cases are used')"
   ]
  },
  {
   "cell_type": "markdown",
   "metadata": {},
   "source": [
    "Use space to save time. I saved the image paths for each case in a dict."
   ]
  },
  {
   "cell_type": "code",
   "execution_count": 13,
   "metadata": {},
   "outputs": [],
   "source": [
    "def saving(merge_table):\n",
    "    img_disk = {}\n",
    "    img_count = {}\n",
    "    for item in merge_table.iterrows():\n",
    "        path = item[1][0]\n",
    "        case = item[1][1]\n",
    "        pool = os.listdir(path)\n",
    "        img_disk[case] = tuple(os.path.abspath(os.path.join(path, f)) for f in pool)\n",
    "        img_count[case] = len(pool)\n",
    "    save_pickle(img_disk, '../../archive/', name='img_disk')\n",
    "    return img_count"
   ]
  },
  {
   "cell_type": "code",
   "execution_count": 14,
   "metadata": {},
   "outputs": [],
   "source": [
    "img_count = saving(merge_table)"
   ]
  },
  {
   "cell_type": "markdown",
   "metadata": {},
   "source": [
    "Check the minimum of img number"
   ]
  },
  {
   "cell_type": "code",
   "execution_count": 16,
   "metadata": {},
   "outputs": [],
   "source": [
    "from math import inf\n",
    "def check_min(img_count):\n",
    "    ceil = inf\n",
    "    record = None\n",
    "    for k, v in img_count.items():\n",
    "        if v < ceil:\n",
    "            ceil = v\n",
    "            record = k\n",
    "    print(f'{record} has the minimum number of imgs {ceil}')"
   ]
  },
  {
   "cell_type": "code",
   "execution_count": 17,
   "metadata": {},
   "outputs": [
    {
     "name": "stdout",
     "output_type": "stream",
     "text": [
      "TCGA-A2-A0EQ has the minimum number of imgs 50\n"
     ]
    }
   ],
   "source": [
    "check_min(img_count)"
   ]
  },
  {
   "cell_type": "markdown",
   "metadata": {},
   "source": [
    "### Compare with raw slides"
   ]
  },
  {
   "cell_type": "code",
   "execution_count": 19,
   "metadata": {},
   "outputs": [],
   "source": [
    "pixel_to_micron = 2.43 # 10X power"
   ]
  },
  {
   "cell_type": "markdown",
   "metadata": {},
   "source": [
    "Next, combine slides metainfo and the outcome of Nesnet selection."
   ]
  },
  {
   "cell_type": "code",
   "execution_count": 35,
   "metadata": {},
   "outputs": [],
   "source": [
    "img_size = pd.read_csv('../data/power.txt', sep=r'\\t', engine='python')\n",
    "img_size['Name'] = img_size['Name'].str[:12]\n",
    "img_size['Size'] = img_size['Size'].str.split(',')\n",
    "img_sel = pd.DataFrame.from_dict(img_count, orient='index')\n",
    "img_sel.columns = ['num']\n",
    "img_comp = img_sel.merge(img_size, left_index=True, \n",
    "                         right_on='Name',how='inner').drop_duplicates('Name')"
   ]
  },
  {
   "cell_type": "code",
   "execution_count": 36,
   "metadata": {},
   "outputs": [
    {
     "data": {
      "text/html": [
       "<div>\n",
       "<style scoped>\n",
       "    .dataframe tbody tr th:only-of-type {\n",
       "        vertical-align: middle;\n",
       "    }\n",
       "\n",
       "    .dataframe tbody tr th {\n",
       "        vertical-align: top;\n",
       "    }\n",
       "\n",
       "    .dataframe thead th {\n",
       "        text-align: right;\n",
       "    }\n",
       "</style>\n",
       "<table border=\"1\" class=\"dataframe\">\n",
       "  <thead>\n",
       "    <tr style=\"text-align: right;\">\n",
       "      <th></th>\n",
       "      <th>num</th>\n",
       "      <th>Name</th>\n",
       "      <th>Power</th>\n",
       "      <th>Size</th>\n",
       "    </tr>\n",
       "  </thead>\n",
       "  <tbody>\n",
       "    <tr>\n",
       "      <th>535</th>\n",
       "      <td>91</td>\n",
       "      <td>TCGA-A1-A0SB</td>\n",
       "      <td>40</td>\n",
       "      <td>['82945',  '112314']</td>\n",
       "    </tr>\n",
       "    <tr>\n",
       "      <th>122</th>\n",
       "      <td>1046</td>\n",
       "      <td>TCGA-A1-A0SD</td>\n",
       "      <td>40</td>\n",
       "      <td>['80287',  '94075']</td>\n",
       "    </tr>\n",
       "    <tr>\n",
       "      <th>414</th>\n",
       "      <td>5687</td>\n",
       "      <td>TCGA-A1-A0SE</td>\n",
       "      <td>40</td>\n",
       "      <td>['73336',  '122873']</td>\n",
       "    </tr>\n",
       "    <tr>\n",
       "      <th>599</th>\n",
       "      <td>611</td>\n",
       "      <td>TCGA-A1-A0SF</td>\n",
       "      <td>40</td>\n",
       "      <td>['84727',  '65276']</td>\n",
       "    </tr>\n",
       "    <tr>\n",
       "      <th>710</th>\n",
       "      <td>3441</td>\n",
       "      <td>TCGA-A1-A0SH</td>\n",
       "      <td>40</td>\n",
       "      <td>['64427',  '98874']</td>\n",
       "    </tr>\n",
       "  </tbody>\n",
       "</table>\n",
       "</div>"
      ],
      "text/plain": [
       "      num          Name  Power                  Size\n",
       "535    91  TCGA-A1-A0SB     40  ['82945',  '112314']\n",
       "122  1046  TCGA-A1-A0SD     40   ['80287',  '94075']\n",
       "414  5687  TCGA-A1-A0SE     40  ['73336',  '122873']\n",
       "599   611  TCGA-A1-A0SF     40   ['84727',  '65276']\n",
       "710  3441  TCGA-A1-A0SH     40   ['64427',  '98874']"
      ]
     },
     "execution_count": 36,
     "metadata": {},
     "output_type": "execute_result"
    }
   ],
   "source": [
    "img_comp.head()"
   ]
  },
  {
   "cell_type": "markdown",
   "metadata": {},
   "source": [
    "Then, get useful information from raw data."
   ]
  },
  {
   "cell_type": "code",
   "execution_count": 38,
   "metadata": {},
   "outputs": [],
   "source": [
    "tile_area = 96 * 96\n",
    "p_to_area = pixel_to_micron ** 2\n",
    "\n",
    "img_comp['area_10X'] = img_comp['Size'].apply(\n",
    "    lambda x:int(x[0].replace(\"'\", \"\"))*int(x[1].replace(\"'\", \"\"))\n",
    ")/((img_comp['Power']/10)**2)\n",
    "\n",
    "img_comp['ratio'] = tile_area * img_comp['num'] / img_comp['area_10X']\n",
    "img_comp['ori_real_area'] = img_comp['area_10X'] * p_to_area\n",
    "img_comp['sel_real_area'] = img_comp['ratio'] * img_comp['ori_real_area']"
   ]
  },
  {
   "cell_type": "markdown",
   "metadata": {},
   "source": [
    "The case with the most selected image is TCGA-D8-A1XR. It's also the one with the largest seletion ratio."
   ]
  },
  {
   "cell_type": "code",
   "execution_count": 39,
   "metadata": {},
   "outputs": [
    {
     "data": {
      "text/html": [
       "<div>\n",
       "<style scoped>\n",
       "    .dataframe tbody tr th:only-of-type {\n",
       "        vertical-align: middle;\n",
       "    }\n",
       "\n",
       "    .dataframe tbody tr th {\n",
       "        vertical-align: top;\n",
       "    }\n",
       "\n",
       "    .dataframe thead th {\n",
       "        text-align: right;\n",
       "    }\n",
       "</style>\n",
       "<table border=\"1\" class=\"dataframe\">\n",
       "  <thead>\n",
       "    <tr style=\"text-align: right;\">\n",
       "      <th></th>\n",
       "      <th>num</th>\n",
       "      <th>Name</th>\n",
       "      <th>Power</th>\n",
       "      <th>Size</th>\n",
       "      <th>area_10X</th>\n",
       "      <th>ratio</th>\n",
       "      <th>ori_real_area</th>\n",
       "      <th>sel_real_area</th>\n",
       "    </tr>\n",
       "  </thead>\n",
       "  <tbody>\n",
       "    <tr>\n",
       "      <th>74</th>\n",
       "      <td>27971</td>\n",
       "      <td>TCGA-D8-A1XR</td>\n",
       "      <td>40</td>\n",
       "      <td>['90174',  '81671']</td>\n",
       "      <td>4.602875e+08</td>\n",
       "      <td>0.560043</td>\n",
       "      <td>2.717952e+09</td>\n",
       "      <td>1.522169e+09</td>\n",
       "    </tr>\n",
       "  </tbody>\n",
       "</table>\n",
       "</div>"
      ],
      "text/plain": [
       "      num          Name  Power                 Size      area_10X     ratio  \\\n",
       "74  27971  TCGA-D8-A1XR     40  ['90174',  '81671']  4.602875e+08  0.560043   \n",
       "\n",
       "    ori_real_area  sel_real_area  \n",
       "74   2.717952e+09   1.522169e+09  "
      ]
     },
     "execution_count": 39,
     "metadata": {},
     "output_type": "execute_result"
    }
   ],
   "source": [
    "img_comp.loc[img_comp['num'] == img_comp['num'].max()]"
   ]
  },
  {
   "cell_type": "code",
   "execution_count": 41,
   "metadata": {},
   "outputs": [
    {
     "data": {
      "text/html": [
       "<div>\n",
       "<style scoped>\n",
       "    .dataframe tbody tr th:only-of-type {\n",
       "        vertical-align: middle;\n",
       "    }\n",
       "\n",
       "    .dataframe tbody tr th {\n",
       "        vertical-align: top;\n",
       "    }\n",
       "\n",
       "    .dataframe thead th {\n",
       "        text-align: right;\n",
       "    }\n",
       "</style>\n",
       "<table border=\"1\" class=\"dataframe\">\n",
       "  <thead>\n",
       "    <tr style=\"text-align: right;\">\n",
       "      <th></th>\n",
       "      <th>num</th>\n",
       "      <th>Name</th>\n",
       "      <th>Power</th>\n",
       "      <th>Size</th>\n",
       "      <th>area_10X</th>\n",
       "      <th>ratio</th>\n",
       "      <th>ori_real_area</th>\n",
       "      <th>sel_real_area</th>\n",
       "    </tr>\n",
       "  </thead>\n",
       "  <tbody>\n",
       "    <tr>\n",
       "      <th>74</th>\n",
       "      <td>27971</td>\n",
       "      <td>TCGA-D8-A1XR</td>\n",
       "      <td>40</td>\n",
       "      <td>['90174',  '81671']</td>\n",
       "      <td>4.602875e+08</td>\n",
       "      <td>0.560043</td>\n",
       "      <td>2.717952e+09</td>\n",
       "      <td>1.522169e+09</td>\n",
       "    </tr>\n",
       "  </tbody>\n",
       "</table>\n",
       "</div>"
      ],
      "text/plain": [
       "      num          Name  Power                 Size      area_10X     ratio  \\\n",
       "74  27971  TCGA-D8-A1XR     40  ['90174',  '81671']  4.602875e+08  0.560043   \n",
       "\n",
       "    ori_real_area  sel_real_area  \n",
       "74   2.717952e+09   1.522169e+09  "
      ]
     },
     "execution_count": 41,
     "metadata": {},
     "output_type": "execute_result"
    }
   ],
   "source": [
    "img_comp.loc[img_comp['ratio'] == img_comp['ratio'].max()]"
   ]
  },
  {
   "cell_type": "code",
   "execution_count": 42,
   "metadata": {},
   "outputs": [
    {
     "data": {
      "text/html": [
       "<div>\n",
       "<style scoped>\n",
       "    .dataframe tbody tr th:only-of-type {\n",
       "        vertical-align: middle;\n",
       "    }\n",
       "\n",
       "    .dataframe tbody tr th {\n",
       "        vertical-align: top;\n",
       "    }\n",
       "\n",
       "    .dataframe thead th {\n",
       "        text-align: right;\n",
       "    }\n",
       "</style>\n",
       "<table border=\"1\" class=\"dataframe\">\n",
       "  <thead>\n",
       "    <tr style=\"text-align: right;\">\n",
       "      <th></th>\n",
       "      <th>num</th>\n",
       "      <th>Name</th>\n",
       "      <th>Power</th>\n",
       "      <th>Size</th>\n",
       "      <th>area_10X</th>\n",
       "      <th>ratio</th>\n",
       "      <th>ori_real_area</th>\n",
       "      <th>sel_real_area</th>\n",
       "    </tr>\n",
       "  </thead>\n",
       "  <tbody>\n",
       "    <tr>\n",
       "      <th>511</th>\n",
       "      <td>60</td>\n",
       "      <td>TCGA-A8-A07E</td>\n",
       "      <td>20</td>\n",
       "      <td>['110336',  '77824']</td>\n",
       "      <td>2.146697e+09</td>\n",
       "      <td>0.000258</td>\n",
       "      <td>1.267603e+10</td>\n",
       "      <td>3265173.504</td>\n",
       "    </tr>\n",
       "  </tbody>\n",
       "</table>\n",
       "</div>"
      ],
      "text/plain": [
       "     num          Name  Power                  Size      area_10X     ratio  \\\n",
       "511   60  TCGA-A8-A07E     20  ['110336',  '77824']  2.146697e+09  0.000258   \n",
       "\n",
       "     ori_real_area  sel_real_area  \n",
       "511   1.267603e+10    3265173.504  "
      ]
     },
     "execution_count": 42,
     "metadata": {},
     "output_type": "execute_result"
    }
   ],
   "source": [
    "img_comp.loc[img_comp['ratio'] == img_comp['ratio'].min()]"
   ]
  },
  {
   "cell_type": "code",
   "execution_count": 43,
   "metadata": {},
   "outputs": [
    {
     "data": {
      "text/html": [
       "<div>\n",
       "<style scoped>\n",
       "    .dataframe tbody tr th:only-of-type {\n",
       "        vertical-align: middle;\n",
       "    }\n",
       "\n",
       "    .dataframe tbody tr th {\n",
       "        vertical-align: top;\n",
       "    }\n",
       "\n",
       "    .dataframe thead th {\n",
       "        text-align: right;\n",
       "    }\n",
       "</style>\n",
       "<table border=\"1\" class=\"dataframe\">\n",
       "  <thead>\n",
       "    <tr style=\"text-align: right;\">\n",
       "      <th></th>\n",
       "      <th>num</th>\n",
       "      <th>Name</th>\n",
       "      <th>Power</th>\n",
       "      <th>Size</th>\n",
       "      <th>area_10X</th>\n",
       "      <th>ratio</th>\n",
       "      <th>ori_real_area</th>\n",
       "      <th>sel_real_area</th>\n",
       "    </tr>\n",
       "  </thead>\n",
       "  <tbody>\n",
       "    <tr>\n",
       "      <th>764</th>\n",
       "      <td>50</td>\n",
       "      <td>TCGA-A2-A0EQ</td>\n",
       "      <td>40</td>\n",
       "      <td>['87178',  '121613']</td>\n",
       "      <td>6.626236e+08</td>\n",
       "      <td>0.000695</td>\n",
       "      <td>3.912726e+09</td>\n",
       "      <td>2720977.92</td>\n",
       "    </tr>\n",
       "    <tr>\n",
       "      <th>695</th>\n",
       "      <td>50</td>\n",
       "      <td>TCGA-A8-A07O</td>\n",
       "      <td>20</td>\n",
       "      <td>['58624',  '42240']</td>\n",
       "      <td>6.190694e+08</td>\n",
       "      <td>0.000744</td>\n",
       "      <td>3.655543e+09</td>\n",
       "      <td>2720977.92</td>\n",
       "    </tr>\n",
       "    <tr>\n",
       "      <th>780</th>\n",
       "      <td>50</td>\n",
       "      <td>TCGA-A8-A08G</td>\n",
       "      <td>20</td>\n",
       "      <td>['51456',  '47872']</td>\n",
       "      <td>6.158254e+08</td>\n",
       "      <td>0.000748</td>\n",
       "      <td>3.636387e+09</td>\n",
       "      <td>2720977.92</td>\n",
       "    </tr>\n",
       "    <tr>\n",
       "      <th>651</th>\n",
       "      <td>50</td>\n",
       "      <td>TCGA-A8-A09R</td>\n",
       "      <td>20</td>\n",
       "      <td>['65792',  '32000']</td>\n",
       "      <td>5.263360e+08</td>\n",
       "      <td>0.000875</td>\n",
       "      <td>3.107961e+09</td>\n",
       "      <td>2720977.92</td>\n",
       "    </tr>\n",
       "    <tr>\n",
       "      <th>647</th>\n",
       "      <td>50</td>\n",
       "      <td>TCGA-C8-A26X</td>\n",
       "      <td>40</td>\n",
       "      <td>['60051',  '50456']</td>\n",
       "      <td>1.893708e+08</td>\n",
       "      <td>0.002433</td>\n",
       "      <td>1.118216e+09</td>\n",
       "      <td>2720977.92</td>\n",
       "    </tr>\n",
       "    <tr>\n",
       "      <th>290</th>\n",
       "      <td>50</td>\n",
       "      <td>TCGA-E9-A1NF</td>\n",
       "      <td>40</td>\n",
       "      <td>['85372',  '81394']</td>\n",
       "      <td>4.342980e+08</td>\n",
       "      <td>0.001061</td>\n",
       "      <td>2.564486e+09</td>\n",
       "      <td>2720977.92</td>\n",
       "    </tr>\n",
       "    <tr>\n",
       "      <th>188</th>\n",
       "      <td>50</td>\n",
       "      <td>TCGA-E9-A1NG</td>\n",
       "      <td>40</td>\n",
       "      <td>['74666',  '80437']</td>\n",
       "      <td>3.753693e+08</td>\n",
       "      <td>0.001228</td>\n",
       "      <td>2.216518e+09</td>\n",
       "      <td>2720977.92</td>\n",
       "    </tr>\n",
       "    <tr>\n",
       "      <th>174</th>\n",
       "      <td>50</td>\n",
       "      <td>TCGA-E9-A1NH</td>\n",
       "      <td>40</td>\n",
       "      <td>['61330',  '49794']</td>\n",
       "      <td>1.908666e+08</td>\n",
       "      <td>0.002414</td>\n",
       "      <td>1.127048e+09</td>\n",
       "      <td>2720977.92</td>\n",
       "    </tr>\n",
       "  </tbody>\n",
       "</table>\n",
       "</div>"
      ],
      "text/plain": [
       "     num          Name  Power                  Size      area_10X     ratio  \\\n",
       "764   50  TCGA-A2-A0EQ     40  ['87178',  '121613']  6.626236e+08  0.000695   \n",
       "695   50  TCGA-A8-A07O     20   ['58624',  '42240']  6.190694e+08  0.000744   \n",
       "780   50  TCGA-A8-A08G     20   ['51456',  '47872']  6.158254e+08  0.000748   \n",
       "651   50  TCGA-A8-A09R     20   ['65792',  '32000']  5.263360e+08  0.000875   \n",
       "647   50  TCGA-C8-A26X     40   ['60051',  '50456']  1.893708e+08  0.002433   \n",
       "290   50  TCGA-E9-A1NF     40   ['85372',  '81394']  4.342980e+08  0.001061   \n",
       "188   50  TCGA-E9-A1NG     40   ['74666',  '80437']  3.753693e+08  0.001228   \n",
       "174   50  TCGA-E9-A1NH     40   ['61330',  '49794']  1.908666e+08  0.002414   \n",
       "\n",
       "     ori_real_area  sel_real_area  \n",
       "764   3.912726e+09     2720977.92  \n",
       "695   3.655543e+09     2720977.92  \n",
       "780   3.636387e+09     2720977.92  \n",
       "651   3.107961e+09     2720977.92  \n",
       "647   1.118216e+09     2720977.92  \n",
       "290   2.564486e+09     2720977.92  \n",
       "188   2.216518e+09     2720977.92  \n",
       "174   1.127048e+09     2720977.92  "
      ]
     },
     "execution_count": 43,
     "metadata": {},
     "output_type": "execute_result"
    }
   ],
   "source": [
    "img_comp.loc[img_comp['num'] == img_comp['num'].min()]"
   ]
  },
  {
   "cell_type": "markdown",
   "metadata": {},
   "source": [
    "I have clipped the minimal number to 50 to better train the model. So lots of cases are with 50 imgs selected."
   ]
  },
  {
   "cell_type": "markdown",
   "metadata": {},
   "source": [
    "### Summary"
   ]
  },
  {
   "cell_type": "code",
   "execution_count": 44,
   "metadata": {},
   "outputs": [
    {
     "data": {
      "text/html": [
       "<div>\n",
       "<style scoped>\n",
       "    .dataframe tbody tr th:only-of-type {\n",
       "        vertical-align: middle;\n",
       "    }\n",
       "\n",
       "    .dataframe tbody tr th {\n",
       "        vertical-align: top;\n",
       "    }\n",
       "\n",
       "    .dataframe thead th {\n",
       "        text-align: right;\n",
       "    }\n",
       "</style>\n",
       "<table border=\"1\" class=\"dataframe\">\n",
       "  <thead>\n",
       "    <tr style=\"text-align: right;\">\n",
       "      <th></th>\n",
       "      <th>num</th>\n",
       "      <th>Power</th>\n",
       "      <th>area_10X</th>\n",
       "      <th>ratio</th>\n",
       "      <th>ori_real_area</th>\n",
       "      <th>sel_real_area</th>\n",
       "    </tr>\n",
       "  </thead>\n",
       "  <tbody>\n",
       "    <tr>\n",
       "      <th>count</th>\n",
       "      <td>759.000000</td>\n",
       "      <td>759.000000</td>\n",
       "      <td>7.590000e+02</td>\n",
       "      <td>759.000000</td>\n",
       "      <td>7.590000e+02</td>\n",
       "      <td>7.590000e+02</td>\n",
       "    </tr>\n",
       "    <tr>\n",
       "      <th>mean</th>\n",
       "      <td>2977.586298</td>\n",
       "      <td>38.234519</td>\n",
       "      <td>5.382403e+08</td>\n",
       "      <td>0.057310</td>\n",
       "      <td>3.178255e+09</td>\n",
       "      <td>1.620389e+08</td>\n",
       "    </tr>\n",
       "    <tr>\n",
       "      <th>std</th>\n",
       "      <td>3381.354334</td>\n",
       "      <td>5.677602</td>\n",
       "      <td>2.857446e+08</td>\n",
       "      <td>0.061695</td>\n",
       "      <td>1.687293e+09</td>\n",
       "      <td>1.840118e+08</td>\n",
       "    </tr>\n",
       "    <tr>\n",
       "      <th>min</th>\n",
       "      <td>50.000000</td>\n",
       "      <td>20.000000</td>\n",
       "      <td>2.308479e+07</td>\n",
       "      <td>0.000258</td>\n",
       "      <td>1.363134e+08</td>\n",
       "      <td>2.720978e+06</td>\n",
       "    </tr>\n",
       "    <tr>\n",
       "      <th>25%</th>\n",
       "      <td>491.000000</td>\n",
       "      <td>40.000000</td>\n",
       "      <td>3.793671e+08</td>\n",
       "      <td>0.010588</td>\n",
       "      <td>2.240125e+09</td>\n",
       "      <td>2.672000e+07</td>\n",
       "    </tr>\n",
       "    <tr>\n",
       "      <th>50%</th>\n",
       "      <td>1874.000000</td>\n",
       "      <td>40.000000</td>\n",
       "      <td>5.176180e+08</td>\n",
       "      <td>0.039773</td>\n",
       "      <td>3.056482e+09</td>\n",
       "      <td>1.019823e+08</td>\n",
       "    </tr>\n",
       "    <tr>\n",
       "      <th>75%</th>\n",
       "      <td>4359.500000</td>\n",
       "      <td>40.000000</td>\n",
       "      <td>6.433840e+08</td>\n",
       "      <td>0.084139</td>\n",
       "      <td>3.799118e+09</td>\n",
       "      <td>2.372421e+08</td>\n",
       "    </tr>\n",
       "    <tr>\n",
       "      <th>max</th>\n",
       "      <td>27971.000000</td>\n",
       "      <td>40.000000</td>\n",
       "      <td>2.699035e+09</td>\n",
       "      <td>0.560043</td>\n",
       "      <td>1.593753e+10</td>\n",
       "      <td>1.522169e+09</td>\n",
       "    </tr>\n",
       "  </tbody>\n",
       "</table>\n",
       "</div>"
      ],
      "text/plain": [
       "                num       Power      area_10X       ratio  ori_real_area  \\\n",
       "count    759.000000  759.000000  7.590000e+02  759.000000   7.590000e+02   \n",
       "mean    2977.586298   38.234519  5.382403e+08    0.057310   3.178255e+09   \n",
       "std     3381.354334    5.677602  2.857446e+08    0.061695   1.687293e+09   \n",
       "min       50.000000   20.000000  2.308479e+07    0.000258   1.363134e+08   \n",
       "25%      491.000000   40.000000  3.793671e+08    0.010588   2.240125e+09   \n",
       "50%     1874.000000   40.000000  5.176180e+08    0.039773   3.056482e+09   \n",
       "75%     4359.500000   40.000000  6.433840e+08    0.084139   3.799118e+09   \n",
       "max    27971.000000   40.000000  2.699035e+09    0.560043   1.593753e+10   \n",
       "\n",
       "       sel_real_area  \n",
       "count   7.590000e+02  \n",
       "mean    1.620389e+08  \n",
       "std     1.840118e+08  \n",
       "min     2.720978e+06  \n",
       "25%     2.672000e+07  \n",
       "50%     1.019823e+08  \n",
       "75%     2.372421e+08  \n",
       "max     1.522169e+09  "
      ]
     },
     "execution_count": 44,
     "metadata": {},
     "output_type": "execute_result"
    }
   ],
   "source": [
    "img_comp.describe()"
   ]
  }
 ],
 "metadata": {
  "kernelspec": {
   "display_name": "Python 3",
   "language": "python",
   "name": "python3"
  },
  "language_info": {
   "codemirror_mode": {
    "name": "ipython",
    "version": 3
   },
   "file_extension": ".py",
   "mimetype": "text/x-python",
   "name": "python",
   "nbconvert_exporter": "python",
   "pygments_lexer": "ipython3",
   "version": "3.6.7"
  }
 },
 "nbformat": 4,
 "nbformat_minor": 2
}
