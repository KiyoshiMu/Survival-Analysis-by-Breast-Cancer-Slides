{
 "cells": [
  {
   "cell_type": "code",
   "execution_count": 2,
   "metadata": {},
   "outputs": [],
   "source": [
    "import re\n",
    "import pandas as pd\n",
    "import numpy as np\n",
    "from collections import defaultdict"
   ]
  },
  {
   "cell_type": "code",
   "execution_count": 4,
   "metadata": {},
   "outputs": [],
   "source": [
    "pattern = r'(?P<day>\\d+-\\d+-\\d+)\\s(?P<time>\\d+:\\d+:\\d+).*train:(?P<train>\\d+.\\d+)\\snum:(?P<num>\\d+);.*val:(?P<val>\\d+.\\d+)\\s'\n",
    "pattern0 = r'(?P<day>\\d+-\\d+-\\d+)\\s(?P<time>\\d+:\\d+:\\d+).*train:(?P<train>\\d+.\\d+);.*val:(?P<val>\\d+.\\d+)\\s'"
   ]
  },
  {
   "cell_type": "code",
   "execution_count": 1,
   "metadata": {},
   "outputs": [],
   "source": [
    "pattern1 = r'(?P<day>\\d+-\\d+-\\d+)\\s(?P<time>\\d+:\\d+:\\d+).*train:(?P<train>\\d+.\\d+)\\snum:(?P<num>\\d+);.*val:(?P<val>\\d+.\\d+).*size:(?P<size>\\d+)'"
   ]
  },
  {
   "cell_type": "code",
   "execution_count": 5,
   "metadata": {},
   "outputs": [],
   "source": [
    "def collect(p='../../main.log', pa=pattern):\n",
    "    with open(p) as log:\n",
    "        result = re.compile(pa)\n",
    "        line = result.finditer(log.read())\n",
    "    return line"
   ]
  },
  {
   "cell_type": "code",
   "execution_count": 6,
   "metadata": {},
   "outputs": [],
   "source": [
    "def collect_aux(line):\n",
    "    record = defaultdict(list)\n",
    "    while 1:\n",
    "        try:\n",
    "            m = next(line)\n",
    "            for k, v in m.groupdict().items():\n",
    "                record[k].append(v)\n",
    "        except StopIteration:\n",
    "            break\n",
    "    return record"
   ]
  },
  {
   "cell_type": "code",
   "execution_count": 7,
   "metadata": {},
   "outputs": [],
   "source": [
    " def clean_data(record):\n",
    "    log_df = pd.DataFrame.from_dict(record)\n",
    "    try:\n",
    "        log_df['num'] = pd.to_numeric(log_df['num'])\n",
    "    except KeyError:\n",
    "        log_df['num'] = 380\n",
    "    log_df['train'] = pd.to_numeric(log_df['train'])\n",
    "    log_df['val'] = pd.to_numeric(log_df['val'])\n",
    "    log_df['day'] = pd.to_datetime(log_df['day'])\n",
    "    log_df['time'] = log_df.day + pd.to_timedelta(log_df.time)\n",
    "    return log_df"
   ]
  },
  {
   "cell_type": "code",
   "execution_count": 8,
   "metadata": {},
   "outputs": [],
   "source": [
    "def log_data_pipe(p='../../main.log', pa=pattern):\n",
    "    line = collect(p, pa=pa)\n",
    "    record = collect_aux(line)\n",
    "    log_df = clean_data(record)\n",
    "    return log_df"
   ]
  },
  {
   "cell_type": "code",
   "execution_count": 8,
   "metadata": {},
   "outputs": [],
   "source": [
    "log_df = log_data_pipe(p='../../main+ - Copy (3).log')"
   ]
  },
  {
   "cell_type": "code",
   "execution_count": 9,
   "metadata": {},
   "outputs": [],
   "source": [
    "log_df.to_excel('../../temp.xlsx')"
   ]
  },
  {
   "cell_type": "code",
   "execution_count": 9,
   "metadata": {},
   "outputs": [
    {
     "data": {
      "text/html": [
       "<div>\n",
       "<style scoped>\n",
       "    .dataframe tbody tr th:only-of-type {\n",
       "        vertical-align: middle;\n",
       "    }\n",
       "\n",
       "    .dataframe tbody tr th {\n",
       "        vertical-align: top;\n",
       "    }\n",
       "\n",
       "    .dataframe thead th {\n",
       "        text-align: right;\n",
       "    }\n",
       "</style>\n",
       "<table border=\"1\" class=\"dataframe\">\n",
       "  <thead>\n",
       "    <tr style=\"text-align: right;\">\n",
       "      <th></th>\n",
       "      <th>day</th>\n",
       "      <th>time</th>\n",
       "      <th>train</th>\n",
       "      <th>num</th>\n",
       "      <th>val</th>\n",
       "    </tr>\n",
       "  </thead>\n",
       "  <tbody>\n",
       "    <tr>\n",
       "      <th>89</th>\n",
       "      <td>2019-03-25</td>\n",
       "      <td>2019-03-25 15:37:16</td>\n",
       "      <td>0.592135</td>\n",
       "      <td>607</td>\n",
       "      <td>0.592593</td>\n",
       "    </tr>\n",
       "  </tbody>\n",
       "</table>\n",
       "</div>"
      ],
      "text/plain": [
       "          day                time     train  num       val\n",
       "89 2019-03-25 2019-03-25 15:37:16  0.592135  607  0.592593"
      ]
     },
     "execution_count": 9,
     "metadata": {},
     "output_type": "execute_result"
    }
   ],
   "source": [
    "log_df.loc[log_df.train==log_df.train.max()]"
   ]
  },
  {
   "cell_type": "code",
   "execution_count": 10,
   "metadata": {},
   "outputs": [
    {
     "data": {
      "text/html": [
       "<div>\n",
       "<style scoped>\n",
       "    .dataframe tbody tr th:only-of-type {\n",
       "        vertical-align: middle;\n",
       "    }\n",
       "\n",
       "    .dataframe tbody tr th {\n",
       "        vertical-align: top;\n",
       "    }\n",
       "\n",
       "    .dataframe thead th {\n",
       "        text-align: right;\n",
       "    }\n",
       "</style>\n",
       "<table border=\"1\" class=\"dataframe\">\n",
       "  <thead>\n",
       "    <tr style=\"text-align: right;\">\n",
       "      <th></th>\n",
       "      <th>day</th>\n",
       "      <th>time</th>\n",
       "      <th>train</th>\n",
       "      <th>num</th>\n",
       "      <th>val</th>\n",
       "    </tr>\n",
       "  </thead>\n",
       "  <tbody>\n",
       "    <tr>\n",
       "      <th>197</th>\n",
       "      <td>2019-03-25</td>\n",
       "      <td>2019-03-25 18:14:56</td>\n",
       "      <td>0.57874</td>\n",
       "      <td>607</td>\n",
       "      <td>0.753883</td>\n",
       "    </tr>\n",
       "  </tbody>\n",
       "</table>\n",
       "</div>"
      ],
      "text/plain": [
       "           day                time    train  num       val\n",
       "197 2019-03-25 2019-03-25 18:14:56  0.57874  607  0.753883"
      ]
     },
     "execution_count": 10,
     "metadata": {},
     "output_type": "execute_result"
    }
   ],
   "source": [
    "log_df.loc[log_df.val==log_df.val.max()]"
   ]
  },
  {
   "cell_type": "code",
   "execution_count": 7,
   "metadata": {},
   "outputs": [],
   "source": [
    "log_df0 = log_data_pipe(p='../../train.log', pa=pattern0)\n",
    "log_df1 = log_data_pipe()"
   ]
  },
  {
   "cell_type": "code",
   "execution_count": 9,
   "metadata": {},
   "outputs": [],
   "source": [
    "log_df1 = log_data_pipe(p='../../main+ - Copy (3).log', pa=pattern1)\n",
    "\n",
    "log_df1['size'] = pd.to_numeric(log_df1['size'])\n",
    "\n",
    "log_df1['aug'] = False\n",
    "log_df1.to_excel('../data/512_400time.xlsx')"
   ]
  },
  {
   "cell_type": "code",
   "execution_count": 27,
   "metadata": {},
   "outputs": [],
   "source": [
    "log_df_clean = log_df0.append(log_df1)\n",
    "log_df_clean['aug'] = True\n",
    "log_df_clean['size'] = 0"
   ]
  },
  {
   "cell_type": "markdown",
   "metadata": {},
   "source": [
    "Without augmentation, 256"
   ]
  },
  {
   "cell_type": "code",
   "execution_count": 28,
   "metadata": {},
   "outputs": [],
   "source": [
    "log_df_clean.loc[(log_df_clean.time<='2019-03-21 00:01:35')&\n",
    "                 (log_df_clean.time>='2019-03-20 21:29:06'), 'aug'] = False\n",
    "\n",
    "log_df_clean.loc[(log_df_clean.time<='2019-03-21 00:01:35')&\n",
    "                 (log_df_clean.time>='2019-03-20 21:29:06'), 'size'] = 256"
   ]
  },
  {
   "cell_type": "code",
   "execution_count": 29,
   "metadata": {},
   "outputs": [],
   "source": [
    "log_df_clean.loc[(log_df_clean.time<='2019-03-21 13:13:39')&\n",
    "                 (log_df_clean.time>='2019-03-21 12:15:06'), 'aug'] = False\n",
    "\n",
    "log_df_clean.loc[(log_df_clean.time<='2019-03-21 13:13:39')&\n",
    "                 (log_df_clean.time>='2019-03-21 12:15:06'), 'size'] = 256"
   ]
  },
  {
   "cell_type": "markdown",
   "metadata": {},
   "source": [
    "log_df_clean.loc[(log_df.time<='2019-03-20 11:30:50')&\n",
    "                 (log_df.time>='2019-03-20 09:28:06'), 'aug'] = False\n",
    "\n",
    "log_df_clean.loc[(log_df.time<='2019-03-20 11:30:50')&\n",
    "                 (log_df.time>='2019-03-20 09:28:06'), 'size'] = 256"
   ]
  },
  {
   "cell_type": "markdown",
   "metadata": {},
   "source": [
    "Without augmentation, 512"
   ]
  },
  {
   "cell_type": "code",
   "execution_count": 30,
   "metadata": {},
   "outputs": [],
   "source": [
    "log_df_clean.loc[('2019-03-21 14:27:13'<=log_df_clean.time)&\n",
    "                 (log_df_clean.time<='2019-03-21 17:39:24'), 'aug'] = False\n",
    "\n",
    "log_df_clean.loc[('2019-03-21 14:27:13'<=log_df_clean.time)&\n",
    "                 (log_df_clean.time<='2019-03-21 17:39:24'), 'size'] = 512"
   ]
  },
  {
   "cell_type": "code",
   "execution_count": 31,
   "metadata": {},
   "outputs": [],
   "source": [
    "log_df_clean.loc[('2019-03-22 10:33:33'<=log_df_clean.time)&\n",
    "                 (log_df_clean.time<='2019-03-22 11:34:35'), 'aug'] = False\n",
    "\n",
    "log_df_clean.loc[('2019-03-22 10:33:33'<=log_df_clean.time)&\n",
    "                 (log_df_clean.time<='2019-03-22 11:34:35'),  'size'] = 512"
   ]
  },
  {
   "cell_type": "markdown",
   "metadata": {},
   "source": [
    "With augmentation, 512"
   ]
  },
  {
   "cell_type": "code",
   "execution_count": 32,
   "metadata": {},
   "outputs": [],
   "source": [
    "log_df_clean.loc[('2019-03-20 16:29:59'<=log_df_clean.time)&\n",
    "                 (log_df_clean.time<='2019-03-20 18:56:42'), 'size'] = 512"
   ]
  },
  {
   "cell_type": "code",
   "execution_count": 33,
   "metadata": {},
   "outputs": [],
   "source": [
    "log_df_clean.loc[('2019-03-21 20:17:59'<=log_df_clean.time)&\n",
    "                 (log_df_clean.time<='2019-03-22 01:48:42'), 'size'] = 512"
   ]
  },
  {
   "cell_type": "markdown",
   "metadata": {},
   "source": [
    "With augmentation, 256"
   ]
  },
  {
   "cell_type": "code",
   "execution_count": 34,
   "metadata": {},
   "outputs": [],
   "source": [
    "log_df_clean.loc[(log_df_clean.time<='2019-03-19 13:37:12')&\n",
    "                 (log_df_clean.time>='2019-03-19 12:21:56'), 'size'] = 256"
   ]
  },
  {
   "cell_type": "code",
   "execution_count": 35,
   "metadata": {},
   "outputs": [],
   "source": [
    "log_df_clean.loc[(log_df_clean.time<='2019-03-21 20:15:05')&\n",
    "                 (log_df_clean.time>='2019-03-21 17:53:31'), 'size'] = 256"
   ]
  },
  {
   "cell_type": "code",
   "execution_count": 36,
   "metadata": {},
   "outputs": [],
   "source": [
    "log_df_clean = log_df_clean.loc[log_df_clean['size']>1]"
   ]
  },
  {
   "cell_type": "code",
   "execution_count": 37,
   "metadata": {},
   "outputs": [
    {
     "data": {
      "text/plain": [
       "size  aug    num\n",
       "256   False  380    40\n",
       "             607    40\n",
       "      True   380    40\n",
       "             607    40\n",
       "512   False  380    40\n",
       "             607    40\n",
       "      True   380    40\n",
       "             607    40\n",
       "dtype: int64"
      ]
     },
     "execution_count": 37,
     "metadata": {},
     "output_type": "execute_result"
    }
   ],
   "source": [
    "log_df_clean.groupby(['size', 'aug','num']).size()"
   ]
  },
  {
   "cell_type": "code",
   "execution_count": 38,
   "metadata": {},
   "outputs": [],
   "source": [
    "log_df_clean.to_excel('../data/performance_p1.xlsx')"
   ]
  },
  {
   "cell_type": "markdown",
   "metadata": {},
   "source": [
    "##  Without augmentation, 256"
   ]
  },
  {
   "cell_type": "code",
   "execution_count": 40,
   "metadata": {},
   "outputs": [],
   "source": [
    "noaug256 = log_df_clean.loc[(log_df_clean['size']==256)&\n",
    "                         (log_df_clean['aug']==False)]"
   ]
  },
  {
   "cell_type": "markdown",
   "metadata": {},
   "source": [
    "### 2/8"
   ]
  },
  {
   "cell_type": "code",
   "execution_count": 43,
   "metadata": {},
   "outputs": [
    {
     "data": {
      "text/html": [
       "<div>\n",
       "<style scoped>\n",
       "    .dataframe tbody tr th:only-of-type {\n",
       "        vertical-align: middle;\n",
       "    }\n",
       "\n",
       "    .dataframe tbody tr th {\n",
       "        vertical-align: top;\n",
       "    }\n",
       "\n",
       "    .dataframe thead th {\n",
       "        text-align: right;\n",
       "    }\n",
       "</style>\n",
       "<table border=\"1\" class=\"dataframe\">\n",
       "  <thead>\n",
       "    <tr style=\"text-align: right;\">\n",
       "      <th></th>\n",
       "      <th>train</th>\n",
       "      <th>val</th>\n",
       "    </tr>\n",
       "    <tr>\n",
       "      <th>num</th>\n",
       "      <th></th>\n",
       "      <th></th>\n",
       "    </tr>\n",
       "  </thead>\n",
       "  <tbody>\n",
       "    <tr>\n",
       "      <th>380</th>\n",
       "      <td>0.552027</td>\n",
       "      <td>0.618779</td>\n",
       "    </tr>\n",
       "    <tr>\n",
       "      <th>607</th>\n",
       "      <td>0.547878</td>\n",
       "      <td>0.676822</td>\n",
       "    </tr>\n",
       "  </tbody>\n",
       "</table>\n",
       "</div>"
      ],
      "text/plain": [
       "        train       val\n",
       "num                    \n",
       "380  0.552027  0.618779\n",
       "607  0.547878  0.676822"
      ]
     },
     "execution_count": 43,
     "metadata": {},
     "output_type": "execute_result"
    }
   ],
   "source": [
    "noaug256.groupby('num')['train', 'val'].max()"
   ]
  },
  {
   "cell_type": "code",
   "execution_count": 44,
   "metadata": {},
   "outputs": [
    {
     "data": {
      "text/html": [
       "<div>\n",
       "<style scoped>\n",
       "    .dataframe tbody tr th:only-of-type {\n",
       "        vertical-align: middle;\n",
       "    }\n",
       "\n",
       "    .dataframe tbody tr th {\n",
       "        vertical-align: top;\n",
       "    }\n",
       "\n",
       "    .dataframe thead th {\n",
       "        text-align: right;\n",
       "    }\n",
       "</style>\n",
       "<table border=\"1\" class=\"dataframe\">\n",
       "  <thead>\n",
       "    <tr style=\"text-align: right;\">\n",
       "      <th></th>\n",
       "      <th>day</th>\n",
       "      <th>num</th>\n",
       "      <th>time</th>\n",
       "      <th>train</th>\n",
       "      <th>val</th>\n",
       "      <th>aug</th>\n",
       "      <th>size</th>\n",
       "    </tr>\n",
       "  </thead>\n",
       "  <tbody>\n",
       "    <tr>\n",
       "      <th>125</th>\n",
       "      <td>2019-03-20</td>\n",
       "      <td>607</td>\n",
       "      <td>2019-03-20 23:06:09</td>\n",
       "      <td>0.515839</td>\n",
       "      <td>0.676822</td>\n",
       "      <td>False</td>\n",
       "      <td>256</td>\n",
       "    </tr>\n",
       "  </tbody>\n",
       "</table>\n",
       "</div>"
      ],
      "text/plain": [
       "           day  num                time     train       val    aug  size\n",
       "125 2019-03-20  607 2019-03-20 23:06:09  0.515839  0.676822  False   256"
      ]
     },
     "execution_count": 44,
     "metadata": {},
     "output_type": "execute_result"
    }
   ],
   "source": [
    "noaug256.loc[(noaug256['num']==607)&(noaug256['val']>0.67)]"
   ]
  },
  {
   "cell_type": "code",
   "execution_count": 46,
   "metadata": {},
   "outputs": [
    {
     "data": {
      "text/html": [
       "<div>\n",
       "<style scoped>\n",
       "    .dataframe tbody tr th:only-of-type {\n",
       "        vertical-align: middle;\n",
       "    }\n",
       "\n",
       "    .dataframe tbody tr th {\n",
       "        vertical-align: top;\n",
       "    }\n",
       "\n",
       "    .dataframe thead th {\n",
       "        text-align: right;\n",
       "    }\n",
       "</style>\n",
       "<table border=\"1\" class=\"dataframe\">\n",
       "  <thead>\n",
       "    <tr style=\"text-align: right;\">\n",
       "      <th></th>\n",
       "      <th>day</th>\n",
       "      <th>num</th>\n",
       "      <th>time</th>\n",
       "      <th>train</th>\n",
       "      <th>val</th>\n",
       "      <th>aug</th>\n",
       "      <th>size</th>\n",
       "    </tr>\n",
       "  </thead>\n",
       "  <tbody>\n",
       "    <tr>\n",
       "      <th>135</th>\n",
       "      <td>2019-03-21</td>\n",
       "      <td>607</td>\n",
       "      <td>2019-03-21 00:01:19</td>\n",
       "      <td>0.547878</td>\n",
       "      <td>0.626643</td>\n",
       "      <td>False</td>\n",
       "      <td>256</td>\n",
       "    </tr>\n",
       "  </tbody>\n",
       "</table>\n",
       "</div>"
      ],
      "text/plain": [
       "           day  num                time     train       val    aug  size\n",
       "135 2019-03-21  607 2019-03-21 00:01:19  0.547878  0.626643  False   256"
      ]
     },
     "execution_count": 46,
     "metadata": {},
     "output_type": "execute_result"
    }
   ],
   "source": [
    "noaug256.loc[(noaug256['num']==607)&(noaug256['train']>0.54)]"
   ]
  },
  {
   "cell_type": "markdown",
   "metadata": {},
   "source": [
    "### 5/5"
   ]
  },
  {
   "cell_type": "code",
   "execution_count": 49,
   "metadata": {},
   "outputs": [
    {
     "data": {
      "text/html": [
       "<div>\n",
       "<style scoped>\n",
       "    .dataframe tbody tr th:only-of-type {\n",
       "        vertical-align: middle;\n",
       "    }\n",
       "\n",
       "    .dataframe tbody tr th {\n",
       "        vertical-align: top;\n",
       "    }\n",
       "\n",
       "    .dataframe thead th {\n",
       "        text-align: right;\n",
       "    }\n",
       "</style>\n",
       "<table border=\"1\" class=\"dataframe\">\n",
       "  <thead>\n",
       "    <tr style=\"text-align: right;\">\n",
       "      <th></th>\n",
       "      <th>day</th>\n",
       "      <th>num</th>\n",
       "      <th>time</th>\n",
       "      <th>train</th>\n",
       "      <th>val</th>\n",
       "      <th>aug</th>\n",
       "      <th>size</th>\n",
       "    </tr>\n",
       "  </thead>\n",
       "  <tbody>\n",
       "    <tr>\n",
       "      <th>239</th>\n",
       "      <td>2019-03-21</td>\n",
       "      <td>380</td>\n",
       "      <td>2019-03-21 13:05:18</td>\n",
       "      <td>0.530431</td>\n",
       "      <td>0.618779</td>\n",
       "      <td>False</td>\n",
       "      <td>256</td>\n",
       "    </tr>\n",
       "  </tbody>\n",
       "</table>\n",
       "</div>"
      ],
      "text/plain": [
       "           day  num                time     train       val    aug  size\n",
       "239 2019-03-21  380 2019-03-21 13:05:18  0.530431  0.618779  False   256"
      ]
     },
     "execution_count": 49,
     "metadata": {},
     "output_type": "execute_result"
    }
   ],
   "source": [
    "noaug256.loc[(noaug256['num']==380)&(noaug256['val']>0.618)]"
   ]
  },
  {
   "cell_type": "code",
   "execution_count": 50,
   "metadata": {},
   "outputs": [
    {
     "data": {
      "text/html": [
       "<div>\n",
       "<style scoped>\n",
       "    .dataframe tbody tr th:only-of-type {\n",
       "        vertical-align: middle;\n",
       "    }\n",
       "\n",
       "    .dataframe tbody tr th {\n",
       "        vertical-align: top;\n",
       "    }\n",
       "\n",
       "    .dataframe thead th {\n",
       "        text-align: right;\n",
       "    }\n",
       "</style>\n",
       "<table border=\"1\" class=\"dataframe\">\n",
       "  <thead>\n",
       "    <tr style=\"text-align: right;\">\n",
       "      <th></th>\n",
       "      <th>day</th>\n",
       "      <th>num</th>\n",
       "      <th>time</th>\n",
       "      <th>train</th>\n",
       "      <th>val</th>\n",
       "      <th>aug</th>\n",
       "      <th>size</th>\n",
       "    </tr>\n",
       "  </thead>\n",
       "  <tbody>\n",
       "    <tr>\n",
       "      <th>228</th>\n",
       "      <td>2019-03-21</td>\n",
       "      <td>380</td>\n",
       "      <td>2019-03-21 12:49:49</td>\n",
       "      <td>0.552027</td>\n",
       "      <td>0.554513</td>\n",
       "      <td>False</td>\n",
       "      <td>256</td>\n",
       "    </tr>\n",
       "  </tbody>\n",
       "</table>\n",
       "</div>"
      ],
      "text/plain": [
       "           day  num                time     train       val    aug  size\n",
       "228 2019-03-21  380 2019-03-21 12:49:49  0.552027  0.554513  False   256"
      ]
     },
     "execution_count": 50,
     "metadata": {},
     "output_type": "execute_result"
    }
   ],
   "source": [
    "noaug256.loc[(noaug256['num']==380)&(noaug256['train']>0.55)]"
   ]
  },
  {
   "cell_type": "markdown",
   "metadata": {},
   "source": [
    "##  Without augmentation, 512"
   ]
  },
  {
   "cell_type": "code",
   "execution_count": 51,
   "metadata": {},
   "outputs": [],
   "source": [
    "noaug512 = log_df_clean.loc[(log_df_clean['size']==512)&\n",
    "                         (log_df_clean['aug']==False)]"
   ]
  },
  {
   "cell_type": "code",
   "execution_count": 52,
   "metadata": {},
   "outputs": [
    {
     "data": {
      "text/html": [
       "<div>\n",
       "<style scoped>\n",
       "    .dataframe tbody tr th:only-of-type {\n",
       "        vertical-align: middle;\n",
       "    }\n",
       "\n",
       "    .dataframe tbody tr th {\n",
       "        vertical-align: top;\n",
       "    }\n",
       "\n",
       "    .dataframe thead th {\n",
       "        text-align: right;\n",
       "    }\n",
       "</style>\n",
       "<table border=\"1\" class=\"dataframe\">\n",
       "  <thead>\n",
       "    <tr style=\"text-align: right;\">\n",
       "      <th></th>\n",
       "      <th>train</th>\n",
       "      <th>val</th>\n",
       "    </tr>\n",
       "    <tr>\n",
       "      <th>num</th>\n",
       "      <th></th>\n",
       "      <th></th>\n",
       "    </tr>\n",
       "  </thead>\n",
       "  <tbody>\n",
       "    <tr>\n",
       "      <th>380</th>\n",
       "      <td>0.567733</td>\n",
       "      <td>0.635937</td>\n",
       "    </tr>\n",
       "    <tr>\n",
       "      <th>607</th>\n",
       "      <td>0.593266</td>\n",
       "      <td>0.663680</td>\n",
       "    </tr>\n",
       "  </tbody>\n",
       "</table>\n",
       "</div>"
      ],
      "text/plain": [
       "        train       val\n",
       "num                    \n",
       "380  0.567733  0.635937\n",
       "607  0.593266  0.663680"
      ]
     },
     "execution_count": 52,
     "metadata": {},
     "output_type": "execute_result"
    }
   ],
   "source": [
    "noaug512.groupby('num')['train', 'val'].max()"
   ]
  },
  {
   "cell_type": "markdown",
   "metadata": {},
   "source": [
    "### 2/8"
   ]
  },
  {
   "cell_type": "code",
   "execution_count": 54,
   "metadata": {},
   "outputs": [
    {
     "data": {
      "text/html": [
       "<div>\n",
       "<style scoped>\n",
       "    .dataframe tbody tr th:only-of-type {\n",
       "        vertical-align: middle;\n",
       "    }\n",
       "\n",
       "    .dataframe tbody tr th {\n",
       "        vertical-align: top;\n",
       "    }\n",
       "\n",
       "    .dataframe thead th {\n",
       "        text-align: right;\n",
       "    }\n",
       "</style>\n",
       "<table border=\"1\" class=\"dataframe\">\n",
       "  <thead>\n",
       "    <tr style=\"text-align: right;\">\n",
       "      <th></th>\n",
       "      <th>day</th>\n",
       "      <th>num</th>\n",
       "      <th>time</th>\n",
       "      <th>train</th>\n",
       "      <th>val</th>\n",
       "      <th>aug</th>\n",
       "      <th>size</th>\n",
       "    </tr>\n",
       "  </thead>\n",
       "  <tbody>\n",
       "    <tr>\n",
       "      <th>255</th>\n",
       "      <td>2019-03-21</td>\n",
       "      <td>607</td>\n",
       "      <td>2019-03-21 14:43:33</td>\n",
       "      <td>0.586026</td>\n",
       "      <td>0.66368</td>\n",
       "      <td>False</td>\n",
       "      <td>512</td>\n",
       "    </tr>\n",
       "    <tr>\n",
       "      <th>261</th>\n",
       "      <td>2019-03-21</td>\n",
       "      <td>607</td>\n",
       "      <td>2019-03-21 14:53:07</td>\n",
       "      <td>0.593266</td>\n",
       "      <td>0.66368</td>\n",
       "      <td>False</td>\n",
       "      <td>512</td>\n",
       "    </tr>\n",
       "  </tbody>\n",
       "</table>\n",
       "</div>"
      ],
      "text/plain": [
       "           day  num                time     train      val    aug  size\n",
       "255 2019-03-21  607 2019-03-21 14:43:33  0.586026  0.66368  False   512\n",
       "261 2019-03-21  607 2019-03-21 14:53:07  0.593266  0.66368  False   512"
      ]
     },
     "execution_count": 54,
     "metadata": {},
     "output_type": "execute_result"
    }
   ],
   "source": [
    "noaug512.loc[(noaug512['num']==607)&(noaug512['val']>0.66)]"
   ]
  },
  {
   "cell_type": "code",
   "execution_count": 55,
   "metadata": {},
   "outputs": [
    {
     "data": {
      "text/html": [
       "<div>\n",
       "<style scoped>\n",
       "    .dataframe tbody tr th:only-of-type {\n",
       "        vertical-align: middle;\n",
       "    }\n",
       "\n",
       "    .dataframe tbody tr th {\n",
       "        vertical-align: top;\n",
       "    }\n",
       "\n",
       "    .dataframe thead th {\n",
       "        text-align: right;\n",
       "    }\n",
       "</style>\n",
       "<table border=\"1\" class=\"dataframe\">\n",
       "  <thead>\n",
       "    <tr style=\"text-align: right;\">\n",
       "      <th></th>\n",
       "      <th>day</th>\n",
       "      <th>num</th>\n",
       "      <th>time</th>\n",
       "      <th>train</th>\n",
       "      <th>val</th>\n",
       "      <th>aug</th>\n",
       "      <th>size</th>\n",
       "    </tr>\n",
       "  </thead>\n",
       "  <tbody>\n",
       "    <tr>\n",
       "      <th>261</th>\n",
       "      <td>2019-03-21</td>\n",
       "      <td>607</td>\n",
       "      <td>2019-03-21 14:53:07</td>\n",
       "      <td>0.593266</td>\n",
       "      <td>0.66368</td>\n",
       "      <td>False</td>\n",
       "      <td>512</td>\n",
       "    </tr>\n",
       "  </tbody>\n",
       "</table>\n",
       "</div>"
      ],
      "text/plain": [
       "           day  num                time     train      val    aug  size\n",
       "261 2019-03-21  607 2019-03-21 14:53:07  0.593266  0.66368  False   512"
      ]
     },
     "execution_count": 55,
     "metadata": {},
     "output_type": "execute_result"
    }
   ],
   "source": [
    "noaug512.loc[(noaug512['num']==607)&(noaug512['train']>0.59)]"
   ]
  },
  {
   "cell_type": "markdown",
   "metadata": {},
   "source": [
    "### 5/5"
   ]
  },
  {
   "cell_type": "code",
   "execution_count": 57,
   "metadata": {},
   "outputs": [
    {
     "data": {
      "text/html": [
       "<div>\n",
       "<style scoped>\n",
       "    .dataframe tbody tr th:only-of-type {\n",
       "        vertical-align: middle;\n",
       "    }\n",
       "\n",
       "    .dataframe tbody tr th {\n",
       "        vertical-align: top;\n",
       "    }\n",
       "\n",
       "    .dataframe thead th {\n",
       "        text-align: right;\n",
       "    }\n",
       "</style>\n",
       "<table border=\"1\" class=\"dataframe\">\n",
       "  <thead>\n",
       "    <tr style=\"text-align: right;\">\n",
       "      <th></th>\n",
       "      <th>day</th>\n",
       "      <th>num</th>\n",
       "      <th>time</th>\n",
       "      <th>train</th>\n",
       "      <th>val</th>\n",
       "      <th>aug</th>\n",
       "      <th>size</th>\n",
       "    </tr>\n",
       "  </thead>\n",
       "  <tbody>\n",
       "    <tr>\n",
       "      <th>374</th>\n",
       "      <td>2019-03-22</td>\n",
       "      <td>380</td>\n",
       "      <td>2019-03-22 10:45:16</td>\n",
       "      <td>0.489895</td>\n",
       "      <td>0.635937</td>\n",
       "      <td>False</td>\n",
       "      <td>512</td>\n",
       "    </tr>\n",
       "  </tbody>\n",
       "</table>\n",
       "</div>"
      ],
      "text/plain": [
       "           day  num                time     train       val    aug  size\n",
       "374 2019-03-22  380 2019-03-22 10:45:16  0.489895  0.635937  False   512"
      ]
     },
     "execution_count": 57,
     "metadata": {},
     "output_type": "execute_result"
    }
   ],
   "source": [
    "noaug512.loc[(noaug512['num']==380)&(noaug512['val']>0.635)]"
   ]
  },
  {
   "cell_type": "code",
   "execution_count": 58,
   "metadata": {},
   "outputs": [
    {
     "data": {
      "text/html": [
       "<div>\n",
       "<style scoped>\n",
       "    .dataframe tbody tr th:only-of-type {\n",
       "        vertical-align: middle;\n",
       "    }\n",
       "\n",
       "    .dataframe tbody tr th {\n",
       "        vertical-align: top;\n",
       "    }\n",
       "\n",
       "    .dataframe thead th {\n",
       "        text-align: right;\n",
       "    }\n",
       "</style>\n",
       "<table border=\"1\" class=\"dataframe\">\n",
       "  <thead>\n",
       "    <tr style=\"text-align: right;\">\n",
       "      <th></th>\n",
       "      <th>day</th>\n",
       "      <th>num</th>\n",
       "      <th>time</th>\n",
       "      <th>train</th>\n",
       "      <th>val</th>\n",
       "      <th>aug</th>\n",
       "      <th>size</th>\n",
       "    </tr>\n",
       "  </thead>\n",
       "  <tbody>\n",
       "    <tr>\n",
       "      <th>381</th>\n",
       "      <td>2019-03-22</td>\n",
       "      <td>380</td>\n",
       "      <td>2019-03-22 10:56:28</td>\n",
       "      <td>0.567733</td>\n",
       "      <td>0.576788</td>\n",
       "      <td>False</td>\n",
       "      <td>512</td>\n",
       "    </tr>\n",
       "  </tbody>\n",
       "</table>\n",
       "</div>"
      ],
      "text/plain": [
       "           day  num                time     train       val    aug  size\n",
       "381 2019-03-22  380 2019-03-22 10:56:28  0.567733  0.576788  False   512"
      ]
     },
     "execution_count": 58,
     "metadata": {},
     "output_type": "execute_result"
    }
   ],
   "source": [
    "noaug512.loc[(noaug512['num']==380)&(noaug512['train']>0.567)]"
   ]
  },
  {
   "cell_type": "markdown",
   "metadata": {},
   "source": [
    "## With 10 times augmentation, 256"
   ]
  },
  {
   "cell_type": "code",
   "execution_count": 59,
   "metadata": {},
   "outputs": [],
   "source": [
    "aug256 = log_df_clean.loc[(log_df_clean['size']==256)&\n",
    "                        (log_df_clean['aug']==True)]"
   ]
  },
  {
   "cell_type": "code",
   "execution_count": 60,
   "metadata": {
    "scrolled": true
   },
   "outputs": [
    {
     "data": {
      "text/html": [
       "<div>\n",
       "<style scoped>\n",
       "    .dataframe tbody tr th:only-of-type {\n",
       "        vertical-align: middle;\n",
       "    }\n",
       "\n",
       "    .dataframe tbody tr th {\n",
       "        vertical-align: top;\n",
       "    }\n",
       "\n",
       "    .dataframe thead th {\n",
       "        text-align: right;\n",
       "    }\n",
       "</style>\n",
       "<table border=\"1\" class=\"dataframe\">\n",
       "  <thead>\n",
       "    <tr style=\"text-align: right;\">\n",
       "      <th></th>\n",
       "      <th>train</th>\n",
       "      <th>val</th>\n",
       "    </tr>\n",
       "    <tr>\n",
       "      <th>num</th>\n",
       "      <th></th>\n",
       "      <th></th>\n",
       "    </tr>\n",
       "  </thead>\n",
       "  <tbody>\n",
       "    <tr>\n",
       "      <th>380</th>\n",
       "      <td>0.598914</td>\n",
       "      <td>0.551423</td>\n",
       "    </tr>\n",
       "    <tr>\n",
       "      <th>607</th>\n",
       "      <td>0.546430</td>\n",
       "      <td>0.614695</td>\n",
       "    </tr>\n",
       "  </tbody>\n",
       "</table>\n",
       "</div>"
      ],
      "text/plain": [
       "        train       val\n",
       "num                    \n",
       "380  0.598914  0.551423\n",
       "607  0.546430  0.614695"
      ]
     },
     "execution_count": 60,
     "metadata": {},
     "output_type": "execute_result"
    }
   ],
   "source": [
    "aug256.groupby('num')['train', 'val'].max()"
   ]
  },
  {
   "cell_type": "markdown",
   "metadata": {},
   "source": [
    "### 5/5"
   ]
  },
  {
   "cell_type": "code",
   "execution_count": 63,
   "metadata": {},
   "outputs": [
    {
     "data": {
      "text/html": [
       "<div>\n",
       "<style scoped>\n",
       "    .dataframe tbody tr th:only-of-type {\n",
       "        vertical-align: middle;\n",
       "    }\n",
       "\n",
       "    .dataframe tbody tr th {\n",
       "        vertical-align: top;\n",
       "    }\n",
       "\n",
       "    .dataframe thead th {\n",
       "        text-align: right;\n",
       "    }\n",
       "</style>\n",
       "<table border=\"1\" class=\"dataframe\">\n",
       "  <thead>\n",
       "    <tr style=\"text-align: right;\">\n",
       "      <th></th>\n",
       "      <th>day</th>\n",
       "      <th>num</th>\n",
       "      <th>time</th>\n",
       "      <th>train</th>\n",
       "      <th>val</th>\n",
       "      <th>aug</th>\n",
       "      <th>size</th>\n",
       "    </tr>\n",
       "  </thead>\n",
       "  <tbody>\n",
       "    <tr>\n",
       "      <th>100</th>\n",
       "      <td>2019-03-19</td>\n",
       "      <td>380</td>\n",
       "      <td>2019-03-19 12:21:56</td>\n",
       "      <td>0.53147</td>\n",
       "      <td>0.551423</td>\n",
       "      <td>True</td>\n",
       "      <td>256</td>\n",
       "    </tr>\n",
       "  </tbody>\n",
       "</table>\n",
       "</div>"
      ],
      "text/plain": [
       "           day  num                time    train       val   aug  size\n",
       "100 2019-03-19  380 2019-03-19 12:21:56  0.53147  0.551423  True   256"
      ]
     },
     "execution_count": 63,
     "metadata": {},
     "output_type": "execute_result"
    }
   ],
   "source": [
    "aug256.loc[(aug256['num']==380)&(aug256['val']>0.55)]"
   ]
  },
  {
   "cell_type": "code",
   "execution_count": 64,
   "metadata": {},
   "outputs": [
    {
     "data": {
      "text/html": [
       "<div>\n",
       "<style scoped>\n",
       "    .dataframe tbody tr th:only-of-type {\n",
       "        vertical-align: middle;\n",
       "    }\n",
       "\n",
       "    .dataframe tbody tr th {\n",
       "        vertical-align: top;\n",
       "    }\n",
       "\n",
       "    .dataframe thead th {\n",
       "        text-align: right;\n",
       "    }\n",
       "</style>\n",
       "<table border=\"1\" class=\"dataframe\">\n",
       "  <thead>\n",
       "    <tr style=\"text-align: right;\">\n",
       "      <th></th>\n",
       "      <th>day</th>\n",
       "      <th>num</th>\n",
       "      <th>time</th>\n",
       "      <th>train</th>\n",
       "      <th>val</th>\n",
       "      <th>aug</th>\n",
       "      <th>size</th>\n",
       "    </tr>\n",
       "  </thead>\n",
       "  <tbody>\n",
       "    <tr>\n",
       "      <th>116</th>\n",
       "      <td>2019-03-19</td>\n",
       "      <td>380</td>\n",
       "      <td>2019-03-19 12:52:36</td>\n",
       "      <td>0.598914</td>\n",
       "      <td>0.542577</td>\n",
       "      <td>True</td>\n",
       "      <td>256</td>\n",
       "    </tr>\n",
       "  </tbody>\n",
       "</table>\n",
       "</div>"
      ],
      "text/plain": [
       "           day  num                time     train       val   aug  size\n",
       "116 2019-03-19  380 2019-03-19 12:52:36  0.598914  0.542577  True   256"
      ]
     },
     "execution_count": 64,
     "metadata": {},
     "output_type": "execute_result"
    }
   ],
   "source": [
    "aug256.loc[(aug256['num']==380)&(aug256['train']>0.598)]"
   ]
  },
  {
   "cell_type": "markdown",
   "metadata": {},
   "source": [
    "### 2/8"
   ]
  },
  {
   "cell_type": "code",
   "execution_count": 66,
   "metadata": {},
   "outputs": [
    {
     "data": {
      "text/html": [
       "<div>\n",
       "<style scoped>\n",
       "    .dataframe tbody tr th:only-of-type {\n",
       "        vertical-align: middle;\n",
       "    }\n",
       "\n",
       "    .dataframe tbody tr th {\n",
       "        vertical-align: top;\n",
       "    }\n",
       "\n",
       "    .dataframe thead th {\n",
       "        text-align: right;\n",
       "    }\n",
       "</style>\n",
       "<table border=\"1\" class=\"dataframe\">\n",
       "  <thead>\n",
       "    <tr style=\"text-align: right;\">\n",
       "      <th></th>\n",
       "      <th>day</th>\n",
       "      <th>num</th>\n",
       "      <th>time</th>\n",
       "      <th>train</th>\n",
       "      <th>val</th>\n",
       "      <th>aug</th>\n",
       "      <th>size</th>\n",
       "    </tr>\n",
       "  </thead>\n",
       "  <tbody>\n",
       "    <tr>\n",
       "      <th>302</th>\n",
       "      <td>2019-03-21</td>\n",
       "      <td>607</td>\n",
       "      <td>2019-03-21 18:48:30</td>\n",
       "      <td>0.487963</td>\n",
       "      <td>0.614695</td>\n",
       "      <td>True</td>\n",
       "      <td>256</td>\n",
       "    </tr>\n",
       "  </tbody>\n",
       "</table>\n",
       "</div>"
      ],
      "text/plain": [
       "           day  num                time     train       val   aug  size\n",
       "302 2019-03-21  607 2019-03-21 18:48:30  0.487963  0.614695  True   256"
      ]
     },
     "execution_count": 66,
     "metadata": {},
     "output_type": "execute_result"
    }
   ],
   "source": [
    "aug256.loc[(aug256['num']==607)&(aug256['val']>0.61)]"
   ]
  },
  {
   "cell_type": "code",
   "execution_count": 65,
   "metadata": {},
   "outputs": [
    {
     "data": {
      "text/html": [
       "<div>\n",
       "<style scoped>\n",
       "    .dataframe tbody tr th:only-of-type {\n",
       "        vertical-align: middle;\n",
       "    }\n",
       "\n",
       "    .dataframe tbody tr th {\n",
       "        vertical-align: top;\n",
       "    }\n",
       "\n",
       "    .dataframe thead th {\n",
       "        text-align: right;\n",
       "    }\n",
       "</style>\n",
       "<table border=\"1\" class=\"dataframe\">\n",
       "  <thead>\n",
       "    <tr style=\"text-align: right;\">\n",
       "      <th></th>\n",
       "      <th>day</th>\n",
       "      <th>num</th>\n",
       "      <th>time</th>\n",
       "      <th>train</th>\n",
       "      <th>val</th>\n",
       "      <th>aug</th>\n",
       "      <th>size</th>\n",
       "    </tr>\n",
       "  </thead>\n",
       "  <tbody>\n",
       "    <tr>\n",
       "      <th>293</th>\n",
       "      <td>2019-03-21</td>\n",
       "      <td>607</td>\n",
       "      <td>2019-03-21 18:16:27</td>\n",
       "      <td>0.54643</td>\n",
       "      <td>0.46595</td>\n",
       "      <td>True</td>\n",
       "      <td>256</td>\n",
       "    </tr>\n",
       "  </tbody>\n",
       "</table>\n",
       "</div>"
      ],
      "text/plain": [
       "           day  num                time    train      val   aug  size\n",
       "293 2019-03-21  607 2019-03-21 18:16:27  0.54643  0.46595  True   256"
      ]
     },
     "execution_count": 65,
     "metadata": {},
     "output_type": "execute_result"
    }
   ],
   "source": [
    "aug256.loc[(aug256['num']==607)&(aug256['train']>0.546)]"
   ]
  },
  {
   "cell_type": "markdown",
   "metadata": {},
   "source": [
    "## With 10 times augmentation, 512"
   ]
  },
  {
   "cell_type": "code",
   "execution_count": 67,
   "metadata": {},
   "outputs": [],
   "source": [
    "aug512 = log_df_clean.loc[(log_df_clean['size']==512)&\n",
    "                        (log_df_clean['aug']==True)]"
   ]
  },
  {
   "cell_type": "markdown",
   "metadata": {},
   "source": [
    "### 2/8"
   ]
  },
  {
   "cell_type": "code",
   "execution_count": 68,
   "metadata": {},
   "outputs": [
    {
     "data": {
      "text/html": [
       "<div>\n",
       "<style scoped>\n",
       "    .dataframe tbody tr th:only-of-type {\n",
       "        vertical-align: middle;\n",
       "    }\n",
       "\n",
       "    .dataframe tbody tr th {\n",
       "        vertical-align: top;\n",
       "    }\n",
       "\n",
       "    .dataframe thead th {\n",
       "        text-align: right;\n",
       "    }\n",
       "</style>\n",
       "<table border=\"1\" class=\"dataframe\">\n",
       "  <thead>\n",
       "    <tr style=\"text-align: right;\">\n",
       "      <th></th>\n",
       "      <th>train</th>\n",
       "      <th>val</th>\n",
       "    </tr>\n",
       "    <tr>\n",
       "      <th>num</th>\n",
       "      <th></th>\n",
       "      <th></th>\n",
       "    </tr>\n",
       "  </thead>\n",
       "  <tbody>\n",
       "    <tr>\n",
       "      <th>380</th>\n",
       "      <td>0.478577</td>\n",
       "      <td>0.581051</td>\n",
       "    </tr>\n",
       "    <tr>\n",
       "      <th>607</th>\n",
       "      <td>0.519097</td>\n",
       "      <td>0.615890</td>\n",
       "    </tr>\n",
       "  </tbody>\n",
       "</table>\n",
       "</div>"
      ],
      "text/plain": [
       "        train       val\n",
       "num                    \n",
       "380  0.478577  0.581051\n",
       "607  0.519097  0.615890"
      ]
     },
     "execution_count": 68,
     "metadata": {},
     "output_type": "execute_result"
    }
   ],
   "source": [
    "aug512.groupby('num')['train', 'val'].max()"
   ]
  },
  {
   "cell_type": "code",
   "execution_count": 70,
   "metadata": {},
   "outputs": [
    {
     "data": {
      "text/html": [
       "<div>\n",
       "<style scoped>\n",
       "    .dataframe tbody tr th:only-of-type {\n",
       "        vertical-align: middle;\n",
       "    }\n",
       "\n",
       "    .dataframe tbody tr th {\n",
       "        vertical-align: top;\n",
       "    }\n",
       "\n",
       "    .dataframe thead th {\n",
       "        text-align: right;\n",
       "    }\n",
       "</style>\n",
       "<table border=\"1\" class=\"dataframe\">\n",
       "  <thead>\n",
       "    <tr style=\"text-align: right;\">\n",
       "      <th></th>\n",
       "      <th>day</th>\n",
       "      <th>num</th>\n",
       "      <th>time</th>\n",
       "      <th>train</th>\n",
       "      <th>val</th>\n",
       "      <th>aug</th>\n",
       "      <th>size</th>\n",
       "    </tr>\n",
       "  </thead>\n",
       "  <tbody>\n",
       "    <tr>\n",
       "      <th>55</th>\n",
       "      <td>2019-03-20</td>\n",
       "      <td>607</td>\n",
       "      <td>2019-03-20 16:42:07</td>\n",
       "      <td>0.519097</td>\n",
       "      <td>0.506571</td>\n",
       "      <td>True</td>\n",
       "      <td>512</td>\n",
       "    </tr>\n",
       "  </tbody>\n",
       "</table>\n",
       "</div>"
      ],
      "text/plain": [
       "          day  num                time     train       val   aug  size\n",
       "55 2019-03-20  607 2019-03-20 16:42:07  0.519097  0.506571  True   512"
      ]
     },
     "execution_count": 70,
     "metadata": {},
     "output_type": "execute_result"
    }
   ],
   "source": [
    "aug512.loc[(aug512['num']==607)&(aug512['train']>0.519)]"
   ]
  },
  {
   "cell_type": "code",
   "execution_count": 71,
   "metadata": {
    "scrolled": true
   },
   "outputs": [
    {
     "data": {
      "text/html": [
       "<div>\n",
       "<style scoped>\n",
       "    .dataframe tbody tr th:only-of-type {\n",
       "        vertical-align: middle;\n",
       "    }\n",
       "\n",
       "    .dataframe tbody tr th {\n",
       "        vertical-align: top;\n",
       "    }\n",
       "\n",
       "    .dataframe thead th {\n",
       "        text-align: right;\n",
       "    }\n",
       "</style>\n",
       "<table border=\"1\" class=\"dataframe\">\n",
       "  <thead>\n",
       "    <tr style=\"text-align: right;\">\n",
       "      <th></th>\n",
       "      <th>day</th>\n",
       "      <th>num</th>\n",
       "      <th>time</th>\n",
       "      <th>train</th>\n",
       "      <th>val</th>\n",
       "      <th>aug</th>\n",
       "      <th>size</th>\n",
       "    </tr>\n",
       "  </thead>\n",
       "  <tbody>\n",
       "    <tr>\n",
       "      <th>84</th>\n",
       "      <td>2019-03-20</td>\n",
       "      <td>607</td>\n",
       "      <td>2019-03-20 18:27:30</td>\n",
       "      <td>0.488053</td>\n",
       "      <td>0.61589</td>\n",
       "      <td>True</td>\n",
       "      <td>512</td>\n",
       "    </tr>\n",
       "  </tbody>\n",
       "</table>\n",
       "</div>"
      ],
      "text/plain": [
       "          day  num                time     train      val   aug  size\n",
       "84 2019-03-20  607 2019-03-20 18:27:30  0.488053  0.61589  True   512"
      ]
     },
     "execution_count": 71,
     "metadata": {},
     "output_type": "execute_result"
    }
   ],
   "source": [
    "aug512.loc[(aug512['num']==607)&(aug512['val']>0.61)]"
   ]
  },
  {
   "cell_type": "markdown",
   "metadata": {},
   "source": [
    "### 5/5"
   ]
  },
  {
   "cell_type": "code",
   "execution_count": 72,
   "metadata": {},
   "outputs": [
    {
     "data": {
      "text/html": [
       "<div>\n",
       "<style scoped>\n",
       "    .dataframe tbody tr th:only-of-type {\n",
       "        vertical-align: middle;\n",
       "    }\n",
       "\n",
       "    .dataframe tbody tr th {\n",
       "        vertical-align: top;\n",
       "    }\n",
       "\n",
       "    .dataframe thead th {\n",
       "        text-align: right;\n",
       "    }\n",
       "</style>\n",
       "<table border=\"1\" class=\"dataframe\">\n",
       "  <thead>\n",
       "    <tr style=\"text-align: right;\">\n",
       "      <th></th>\n",
       "      <th>day</th>\n",
       "      <th>num</th>\n",
       "      <th>time</th>\n",
       "      <th>train</th>\n",
       "      <th>val</th>\n",
       "      <th>aug</th>\n",
       "      <th>size</th>\n",
       "    </tr>\n",
       "  </thead>\n",
       "  <tbody>\n",
       "    <tr>\n",
       "      <th>349</th>\n",
       "      <td>2019-03-22</td>\n",
       "      <td>380</td>\n",
       "      <td>2019-03-22 01:01:09</td>\n",
       "      <td>0.402818</td>\n",
       "      <td>0.581051</td>\n",
       "      <td>True</td>\n",
       "      <td>512</td>\n",
       "    </tr>\n",
       "  </tbody>\n",
       "</table>\n",
       "</div>"
      ],
      "text/plain": [
       "           day  num                time     train       val   aug  size\n",
       "349 2019-03-22  380 2019-03-22 01:01:09  0.402818  0.581051  True   512"
      ]
     },
     "execution_count": 72,
     "metadata": {},
     "output_type": "execute_result"
    }
   ],
   "source": [
    "aug512.loc[(aug512['num']==380)&(aug512['val']>0.58)]"
   ]
  },
  {
   "cell_type": "code",
   "execution_count": 73,
   "metadata": {},
   "outputs": [
    {
     "data": {
      "text/html": [
       "<div>\n",
       "<style scoped>\n",
       "    .dataframe tbody tr th:only-of-type {\n",
       "        vertical-align: middle;\n",
       "    }\n",
       "\n",
       "    .dataframe tbody tr th {\n",
       "        vertical-align: top;\n",
       "    }\n",
       "\n",
       "    .dataframe thead th {\n",
       "        text-align: right;\n",
       "    }\n",
       "</style>\n",
       "<table border=\"1\" class=\"dataframe\">\n",
       "  <thead>\n",
       "    <tr style=\"text-align: right;\">\n",
       "      <th></th>\n",
       "      <th>day</th>\n",
       "      <th>num</th>\n",
       "      <th>time</th>\n",
       "      <th>train</th>\n",
       "      <th>val</th>\n",
       "      <th>aug</th>\n",
       "      <th>size</th>\n",
       "    </tr>\n",
       "  </thead>\n",
       "  <tbody>\n",
       "    <tr>\n",
       "      <th>360</th>\n",
       "      <td>2019-03-22</td>\n",
       "      <td>380</td>\n",
       "      <td>2019-03-22 01:31:59</td>\n",
       "      <td>0.478577</td>\n",
       "      <td>0.502505</td>\n",
       "      <td>True</td>\n",
       "      <td>512</td>\n",
       "    </tr>\n",
       "  </tbody>\n",
       "</table>\n",
       "</div>"
      ],
      "text/plain": [
       "           day  num                time     train       val   aug  size\n",
       "360 2019-03-22  380 2019-03-22 01:31:59  0.478577  0.502505  True   512"
      ]
     },
     "execution_count": 73,
     "metadata": {},
     "output_type": "execute_result"
    }
   ],
   "source": [
    "aug512.loc[(aug512['num']==380)&(aug512['train']>0.47)]"
   ]
  },
  {
   "cell_type": "markdown",
   "metadata": {},
   "source": [
    "## Superpara"
   ]
  },
  {
   "cell_type": "code",
   "execution_count": 76,
   "metadata": {},
   "outputs": [],
   "source": [
    "group = log_df_clean.loc[log_df_clean['num']==607]"
   ]
  },
  {
   "cell_type": "code",
   "execution_count": 77,
   "metadata": {},
   "outputs": [
    {
     "data": {
      "text/plain": [
       "160"
      ]
     },
     "execution_count": 77,
     "metadata": {},
     "output_type": "execute_result"
    }
   ],
   "source": [
    "len(group)"
   ]
  },
  {
   "cell_type": "code",
   "execution_count": 78,
   "metadata": {},
   "outputs": [],
   "source": [
    "import matplotlib.pyplot as plt\n",
    "import seaborn as sns\n",
    "from scipy.stats import ttest_ind, pearsonr"
   ]
  },
  {
   "cell_type": "code",
   "execution_count": null,
   "metadata": {
    "scrolled": true
   },
   "outputs": [],
   "source": [
    "fig, axes = plt.subplots(2, 2, figsize=(14, 7), sharex='col', sharey='row');\n",
    "axes_f = axes.flatten()\n",
    "# sns.set()\n",
    "test_loc = 'A B C D'.split()\n",
    "for idx, (num, title) in enumerate(zip((256, 512), ('narmal size', 'large size'))) :\n",
    "    ax = axes_f[idx]\n",
    "    g_y = group.loc[(group['aug']==True)&(group['size']==num), 'val'].tolist()\n",
    "    g_x  = group.loc[(group['aug']==False)&(group['size']==num), 'val'].tolist()\n",
    "    sns.distplot(g_y, ax = ax, label='with augmentation')\n",
    "    sns.distplot(g_x, ax = ax, label='without augmentation')\n",
    "    ax.set_title(title)\n",
    "    p = ttest_ind(g_y, g_x)[1]\n",
    "    ax.text(0.9, 0.15, \"p-value = {:.3f}\".format(p), horizontalalignment='center',\n",
    "    verticalalignment='center',transform = ax.transAxes, fontsize=\"medium\")\n",
    "    ax.text(0.05, 0.92, test_loc[idx], horizontalalignment='center',\n",
    "        verticalalignment='center',transform = ax.transAxes, fontsize=\"small\")\n",
    "    ax.legend(bbox_to_anchor=(0.98, 0.9), loc=1, borderaxespad=0.)\n",
    "    \n",
    "for idx, (aug, title) in enumerate(zip((True, False), ('with augmentation', 'without augmentation')), start=idx+1) :\n",
    "    ax = axes_f[idx]\n",
    "    g_y = group.loc[(group['aug']==aug)&(group['size']==256), 'val'].tolist()\n",
    "    g_x  = group.loc[(group['aug']==aug)&(group['size']==512), 'val'].tolist()\n",
    "    sns.distplot(g_y, ax = ax, label='normal size')\n",
    "    sns.distplot(g_x, ax = ax, label='large size')\n",
    "    ax.set_title(title)\n",
    "    p = ttest_ind(g_y, g_x)[1]\n",
    "    ax.text(0.9, 0.15, \"p-value = {:.4f}\".format(p), horizontalalignment='center',\n",
    "    verticalalignment='center',transform = ax.transAxes, fontsize=\"medium\")\n",
    "    ax.text(0.05, 0.92, test_loc[idx], horizontalalignment='center',\n",
    "    verticalalignment='center',transform = ax.transAxes, fontsize=\"small\")\n",
    "    ax.legend(bbox_to_anchor=(0.98, 0.9), loc=1, borderaxespad=0.)\n",
    "\n",
    "plt.tight_layout()"
   ]
  },
  {
   "cell_type": "code",
   "execution_count": 132,
   "metadata": {},
   "outputs": [],
   "source": [
    "import matplotlib as mpl\n",
    "\n",
    "sns.set()\n",
    "mpl.rcParams['font.sans-serif'] = ['SimHei']\n",
    "mpl.rcParams['font.serif'] = ['SimHei']\n",
    "\n",
    "sns.set_style(\"darkgrid\",{\"font.sans-serif\":['simhei', 'Arial']})"
   ]
  },
  {
   "cell_type": "code",
   "execution_count": null,
   "metadata": {},
   "outputs": [],
   "source": [
    "fig, axes = plt.subplots(2, 2, figsize=(13, 7), sharex='col', sharey='row');\n",
    "axes_f = axes.flatten()\n",
    "test_loc = 'A B C D'.split()\n",
    "for idx, (num, title) in enumerate(zip((256, 512), ('narmal size', '增大模型'))) :\n",
    "    ax = axes_f[idx]\n",
    "    g_y = group.loc[(group['aug']==True)&(group['size']==num), 'val'].tolist()\n",
    "    g_x  = group.loc[(group['aug']==False)&(group['size']==num), 'val'].tolist()\n",
    "    sns.distplot(g_y, ax = ax, label='使用数据增强')\n",
    "    sns.distplot(g_x, ax = ax, label='不使用数据增强')\n",
    "#     ax.set_title(title)\n",
    "    p = ttest_ind(g_y, g_x)[1]\n",
    "    ax.text(0.88, 0.25, \"p值 = {:.3f}\".format(p), horizontalalignment='center',\n",
    "    verticalalignment='center',transform = ax.transAxes, fontsize=\"medium\")\n",
    "    ax.text(0.05, 0.92, test_loc[idx], horizontalalignment='center',\n",
    "        verticalalignment='center',transform = ax.transAxes, fontsize=\"medium\")\n",
    "    ax.legend(bbox_to_anchor=(0.98, 0.9), loc=1, borderaxespad=0.)\n",
    "#     ax.set(ylabel='c值 (c index)')\n",
    "    \n",
    "for idx, (aug, title) in enumerate(zip((True, False), ('使用数据增强', '不使用数据增强')), start=idx+1) :\n",
    "    ax = axes_f[idx]\n",
    "    g_y = group.loc[(group['aug']==aug)&(group['size']==256), 'val'].tolist()\n",
    "    g_x  = group.loc[(group['aug']==aug)&(group['size']==512), 'val'].tolist()\n",
    "    sns.distplot(g_y, ax = ax, label='基本模型')\n",
    "    sns.distplot(g_x, ax = ax, label='增大模型')\n",
    "#     ax.set_title(title)\n",
    "    p = ttest_ind(g_y, g_x)[1]\n",
    "    ax.text(0.88, 0.25, \"p值 = {:.3f}\".format(p), horizontalalignment='center',\n",
    "    verticalalignment='center',transform = ax.transAxes, fontsize=\"medium\")\n",
    "    ax.text(0.05, 0.92, test_loc[idx], horizontalalignment='center',\n",
    "    verticalalignment='center',transform = ax.transAxes, fontsize=\"medium\")\n",
    "    ax.legend(bbox_to_anchor=(0.98, 0.9), loc=1, borderaxespad=0.)\n",
    "#     ax.set(xlabel='密度', ylabel='c值 (c index)')\n",
    "fig.text(0.5,0., \"c值 (c index)\", ha=\"center\", va=\"center\")\n",
    "fig.text(0,0.5, \"密度\", ha=\"center\", va=\"center\", rotation=90)\n",
    "plt.tight_layout()\n",
    "plt.savefig('comp.png', dpi=300, bbox_inches=\"tight\")"
   ]
  },
  {
   "cell_type": "markdown",
   "metadata": {},
   "source": [
    "### 400 Times"
   ]
  },
  {
   "cell_type": "code",
   "execution_count": 8,
   "metadata": {},
   "outputs": [],
   "source": [
    "p0 = log_df1.loc[(log_df1.time<='2019-03-21 00:01:19')&\n",
    "                 (log_df1.time>=' 2019-03-20 21:29:28')]"
   ]
  },
  {
   "cell_type": "code",
   "execution_count": 9,
   "metadata": {},
   "outputs": [],
   "source": [
    "p1 = log_df1.loc[(log_df1.time<='2019-03-21 02:03:50')&\n",
    "                 (log_df1.time>='2019-03-21 00:23:23')]"
   ]
  },
  {
   "cell_type": "code",
   "execution_count": 10,
   "metadata": {},
   "outputs": [],
   "source": [
    "p2 = log_df1.loc[(log_df1.time<='2019-03-22 19:01:44')&\n",
    "                 (log_df1.time>='2019-03-22 11:36:15')]"
   ]
  },
  {
   "cell_type": "code",
   "execution_count": 11,
   "metadata": {},
   "outputs": [],
   "source": [
    "p = (p0.append(p1)).append(p2)"
   ]
  },
  {
   "cell_type": "code",
   "execution_count": 12,
   "metadata": {},
   "outputs": [
    {
     "data": {
      "text/plain": [
       "400"
      ]
     },
     "execution_count": 12,
     "metadata": {},
     "output_type": "execute_result"
    }
   ],
   "source": [
    "len(p)"
   ]
  },
  {
   "cell_type": "code",
   "execution_count": 14,
   "metadata": {},
   "outputs": [],
   "source": [
    "p['aug'] = False\n",
    "p['size'] = 256"
   ]
  },
  {
   "cell_type": "code",
   "execution_count": 15,
   "metadata": {},
   "outputs": [],
   "source": [
    "p.to_excel('../data/256_400time.xlsx')"
   ]
  },
  {
   "cell_type": "code",
   "execution_count": 13,
   "metadata": {},
   "outputs": [
    {
     "data": {
      "text/html": [
       "<div>\n",
       "<style scoped>\n",
       "    .dataframe tbody tr th:only-of-type {\n",
       "        vertical-align: middle;\n",
       "    }\n",
       "\n",
       "    .dataframe tbody tr th {\n",
       "        vertical-align: top;\n",
       "    }\n",
       "\n",
       "    .dataframe thead th {\n",
       "        text-align: right;\n",
       "    }\n",
       "</style>\n",
       "<table border=\"1\" class=\"dataframe\">\n",
       "  <thead>\n",
       "    <tr style=\"text-align: right;\">\n",
       "      <th></th>\n",
       "      <th>day</th>\n",
       "      <th>time</th>\n",
       "      <th>train</th>\n",
       "      <th>num</th>\n",
       "      <th>val</th>\n",
       "    </tr>\n",
       "  </thead>\n",
       "  <tbody>\n",
       "    <tr>\n",
       "      <th>96</th>\n",
       "      <td>2019-03-20</td>\n",
       "      <td>2019-03-20 21:30:52</td>\n",
       "      <td>0.488777</td>\n",
       "      <td>607</td>\n",
       "      <td>0.522700</td>\n",
       "    </tr>\n",
       "    <tr>\n",
       "      <th>97</th>\n",
       "      <td>2019-03-20</td>\n",
       "      <td>2019-03-20 21:32:34</td>\n",
       "      <td>0.514662</td>\n",
       "      <td>607</td>\n",
       "      <td>0.560335</td>\n",
       "    </tr>\n",
       "    <tr>\n",
       "      <th>98</th>\n",
       "      <td>2019-03-20</td>\n",
       "      <td>2019-03-20 21:34:15</td>\n",
       "      <td>0.485881</td>\n",
       "      <td>607</td>\n",
       "      <td>0.547192</td>\n",
       "    </tr>\n",
       "    <tr>\n",
       "      <th>99</th>\n",
       "      <td>2019-03-20</td>\n",
       "      <td>2019-03-20 21:35:56</td>\n",
       "      <td>0.522717</td>\n",
       "      <td>607</td>\n",
       "      <td>0.581243</td>\n",
       "    </tr>\n",
       "    <tr>\n",
       "      <th>100</th>\n",
       "      <td>2019-03-20</td>\n",
       "      <td>2019-03-20 21:37:37</td>\n",
       "      <td>0.519278</td>\n",
       "      <td>607</td>\n",
       "      <td>0.591398</td>\n",
       "    </tr>\n",
       "  </tbody>\n",
       "</table>\n",
       "</div>"
      ],
      "text/plain": [
       "           day                time     train  num       val\n",
       "96  2019-03-20 2019-03-20 21:30:52  0.488777  607  0.522700\n",
       "97  2019-03-20 2019-03-20 21:32:34  0.514662  607  0.560335\n",
       "98  2019-03-20 2019-03-20 21:34:15  0.485881  607  0.547192\n",
       "99  2019-03-20 2019-03-20 21:35:56  0.522717  607  0.581243\n",
       "100 2019-03-20 2019-03-20 21:37:37  0.519278  607  0.591398"
      ]
     },
     "execution_count": 13,
     "metadata": {},
     "output_type": "execute_result"
    }
   ],
   "source": [
    "p.head()"
   ]
  },
  {
   "cell_type": "code",
   "execution_count": 150,
   "metadata": {},
   "outputs": [
    {
     "data": {
      "text/html": [
       "<div>\n",
       "<style scoped>\n",
       "    .dataframe tbody tr th:only-of-type {\n",
       "        vertical-align: middle;\n",
       "    }\n",
       "\n",
       "    .dataframe tbody tr th {\n",
       "        vertical-align: top;\n",
       "    }\n",
       "\n",
       "    .dataframe thead th {\n",
       "        text-align: right;\n",
       "    }\n",
       "</style>\n",
       "<table border=\"1\" class=\"dataframe\">\n",
       "  <thead>\n",
       "    <tr style=\"text-align: right;\">\n",
       "      <th></th>\n",
       "      <th>day</th>\n",
       "      <th>time</th>\n",
       "      <th>train</th>\n",
       "      <th>num</th>\n",
       "      <th>val</th>\n",
       "    </tr>\n",
       "  </thead>\n",
       "  <tbody>\n",
       "    <tr>\n",
       "      <th>468</th>\n",
       "      <td>2019-03-22</td>\n",
       "      <td>2019-03-22 13:10:34</td>\n",
       "      <td>0.525975</td>\n",
       "      <td>607</td>\n",
       "      <td>0.725806</td>\n",
       "    </tr>\n",
       "  </tbody>\n",
       "</table>\n",
       "</div>"
      ],
      "text/plain": [
       "           day                time     train  num       val\n",
       "468 2019-03-22 2019-03-22 13:10:34  0.525975  607  0.725806"
      ]
     },
     "execution_count": 150,
     "metadata": {},
     "output_type": "execute_result"
    }
   ],
   "source": [
    "p.loc[p.val==p.val.max()]"
   ]
  },
  {
   "cell_type": "code",
   "execution_count": 151,
   "metadata": {},
   "outputs": [
    {
     "data": {
      "text/html": [
       "<div>\n",
       "<style scoped>\n",
       "    .dataframe tbody tr th:only-of-type {\n",
       "        vertical-align: middle;\n",
       "    }\n",
       "\n",
       "    .dataframe tbody tr th {\n",
       "        vertical-align: top;\n",
       "    }\n",
       "\n",
       "    .dataframe thead th {\n",
       "        text-align: right;\n",
       "    }\n",
       "</style>\n",
       "<table border=\"1\" class=\"dataframe\">\n",
       "  <thead>\n",
       "    <tr style=\"text-align: right;\">\n",
       "      <th></th>\n",
       "      <th>day</th>\n",
       "      <th>time</th>\n",
       "      <th>train</th>\n",
       "      <th>num</th>\n",
       "      <th>val</th>\n",
       "    </tr>\n",
       "  </thead>\n",
       "  <tbody>\n",
       "    <tr>\n",
       "      <th>673</th>\n",
       "      <td>2019-03-22</td>\n",
       "      <td>2019-03-22 18:19:32</td>\n",
       "      <td>0.610915</td>\n",
       "      <td>607</td>\n",
       "      <td>0.691756</td>\n",
       "    </tr>\n",
       "  </tbody>\n",
       "</table>\n",
       "</div>"
      ],
      "text/plain": [
       "           day                time     train  num       val\n",
       "673 2019-03-22 2019-03-22 18:19:32  0.610915  607  0.691756"
      ]
     },
     "execution_count": 151,
     "metadata": {},
     "output_type": "execute_result"
    }
   ],
   "source": [
    "p.loc[p.train==p.train.max()]"
   ]
  },
  {
   "cell_type": "code",
   "execution_count": 152,
   "metadata": {},
   "outputs": [],
   "source": [
    "vals = p.val.tolist()\n",
    "trains = p.train.tolist()"
   ]
  },
  {
   "cell_type": "code",
   "execution_count": null,
   "metadata": {
    "scrolled": true
   },
   "outputs": [],
   "source": [
    "plt.figure(dpi=100)\n",
    "plt.plot(vals)\n",
    "plt.xlabel('次数')\n",
    "plt.ylabel('c值 (c index)')\n",
    "plt.savefig('c.png', dpi=300)"
   ]
  },
  {
   "cell_type": "code",
   "execution_count": null,
   "metadata": {},
   "outputs": [],
   "source": [
    "plt.figure(dpi=100)\n",
    "plt.plot(trains)"
   ]
  }
 ],
 "metadata": {
  "kernelspec": {
   "display_name": "Python 3",
   "language": "python",
   "name": "python3"
  },
  "language_info": {
   "codemirror_mode": {
    "name": "ipython",
    "version": 3
   },
   "file_extension": ".py",
   "mimetype": "text/x-python",
   "name": "python",
   "nbconvert_exporter": "python",
   "pygments_lexer": "ipython3",
   "version": "3.6.8"
  }
 },
 "nbformat": 4,
 "nbformat_minor": 2
}
